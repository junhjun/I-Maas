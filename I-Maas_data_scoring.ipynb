{
 "cells": [
  {
   "cell_type": "markdown",
   "metadata": {},
   "source": [
    "# (1) 기존 데이터 업로드\n",
    "- 기준이 되는 DTG 데이터(15개) 불러오기\n",
    "    - 차원축소 전 DE / 차원축소 후 DE\n",
    "- Clustering\n",
    "- 평가지표 구축"
   ]
  },
  {
   "cell_type": "markdown",
   "metadata": {},
   "source": [
    "# (2) 운전자 평가\n",
    "- 운전자 데이터 불러오기\n",
    "- Scoring"
   ]
  },
  {
   "cell_type": "code",
   "execution_count": 1361,
   "metadata": {},
   "outputs": [],
   "source": [
    "import pandas as pd\n",
    "import numpy as np\n",
    "from time import time\n",
    "import matplotlib.pyplot as plt\n",
    "import os"
   ]
  },
  {
   "cell_type": "code",
   "execution_count": 1362,
   "metadata": {},
   "outputs": [
    {
     "data": {
      "text/plain": [
       "(15, 3)"
      ]
     },
     "execution_count": 1362,
     "metadata": {},
     "output_type": "execute_result"
    }
   ],
   "source": [
    "# 차원축소 전 DE array\n",
    "get_DE = np.load(\"driving_event_PREV.npy\")\n",
    "driving_event = get_DE\n",
    "driving_event[0].shape"
   ]
  },
  {
   "cell_type": "code",
   "execution_count": 1363,
   "metadata": {},
   "outputs": [],
   "source": [
    "data_DE_df = {\n",
    "    'driving event data(15X3)' : [driving_event[i] for i in range(len(driving_event))],\n",
    "    'idx' : [j for j in range(len(driving_event))]\n",
    "}"
   ]
  },
  {
   "cell_type": "code",
   "execution_count": 1364,
   "metadata": {},
   "outputs": [
    {
     "data": {
      "text/html": [
       "<div>\n",
       "<style scoped>\n",
       "    .dataframe tbody tr th:only-of-type {\n",
       "        vertical-align: middle;\n",
       "    }\n",
       "\n",
       "    .dataframe tbody tr th {\n",
       "        vertical-align: top;\n",
       "    }\n",
       "\n",
       "    .dataframe thead th {\n",
       "        text-align: right;\n",
       "    }\n",
       "</style>\n",
       "<table border=\"1\" class=\"dataframe\">\n",
       "  <thead>\n",
       "    <tr style=\"text-align: right;\">\n",
       "      <th></th>\n",
       "      <th>driving event data(15X3)</th>\n",
       "      <th>idx</th>\n",
       "    </tr>\n",
       "  </thead>\n",
       "  <tbody>\n",
       "    <tr>\n",
       "      <th>0</th>\n",
       "      <td>[[0.0, 0.0, 3.0], [0.0, 0.0, 9.0], [0.0, 0.0, ...</td>\n",
       "      <td>0</td>\n",
       "    </tr>\n",
       "    <tr>\n",
       "      <th>1</th>\n",
       "      <td>[[0.0, 0.0, 9.0], [0.0, 0.0, 9.0], [0.0, 0.0, ...</td>\n",
       "      <td>1</td>\n",
       "    </tr>\n",
       "    <tr>\n",
       "      <th>2</th>\n",
       "      <td>[[0.0, 0.0, 9.0], [0.0, 0.0, -247.0], [0.0, 0....</td>\n",
       "      <td>2</td>\n",
       "    </tr>\n",
       "    <tr>\n",
       "      <th>3</th>\n",
       "      <td>[[0.0, 0.0, -247.0], [0.0, 0.0, 269.0], [0.0, ...</td>\n",
       "      <td>3</td>\n",
       "    </tr>\n",
       "    <tr>\n",
       "      <th>4</th>\n",
       "      <td>[[0.0, 0.0, 269.0], [0.0, 0.0, -269.0], [0.0, ...</td>\n",
       "      <td>4</td>\n",
       "    </tr>\n",
       "    <tr>\n",
       "      <th>...</th>\n",
       "      <td>...</td>\n",
       "      <td>...</td>\n",
       "    </tr>\n",
       "    <tr>\n",
       "      <th>39860</th>\n",
       "      <td>[[10.0, -6.0, 8.0], [5.0, -5.0, 5.0], [0.0, -5...</td>\n",
       "      <td>39860</td>\n",
       "    </tr>\n",
       "    <tr>\n",
       "      <th>39861</th>\n",
       "      <td>[[5.0, -5.0, 5.0], [0.0, -5.0, 7.0], [0.0, 0.0...</td>\n",
       "      <td>39861</td>\n",
       "    </tr>\n",
       "    <tr>\n",
       "      <th>39862</th>\n",
       "      <td>[[8.0, -4.0, 3.0], [5.0, -3.0, 3.0], [3.0, -2....</td>\n",
       "      <td>39862</td>\n",
       "    </tr>\n",
       "    <tr>\n",
       "      <th>39863</th>\n",
       "      <td>[[5.0, -3.0, 3.0], [3.0, -2.0, -355.0], [0.0, ...</td>\n",
       "      <td>39863</td>\n",
       "    </tr>\n",
       "    <tr>\n",
       "      <th>39864</th>\n",
       "      <td>[[3.0, -2.0, -355.0], [0.0, -3.0, -1.0], [0.0,...</td>\n",
       "      <td>39864</td>\n",
       "    </tr>\n",
       "  </tbody>\n",
       "</table>\n",
       "<p>39865 rows × 2 columns</p>\n",
       "</div>"
      ],
      "text/plain": [
       "                                driving event data(15X3)    idx\n",
       "0      [[0.0, 0.0, 3.0], [0.0, 0.0, 9.0], [0.0, 0.0, ...      0\n",
       "1      [[0.0, 0.0, 9.0], [0.0, 0.0, 9.0], [0.0, 0.0, ...      1\n",
       "2      [[0.0, 0.0, 9.0], [0.0, 0.0, -247.0], [0.0, 0....      2\n",
       "3      [[0.0, 0.0, -247.0], [0.0, 0.0, 269.0], [0.0, ...      3\n",
       "4      [[0.0, 0.0, 269.0], [0.0, 0.0, -269.0], [0.0, ...      4\n",
       "...                                                  ...    ...\n",
       "39860  [[10.0, -6.0, 8.0], [5.0, -5.0, 5.0], [0.0, -5...  39860\n",
       "39861  [[5.0, -5.0, 5.0], [0.0, -5.0, 7.0], [0.0, 0.0...  39861\n",
       "39862  [[8.0, -4.0, 3.0], [5.0, -3.0, 3.0], [3.0, -2....  39862\n",
       "39863  [[5.0, -3.0, 3.0], [3.0, -2.0, -355.0], [0.0, ...  39863\n",
       "39864  [[3.0, -2.0, -355.0], [0.0, -3.0, -1.0], [0.0,...  39864\n",
       "\n",
       "[39865 rows x 2 columns]"
      ]
     },
     "execution_count": 1364,
     "metadata": {},
     "output_type": "execute_result"
    }
   ],
   "source": [
    "# driving event df\n",
    "DE_df = pd.DataFrame(data_DE_df)\n",
    "DE_df"
   ]
  },
  {
   "cell_type": "code",
   "execution_count": null,
   "metadata": {},
   "outputs": [],
   "source": []
  },
  {
   "cell_type": "code",
   "execution_count": 1365,
   "metadata": {},
   "outputs": [
    {
     "data": {
      "text/plain": [
       "(30,)"
      ]
     },
     "execution_count": 1365,
     "metadata": {},
     "output_type": "execute_result"
    }
   ],
   "source": [
    "# 차원축소 된 DE array\n",
    "get_DE = np.load(\"driving_event_DR.npy\")\n",
    "driving_event_DR = get_DE\n",
    "driving_event_DR[0].shape"
   ]
  },
  {
   "cell_type": "code",
   "execution_count": 1366,
   "metadata": {},
   "outputs": [],
   "source": [
    "data_changed_DE_df = {\n",
    "    'driving event data(30)' : [driving_event_DR[i] for i in range(len(driving_event_DR))],\n",
    "    'idx' : [j for j in range(len(driving_event_DR))]\n",
    "}"
   ]
  },
  {
   "cell_type": "code",
   "execution_count": 1367,
   "metadata": {},
   "outputs": [
    {
     "data": {
      "text/html": [
       "<div>\n",
       "<style scoped>\n",
       "    .dataframe tbody tr th:only-of-type {\n",
       "        vertical-align: middle;\n",
       "    }\n",
       "\n",
       "    .dataframe tbody tr th {\n",
       "        vertical-align: top;\n",
       "    }\n",
       "\n",
       "    .dataframe thead th {\n",
       "        text-align: right;\n",
       "    }\n",
       "</style>\n",
       "<table border=\"1\" class=\"dataframe\">\n",
       "  <thead>\n",
       "    <tr style=\"text-align: right;\">\n",
       "      <th></th>\n",
       "      <th>driving event data(30)</th>\n",
       "      <th>idx</th>\n",
       "    </tr>\n",
       "  </thead>\n",
       "  <tbody>\n",
       "    <tr>\n",
       "      <th>0</th>\n",
       "      <td>[0.5631964, 0.3570503, 0.3486341, 0.4111206, 0...</td>\n",
       "      <td>0</td>\n",
       "    </tr>\n",
       "    <tr>\n",
       "      <th>1</th>\n",
       "      <td>[0.82596385, 0.3451176, 0.16424015, 0.68354446...</td>\n",
       "      <td>1</td>\n",
       "    </tr>\n",
       "    <tr>\n",
       "      <th>2</th>\n",
       "      <td>[0.3401604, 0.46820682, 0.8080732, 0.5400587, ...</td>\n",
       "      <td>2</td>\n",
       "    </tr>\n",
       "    <tr>\n",
       "      <th>3</th>\n",
       "      <td>[0.6577038, 0.5500536, 0.08612047, 0.67866397,...</td>\n",
       "      <td>3</td>\n",
       "    </tr>\n",
       "    <tr>\n",
       "      <th>4</th>\n",
       "      <td>[0.41522866, 0.4977831, 0.15830365, 0.21544863...</td>\n",
       "      <td>4</td>\n",
       "    </tr>\n",
       "    <tr>\n",
       "      <th>...</th>\n",
       "      <td>...</td>\n",
       "      <td>...</td>\n",
       "    </tr>\n",
       "    <tr>\n",
       "      <th>39860</th>\n",
       "      <td>[0.35980788, 0.30367425, 0.16662744, 0.3582050...</td>\n",
       "      <td>39860</td>\n",
       "    </tr>\n",
       "    <tr>\n",
       "      <th>39861</th>\n",
       "      <td>[0.5171944, 0.3589975, 0.17263225, 0.31191987,...</td>\n",
       "      <td>39861</td>\n",
       "    </tr>\n",
       "    <tr>\n",
       "      <th>39862</th>\n",
       "      <td>[0.78567827, 0.29146907, 0.031931605, 0.416538...</td>\n",
       "      <td>39862</td>\n",
       "    </tr>\n",
       "    <tr>\n",
       "      <th>39863</th>\n",
       "      <td>[0.7157611, 0.36277217, 0.63600796, 0.45562398...</td>\n",
       "      <td>39863</td>\n",
       "    </tr>\n",
       "    <tr>\n",
       "      <th>39864</th>\n",
       "      <td>[0.22576292, 0.6027877, 0.84700185, 0.92157257...</td>\n",
       "      <td>39864</td>\n",
       "    </tr>\n",
       "  </tbody>\n",
       "</table>\n",
       "<p>39865 rows × 2 columns</p>\n",
       "</div>"
      ],
      "text/plain": [
       "                                  driving event data(30)    idx\n",
       "0      [0.5631964, 0.3570503, 0.3486341, 0.4111206, 0...      0\n",
       "1      [0.82596385, 0.3451176, 0.16424015, 0.68354446...      1\n",
       "2      [0.3401604, 0.46820682, 0.8080732, 0.5400587, ...      2\n",
       "3      [0.6577038, 0.5500536, 0.08612047, 0.67866397,...      3\n",
       "4      [0.41522866, 0.4977831, 0.15830365, 0.21544863...      4\n",
       "...                                                  ...    ...\n",
       "39860  [0.35980788, 0.30367425, 0.16662744, 0.3582050...  39860\n",
       "39861  [0.5171944, 0.3589975, 0.17263225, 0.31191987,...  39861\n",
       "39862  [0.78567827, 0.29146907, 0.031931605, 0.416538...  39862\n",
       "39863  [0.7157611, 0.36277217, 0.63600796, 0.45562398...  39863\n",
       "39864  [0.22576292, 0.6027877, 0.84700185, 0.92157257...  39864\n",
       "\n",
       "[39865 rows x 2 columns]"
      ]
     },
     "execution_count": 1367,
     "metadata": {},
     "output_type": "execute_result"
    }
   ],
   "source": [
    "changed_DE_df = pd.DataFrame(data_changed_DE_df)\n",
    "changed_DE_df"
   ]
  },
  {
   "cell_type": "markdown",
   "metadata": {},
   "source": [
    "# K-means Clustering"
   ]
  },
  {
   "cell_type": "code",
   "execution_count": 1368,
   "metadata": {},
   "outputs": [
    {
     "name": "stdout",
     "output_type": "stream",
     "text": [
      "Requirement already satisfied: yellowbrick in c:\\users\\tactics\\anaconda3\\lib\\site-packages (1.5)\n",
      "Requirement already satisfied: matplotlib!=3.0.0,>=2.0.2 in c:\\users\\tactics\\anaconda3\\lib\\site-packages (from yellowbrick) (3.3.4)\n",
      "Requirement already satisfied: scikit-learn>=1.0.0 in c:\\users\\tactics\\anaconda3\\lib\\site-packages (from yellowbrick) (1.1.2)\n"
     ]
    },
    {
     "name": "stderr",
     "output_type": "stream",
     "text": [
      "WARNING: Ignoring invalid distribution -pencv-python (c:\\users\\tactics\\anaconda3\\lib\\site-packages)\n",
      "WARNING: Ignoring invalid distribution -illow (c:\\users\\tactics\\anaconda3\\lib\\site-packages)\n",
      "WARNING: Ignoring invalid distribution -pencv-python (c:\\users\\tactics\\anaconda3\\lib\\site-packages)\n",
      "WARNING: Ignoring invalid distribution -illow (c:\\users\\tactics\\anaconda3\\lib\\site-packages)\n",
      "WARNING: Ignoring invalid distribution -pencv-python (c:\\users\\tactics\\anaconda3\\lib\\site-packages)\n",
      "WARNING: Ignoring invalid distribution -illow (c:\\users\\tactics\\anaconda3\\lib\\site-packages)\n",
      "WARNING: Ignoring invalid distribution -pencv-python (c:\\users\\tactics\\anaconda3\\lib\\site-packages)\n",
      "WARNING: Ignoring invalid distribution -illow (c:\\users\\tactics\\anaconda3\\lib\\site-packages)\n",
      "WARNING: Ignoring invalid distribution -pencv-python (c:\\users\\tactics\\anaconda3\\lib\\site-packages)\n",
      "WARNING: Ignoring invalid distribution -illow (c:\\users\\tactics\\anaconda3\\lib\\site-packages)\n",
      "WARNING: Ignoring invalid distribution -pencv-python (c:\\users\\tactics\\anaconda3\\lib\\site-packages)\n",
      "WARNING: Ignoring invalid distribution -illow (c:\\users\\tactics\\anaconda3\\lib\\site-packages)\n",
      "\n",
      "[notice] A new release of pip available: 22.2.2 -> 22.3.1\n",
      "[notice] To update, run: python.exe -m pip install --upgrade pip\n"
     ]
    },
    {
     "name": "stdout",
     "output_type": "stream",
     "text": [
      "Requirement already satisfied: numpy>=1.16.0 in c:\\users\\tactics\\anaconda3\\lib\\site-packages (from yellowbrick) (1.21.6)\n",
      "Requirement already satisfied: cycler>=0.10.0 in c:\\users\\tactics\\anaconda3\\lib\\site-packages (from yellowbrick) (0.10.0)\n",
      "Requirement already satisfied: scipy>=1.0.0 in c:\\users\\tactics\\anaconda3\\lib\\site-packages (from yellowbrick) (1.7.1)\n",
      "Requirement already satisfied: six in c:\\users\\tactics\\anaconda3\\lib\\site-packages (from cycler>=0.10.0->yellowbrick) (1.16.0)\n",
      "Requirement already satisfied: python-dateutil>=2.1 in c:\\users\\tactics\\anaconda3\\lib\\site-packages (from matplotlib!=3.0.0,>=2.0.2->yellowbrick) (2.8.2)\n",
      "Requirement already satisfied: pyparsing!=2.0.4,!=2.1.2,!=2.1.6,>=2.0.3 in c:\\users\\tactics\\anaconda3\\lib\\site-packages (from matplotlib!=3.0.0,>=2.0.2->yellowbrick) (3.0.4)\n",
      "Requirement already satisfied: pillow>=6.2.0 in c:\\users\\tactics\\anaconda3\\lib\\site-packages (from matplotlib!=3.0.0,>=2.0.2->yellowbrick) (8.1.0)\n",
      "Requirement already satisfied: kiwisolver>=1.0.1 in c:\\users\\tactics\\anaconda3\\lib\\site-packages (from matplotlib!=3.0.0,>=2.0.2->yellowbrick) (1.3.1)\n",
      "Requirement already satisfied: joblib>=1.0.0 in c:\\users\\tactics\\anaconda3\\lib\\site-packages (from scikit-learn>=1.0.0->yellowbrick) (1.1.0)\n",
      "Requirement already satisfied: threadpoolctl>=2.0.0 in c:\\users\\tactics\\anaconda3\\lib\\site-packages (from scikit-learn>=1.0.0->yellowbrick) (2.2.0)\n",
      "Requirement already satisfied: sklearn in c:\\users\\tactics\\anaconda3\\lib\\site-packages (0.0)\n",
      "Requirement already satisfied: scikit-learn in c:\\users\\tactics\\anaconda3\\lib\\site-packages (from sklearn) (1.1.2)\n",
      "Requirement already satisfied: numpy>=1.17.3 in c:\\users\\tactics\\anaconda3\\lib\\site-packages (from scikit-learn->sklearn) (1.21.6)\n",
      "Requirement already satisfied: scipy>=1.3.2 in c:\\users\\tactics\\anaconda3\\lib\\site-packages (from scikit-learn->sklearn) (1.7.1)\n",
      "Requirement already satisfied: joblib>=1.0.0 in c:\\users\\tactics\\anaconda3\\lib\\site-packages (from scikit-learn->sklearn) (1.1.0)\n",
      "Requirement already satisfied: threadpoolctl>=2.0.0 in c:\\users\\tactics\\anaconda3\\lib\\site-packages (from scikit-learn->sklearn) (2.2.0)\n"
     ]
    },
    {
     "name": "stderr",
     "output_type": "stream",
     "text": [
      "WARNING: Ignoring invalid distribution -pencv-python (c:\\users\\tactics\\anaconda3\\lib\\site-packages)\n",
      "WARNING: Ignoring invalid distribution -illow (c:\\users\\tactics\\anaconda3\\lib\\site-packages)\n",
      "WARNING: Ignoring invalid distribution -pencv-python (c:\\users\\tactics\\anaconda3\\lib\\site-packages)\n",
      "WARNING: Ignoring invalid distribution -illow (c:\\users\\tactics\\anaconda3\\lib\\site-packages)\n",
      "WARNING: Ignoring invalid distribution -pencv-python (c:\\users\\tactics\\anaconda3\\lib\\site-packages)\n",
      "WARNING: Ignoring invalid distribution -illow (c:\\users\\tactics\\anaconda3\\lib\\site-packages)\n",
      "WARNING: Ignoring invalid distribution -pencv-python (c:\\users\\tactics\\anaconda3\\lib\\site-packages)\n",
      "WARNING: Ignoring invalid distribution -illow (c:\\users\\tactics\\anaconda3\\lib\\site-packages)\n",
      "WARNING: Ignoring invalid distribution -pencv-python (c:\\users\\tactics\\anaconda3\\lib\\site-packages)\n",
      "WARNING: Ignoring invalid distribution -illow (c:\\users\\tactics\\anaconda3\\lib\\site-packages)\n",
      "WARNING: Ignoring invalid distribution -pencv-python (c:\\users\\tactics\\anaconda3\\lib\\site-packages)\n",
      "WARNING: Ignoring invalid distribution -illow (c:\\users\\tactics\\anaconda3\\lib\\site-packages)\n",
      "\n",
      "[notice] A new release of pip available: 22.2.2 -> 22.3.1\n",
      "[notice] To update, run: python.exe -m pip install --upgrade pip\n"
     ]
    },
    {
     "data": {
      "text/html": [
       "<style>#sk-container-id-3 {color: black;background-color: white;}#sk-container-id-3 pre{padding: 0;}#sk-container-id-3 div.sk-toggleable {background-color: white;}#sk-container-id-3 label.sk-toggleable__label {cursor: pointer;display: block;width: 100%;margin-bottom: 0;padding: 0.3em;box-sizing: border-box;text-align: center;}#sk-container-id-3 label.sk-toggleable__label-arrow:before {content: \"▸\";float: left;margin-right: 0.25em;color: #696969;}#sk-container-id-3 label.sk-toggleable__label-arrow:hover:before {color: black;}#sk-container-id-3 div.sk-estimator:hover label.sk-toggleable__label-arrow:before {color: black;}#sk-container-id-3 div.sk-toggleable__content {max-height: 0;max-width: 0;overflow: hidden;text-align: left;background-color: #f0f8ff;}#sk-container-id-3 div.sk-toggleable__content pre {margin: 0.2em;color: black;border-radius: 0.25em;background-color: #f0f8ff;}#sk-container-id-3 input.sk-toggleable__control:checked~div.sk-toggleable__content {max-height: 200px;max-width: 100%;overflow: auto;}#sk-container-id-3 input.sk-toggleable__control:checked~label.sk-toggleable__label-arrow:before {content: \"▾\";}#sk-container-id-3 div.sk-estimator input.sk-toggleable__control:checked~label.sk-toggleable__label {background-color: #d4ebff;}#sk-container-id-3 div.sk-label input.sk-toggleable__control:checked~label.sk-toggleable__label {background-color: #d4ebff;}#sk-container-id-3 input.sk-hidden--visually {border: 0;clip: rect(1px 1px 1px 1px);clip: rect(1px, 1px, 1px, 1px);height: 1px;margin: -1px;overflow: hidden;padding: 0;position: absolute;width: 1px;}#sk-container-id-3 div.sk-estimator {font-family: monospace;background-color: #f0f8ff;border: 1px dotted black;border-radius: 0.25em;box-sizing: border-box;margin-bottom: 0.5em;}#sk-container-id-3 div.sk-estimator:hover {background-color: #d4ebff;}#sk-container-id-3 div.sk-parallel-item::after {content: \"\";width: 100%;border-bottom: 1px solid gray;flex-grow: 1;}#sk-container-id-3 div.sk-label:hover label.sk-toggleable__label {background-color: #d4ebff;}#sk-container-id-3 div.sk-serial::before {content: \"\";position: absolute;border-left: 1px solid gray;box-sizing: border-box;top: 0;bottom: 0;left: 50%;z-index: 0;}#sk-container-id-3 div.sk-serial {display: flex;flex-direction: column;align-items: center;background-color: white;padding-right: 0.2em;padding-left: 0.2em;position: relative;}#sk-container-id-3 div.sk-item {position: relative;z-index: 1;}#sk-container-id-3 div.sk-parallel {display: flex;align-items: stretch;justify-content: center;background-color: white;position: relative;}#sk-container-id-3 div.sk-item::before, #sk-container-id-3 div.sk-parallel-item::before {content: \"\";position: absolute;border-left: 1px solid gray;box-sizing: border-box;top: 0;bottom: 0;left: 50%;z-index: -1;}#sk-container-id-3 div.sk-parallel-item {display: flex;flex-direction: column;z-index: 1;position: relative;background-color: white;}#sk-container-id-3 div.sk-parallel-item:first-child::after {align-self: flex-end;width: 50%;}#sk-container-id-3 div.sk-parallel-item:last-child::after {align-self: flex-start;width: 50%;}#sk-container-id-3 div.sk-parallel-item:only-child::after {width: 0;}#sk-container-id-3 div.sk-dashed-wrapped {border: 1px dashed gray;margin: 0 0.4em 0.5em 0.4em;box-sizing: border-box;padding-bottom: 0.4em;background-color: white;}#sk-container-id-3 div.sk-label label {font-family: monospace;font-weight: bold;display: inline-block;line-height: 1.2em;}#sk-container-id-3 div.sk-label-container {text-align: center;}#sk-container-id-3 div.sk-container {/* jupyter's `normalize.less` sets `[hidden] { display: none; }` but bootstrap.min.css set `[hidden] { display: none !important; }` so we also need the `!important` here to be able to override the default hidden behavior on the sphinx rendered scikit-learn.org. See: https://github.com/scikit-learn/scikit-learn/issues/21755 */display: inline-block !important;position: relative;}#sk-container-id-3 div.sk-text-repr-fallback {display: none;}</style><div id=\"sk-container-id-3\" class=\"sk-top-container\"><div class=\"sk-text-repr-fallback\"><pre>KElbowVisualizer(ax=&lt;AxesSubplot:&gt;, estimator=KMeans(n_clusters=29), k=(1, 30))</pre><b>In a Jupyter environment, please rerun this cell to show the HTML representation or trust the notebook. <br />On GitHub, the HTML representation is unable to render, please try loading this page with nbviewer.org.</b></div><div class=\"sk-container\" hidden><div class=\"sk-item sk-dashed-wrapped\"><div class=\"sk-label-container\"><div class=\"sk-label sk-toggleable\"><input class=\"sk-toggleable__control sk-hidden--visually\" id=\"sk-estimator-id-5\" type=\"checkbox\" ><label for=\"sk-estimator-id-5\" class=\"sk-toggleable__label sk-toggleable__label-arrow\">KElbowVisualizer</label><div class=\"sk-toggleable__content\"><pre>KElbowVisualizer(ax=&lt;AxesSubplot:&gt;, estimator=KMeans(n_clusters=29), k=(1, 30))</pre></div></div></div><div class=\"sk-parallel\"><div class=\"sk-parallel-item\"><div class=\"sk-item\"><div class=\"sk-label-container\"><div class=\"sk-label sk-toggleable\"><input class=\"sk-toggleable__control sk-hidden--visually\" id=\"sk-estimator-id-6\" type=\"checkbox\" ><label for=\"sk-estimator-id-6\" class=\"sk-toggleable__label sk-toggleable__label-arrow\">estimator: KMeans</label><div class=\"sk-toggleable__content\"><pre>KMeans(n_clusters=29)</pre></div></div></div><div class=\"sk-serial\"><div class=\"sk-item\"><div class=\"sk-estimator sk-toggleable\"><input class=\"sk-toggleable__control sk-hidden--visually\" id=\"sk-estimator-id-7\" type=\"checkbox\" ><label for=\"sk-estimator-id-7\" class=\"sk-toggleable__label sk-toggleable__label-arrow\">KMeans</label><div class=\"sk-toggleable__content\"><pre>KMeans(n_clusters=29)</pre></div></div></div></div></div></div></div></div></div></div>"
      ],
      "text/plain": [
       "KElbowVisualizer(ax=<AxesSubplot:>, estimator=KMeans(n_clusters=29), k=(1, 30))"
      ]
     },
     "execution_count": 1368,
     "metadata": {},
     "output_type": "execute_result"
    },
    {
     "data": {
      "image/png": "[encoded data removed]",
      "text/plain": [
       "<Figure size 576x396 with 2 Axes>"
      ]
     },
     "metadata": {},
     "output_type": "display_data"
    }
   ],
   "source": [
    "!pip install yellowbrick\n",
    "!pip install sklearn\n",
    "\n",
    "from yellowbrick.cluster import KElbowVisualizer\n",
    "from sklearn.cluster import KMeans\n",
    "model = KMeans()\n",
    "visualizer = KElbowVisualizer(model, k=(1,30))\n",
    "visualizer.fit(driving_event_DR)"
   ]
  },
  {
   "cell_type": "code",
   "execution_count": 1369,
   "metadata": {},
   "outputs": [
    {
     "data": {
      "text/plain": [
       "9"
      ]
     },
     "execution_count": 1369,
     "metadata": {},
     "output_type": "execute_result"
    }
   ],
   "source": [
    "# K\n",
    "K_elbow = visualizer.elbow_value_\n",
    "K_elbow"
   ]
  },
  {
   "cell_type": "code",
   "execution_count": 1370,
   "metadata": {},
   "outputs": [],
   "source": [
    "# K_value = K_elbow"
   ]
  },
  {
   "cell_type": "code",
   "execution_count": 1371,
   "metadata": {},
   "outputs": [],
   "source": [
    "# 군집 수 임의로 설정\n",
    "K_value = 8"
   ]
  },
  {
   "cell_type": "code",
   "execution_count": 1372,
   "metadata": {},
   "outputs": [],
   "source": [
    "from sklearn.cluster import KMeans\n",
    "from sklearn.preprocessing import MinMaxScaler\n",
    "scaler = MinMaxScaler()\n",
    "data_scale = scaler.fit_transform(driving_event_DR)"
   ]
  },
  {
   "cell_type": "code",
   "execution_count": 1373,
   "metadata": {},
   "outputs": [
    {
     "data": {
      "text/html": [
       "<style>#sk-container-id-4 {color: black;background-color: white;}#sk-container-id-4 pre{padding: 0;}#sk-container-id-4 div.sk-toggleable {background-color: white;}#sk-container-id-4 label.sk-toggleable__label {cursor: pointer;display: block;width: 100%;margin-bottom: 0;padding: 0.3em;box-sizing: border-box;text-align: center;}#sk-container-id-4 label.sk-toggleable__label-arrow:before {content: \"▸\";float: left;margin-right: 0.25em;color: #696969;}#sk-container-id-4 label.sk-toggleable__label-arrow:hover:before {color: black;}#sk-container-id-4 div.sk-estimator:hover label.sk-toggleable__label-arrow:before {color: black;}#sk-container-id-4 div.sk-toggleable__content {max-height: 0;max-width: 0;overflow: hidden;text-align: left;background-color: #f0f8ff;}#sk-container-id-4 div.sk-toggleable__content pre {margin: 0.2em;color: black;border-radius: 0.25em;background-color: #f0f8ff;}#sk-container-id-4 input.sk-toggleable__control:checked~div.sk-toggleable__content {max-height: 200px;max-width: 100%;overflow: auto;}#sk-container-id-4 input.sk-toggleable__control:checked~label.sk-toggleable__label-arrow:before {content: \"▾\";}#sk-container-id-4 div.sk-estimator input.sk-toggleable__control:checked~label.sk-toggleable__label {background-color: #d4ebff;}#sk-container-id-4 div.sk-label input.sk-toggleable__control:checked~label.sk-toggleable__label {background-color: #d4ebff;}#sk-container-id-4 input.sk-hidden--visually {border: 0;clip: rect(1px 1px 1px 1px);clip: rect(1px, 1px, 1px, 1px);height: 1px;margin: -1px;overflow: hidden;padding: 0;position: absolute;width: 1px;}#sk-container-id-4 div.sk-estimator {font-family: monospace;background-color: #f0f8ff;border: 1px dotted black;border-radius: 0.25em;box-sizing: border-box;margin-bottom: 0.5em;}#sk-container-id-4 div.sk-estimator:hover {background-color: #d4ebff;}#sk-container-id-4 div.sk-parallel-item::after {content: \"\";width: 100%;border-bottom: 1px solid gray;flex-grow: 1;}#sk-container-id-4 div.sk-label:hover label.sk-toggleable__label {background-color: #d4ebff;}#sk-container-id-4 div.sk-serial::before {content: \"\";position: absolute;border-left: 1px solid gray;box-sizing: border-box;top: 0;bottom: 0;left: 50%;z-index: 0;}#sk-container-id-4 div.sk-serial {display: flex;flex-direction: column;align-items: center;background-color: white;padding-right: 0.2em;padding-left: 0.2em;position: relative;}#sk-container-id-4 div.sk-item {position: relative;z-index: 1;}#sk-container-id-4 div.sk-parallel {display: flex;align-items: stretch;justify-content: center;background-color: white;position: relative;}#sk-container-id-4 div.sk-item::before, #sk-container-id-4 div.sk-parallel-item::before {content: \"\";position: absolute;border-left: 1px solid gray;box-sizing: border-box;top: 0;bottom: 0;left: 50%;z-index: -1;}#sk-container-id-4 div.sk-parallel-item {display: flex;flex-direction: column;z-index: 1;position: relative;background-color: white;}#sk-container-id-4 div.sk-parallel-item:first-child::after {align-self: flex-end;width: 50%;}#sk-container-id-4 div.sk-parallel-item:last-child::after {align-self: flex-start;width: 50%;}#sk-container-id-4 div.sk-parallel-item:only-child::after {width: 0;}#sk-container-id-4 div.sk-dashed-wrapped {border: 1px dashed gray;margin: 0 0.4em 0.5em 0.4em;box-sizing: border-box;padding-bottom: 0.4em;background-color: white;}#sk-container-id-4 div.sk-label label {font-family: monospace;font-weight: bold;display: inline-block;line-height: 1.2em;}#sk-container-id-4 div.sk-label-container {text-align: center;}#sk-container-id-4 div.sk-container {/* jupyter's `normalize.less` sets `[hidden] { display: none; }` but bootstrap.min.css set `[hidden] { display: none !important; }` so we also need the `!important` here to be able to override the default hidden behavior on the sphinx rendered scikit-learn.org. See: https://github.com/scikit-learn/scikit-learn/issues/21755 */display: inline-block !important;position: relative;}#sk-container-id-4 div.sk-text-repr-fallback {display: none;}</style><div id=\"sk-container-id-4\" class=\"sk-top-container\"><div class=\"sk-text-repr-fallback\"><pre>KMeans(random_state=10)</pre><b>In a Jupyter environment, please rerun this cell to show the HTML representation or trust the notebook. <br />On GitHub, the HTML representation is unable to render, please try loading this page with nbviewer.org.</b></div><div class=\"sk-container\" hidden><div class=\"sk-item\"><div class=\"sk-estimator sk-toggleable\"><input class=\"sk-toggleable__control sk-hidden--visually\" id=\"sk-estimator-id-8\" type=\"checkbox\" checked><label for=\"sk-estimator-id-8\" class=\"sk-toggleable__label sk-toggleable__label-arrow\">KMeans</label><div class=\"sk-toggleable__content\"><pre>KMeans(random_state=10)</pre></div></div></div></div></div>"
      ],
      "text/plain": [
       "KMeans(random_state=10)"
      ]
     },
     "execution_count": 1373,
     "metadata": {},
     "output_type": "execute_result"
    }
   ],
   "source": [
    "kmeans = KMeans(n_clusters=K_value, init='k-means++', max_iter=300, random_state=10)\n",
    "kmeans.fit(data_scale)"
   ]
  },
  {
   "cell_type": "code",
   "execution_count": 1374,
   "metadata": {},
   "outputs": [
    {
     "data": {
      "text/plain": [
       "8"
      ]
     },
     "execution_count": 1374,
     "metadata": {},
     "output_type": "execute_result"
    }
   ],
   "source": [
    "len(kmeans.cluster_centers_)"
   ]
  },
  {
   "cell_type": "code",
   "execution_count": 1375,
   "metadata": {},
   "outputs": [
    {
     "data": {
      "text/plain": [
       "39865"
      ]
     },
     "execution_count": 1375,
     "metadata": {},
     "output_type": "execute_result"
    }
   ],
   "source": [
    "len(kmeans.labels_)"
   ]
  },
  {
   "cell_type": "code",
   "execution_count": 1376,
   "metadata": {},
   "outputs": [
    {
     "data": {
      "text/html": [
       "<div>\n",
       "<style scoped>\n",
       "    .dataframe tbody tr th:only-of-type {\n",
       "        vertical-align: middle;\n",
       "    }\n",
       "\n",
       "    .dataframe tbody tr th {\n",
       "        vertical-align: top;\n",
       "    }\n",
       "\n",
       "    .dataframe thead th {\n",
       "        text-align: right;\n",
       "    }\n",
       "</style>\n",
       "<table border=\"1\" class=\"dataframe\">\n",
       "  <thead>\n",
       "    <tr style=\"text-align: right;\">\n",
       "      <th></th>\n",
       "      <th>driving event data(30)</th>\n",
       "      <th>idx</th>\n",
       "      <th>cluster</th>\n",
       "    </tr>\n",
       "  </thead>\n",
       "  <tbody>\n",
       "    <tr>\n",
       "      <th>0</th>\n",
       "      <td>[0.5631964, 0.3570503, 0.3486341, 0.4111206, 0...</td>\n",
       "      <td>0</td>\n",
       "      <td>7</td>\n",
       "    </tr>\n",
       "    <tr>\n",
       "      <th>1</th>\n",
       "      <td>[0.82596385, 0.3451176, 0.16424015, 0.68354446...</td>\n",
       "      <td>1</td>\n",
       "      <td>2</td>\n",
       "    </tr>\n",
       "    <tr>\n",
       "      <th>2</th>\n",
       "      <td>[0.3401604, 0.46820682, 0.8080732, 0.5400587, ...</td>\n",
       "      <td>2</td>\n",
       "      <td>5</td>\n",
       "    </tr>\n",
       "    <tr>\n",
       "      <th>3</th>\n",
       "      <td>[0.6577038, 0.5500536, 0.08612047, 0.67866397,...</td>\n",
       "      <td>3</td>\n",
       "      <td>4</td>\n",
       "    </tr>\n",
       "    <tr>\n",
       "      <th>4</th>\n",
       "      <td>[0.41522866, 0.4977831, 0.15830365, 0.21544863...</td>\n",
       "      <td>4</td>\n",
       "      <td>5</td>\n",
       "    </tr>\n",
       "    <tr>\n",
       "      <th>...</th>\n",
       "      <td>...</td>\n",
       "      <td>...</td>\n",
       "      <td>...</td>\n",
       "    </tr>\n",
       "    <tr>\n",
       "      <th>39860</th>\n",
       "      <td>[0.35980788, 0.30367425, 0.16662744, 0.3582050...</td>\n",
       "      <td>39860</td>\n",
       "      <td>6</td>\n",
       "    </tr>\n",
       "    <tr>\n",
       "      <th>39861</th>\n",
       "      <td>[0.5171944, 0.3589975, 0.17263225, 0.31191987,...</td>\n",
       "      <td>39861</td>\n",
       "      <td>6</td>\n",
       "    </tr>\n",
       "    <tr>\n",
       "      <th>39862</th>\n",
       "      <td>[0.78567827, 0.29146907, 0.031931605, 0.416538...</td>\n",
       "      <td>39862</td>\n",
       "      <td>2</td>\n",
       "    </tr>\n",
       "    <tr>\n",
       "      <th>39863</th>\n",
       "      <td>[0.7157611, 0.36277217, 0.63600796, 0.45562398...</td>\n",
       "      <td>39863</td>\n",
       "      <td>7</td>\n",
       "    </tr>\n",
       "    <tr>\n",
       "      <th>39864</th>\n",
       "      <td>[0.22576292, 0.6027877, 0.84700185, 0.92157257...</td>\n",
       "      <td>39864</td>\n",
       "      <td>5</td>\n",
       "    </tr>\n",
       "  </tbody>\n",
       "</table>\n",
       "<p>39865 rows × 3 columns</p>\n",
       "</div>"
      ],
      "text/plain": [
       "                                  driving event data(30)    idx  cluster\n",
       "0      [0.5631964, 0.3570503, 0.3486341, 0.4111206, 0...      0        7\n",
       "1      [0.82596385, 0.3451176, 0.16424015, 0.68354446...      1        2\n",
       "2      [0.3401604, 0.46820682, 0.8080732, 0.5400587, ...      2        5\n",
       "3      [0.6577038, 0.5500536, 0.08612047, 0.67866397,...      3        4\n",
       "4      [0.41522866, 0.4977831, 0.15830365, 0.21544863...      4        5\n",
       "...                                                  ...    ...      ...\n",
       "39860  [0.35980788, 0.30367425, 0.16662744, 0.3582050...  39860        6\n",
       "39861  [0.5171944, 0.3589975, 0.17263225, 0.31191987,...  39861        6\n",
       "39862  [0.78567827, 0.29146907, 0.031931605, 0.416538...  39862        2\n",
       "39863  [0.7157611, 0.36277217, 0.63600796, 0.45562398...  39863        7\n",
       "39864  [0.22576292, 0.6027877, 0.84700185, 0.92157257...  39864        5\n",
       "\n",
       "[39865 rows x 3 columns]"
      ]
     },
     "execution_count": 1376,
     "metadata": {},
     "output_type": "execute_result"
    }
   ],
   "source": [
    "changed_DE_df['cluster'] = kmeans.labels_\n",
    "changed_DE_df"
   ]
  },
  {
   "cell_type": "markdown",
   "metadata": {},
   "source": [
    "### 각 Cluster에 해당하는 데이터 인덱스 추출\n",
    "- ##### cluster_dic"
   ]
  },
  {
   "cell_type": "code",
   "execution_count": 1377,
   "metadata": {},
   "outputs": [
    {
     "data": {
      "text/plain": [
       "dict_keys(['cluster_0', 'cluster_1', 'cluster_2', 'cluster_3', 'cluster_4', 'cluster_5', 'cluster_6', 'cluster_7'])"
      ]
     },
     "execution_count": 1377,
     "metadata": {},
     "output_type": "execute_result"
    }
   ],
   "source": [
    "cluster_dic = {}\n",
    "    \n",
    "for i in range(K_value):\n",
    "    if i not in set(changed_DE_df['cluster'].values):\n",
    "        cluster_dic[f\"cluster_{i}\"] = []\n",
    "    else:\n",
    "        cluster_dic[f\"cluster_{i}\"] = list(changed_DE_df.groupby('cluster').get_group(i)['idx'])\n",
    "    \n",
    "cluster_dic.keys()"
   ]
  },
  {
   "cell_type": "code",
   "execution_count": 1378,
   "metadata": {},
   "outputs": [],
   "source": [
    "# cluster_5 해당하는 인덱스\n",
    "# cluster_dic['cluster_5']"
   ]
  },
  {
   "cell_type": "markdown",
   "metadata": {},
   "source": [
    "### Cluster와 Driving Event 데이터 인덱스 매칭\n",
    "- #### 차원축소된 데이터의 군집화 결과를 기존 데이터와 매치 : 인덱스 이용"
   ]
  },
  {
   "cell_type": "code",
   "execution_count": 1379,
   "metadata": {},
   "outputs": [
    {
     "data": {
      "text/html": [
       "<div>\n",
       "<style scoped>\n",
       "    .dataframe tbody tr th:only-of-type {\n",
       "        vertical-align: middle;\n",
       "    }\n",
       "\n",
       "    .dataframe tbody tr th {\n",
       "        vertical-align: top;\n",
       "    }\n",
       "\n",
       "    .dataframe thead th {\n",
       "        text-align: right;\n",
       "    }\n",
       "</style>\n",
       "<table border=\"1\" class=\"dataframe\">\n",
       "  <thead>\n",
       "    <tr style=\"text-align: right;\">\n",
       "      <th></th>\n",
       "      <th>driving event data(15X3)</th>\n",
       "      <th>idx</th>\n",
       "    </tr>\n",
       "  </thead>\n",
       "  <tbody>\n",
       "    <tr>\n",
       "      <th>0</th>\n",
       "      <td>[[0.0, 0.0, 3.0], [0.0, 0.0, 9.0], [0.0, 0.0, ...</td>\n",
       "      <td>0</td>\n",
       "    </tr>\n",
       "    <tr>\n",
       "      <th>1</th>\n",
       "      <td>[[0.0, 0.0, 9.0], [0.0, 0.0, 9.0], [0.0, 0.0, ...</td>\n",
       "      <td>1</td>\n",
       "    </tr>\n",
       "    <tr>\n",
       "      <th>2</th>\n",
       "      <td>[[0.0, 0.0, 9.0], [0.0, 0.0, -247.0], [0.0, 0....</td>\n",
       "      <td>2</td>\n",
       "    </tr>\n",
       "    <tr>\n",
       "      <th>3</th>\n",
       "      <td>[[0.0, 0.0, -247.0], [0.0, 0.0, 269.0], [0.0, ...</td>\n",
       "      <td>3</td>\n",
       "    </tr>\n",
       "    <tr>\n",
       "      <th>4</th>\n",
       "      <td>[[0.0, 0.0, 269.0], [0.0, 0.0, -269.0], [0.0, ...</td>\n",
       "      <td>4</td>\n",
       "    </tr>\n",
       "    <tr>\n",
       "      <th>...</th>\n",
       "      <td>...</td>\n",
       "      <td>...</td>\n",
       "    </tr>\n",
       "    <tr>\n",
       "      <th>39860</th>\n",
       "      <td>[[10.0, -6.0, 8.0], [5.0, -5.0, 5.0], [0.0, -5...</td>\n",
       "      <td>39860</td>\n",
       "    </tr>\n",
       "    <tr>\n",
       "      <th>39861</th>\n",
       "      <td>[[5.0, -5.0, 5.0], [0.0, -5.0, 7.0], [0.0, 0.0...</td>\n",
       "      <td>39861</td>\n",
       "    </tr>\n",
       "    <tr>\n",
       "      <th>39862</th>\n",
       "      <td>[[8.0, -4.0, 3.0], [5.0, -3.0, 3.0], [3.0, -2....</td>\n",
       "      <td>39862</td>\n",
       "    </tr>\n",
       "    <tr>\n",
       "      <th>39863</th>\n",
       "      <td>[[5.0, -3.0, 3.0], [3.0, -2.0, -355.0], [0.0, ...</td>\n",
       "      <td>39863</td>\n",
       "    </tr>\n",
       "    <tr>\n",
       "      <th>39864</th>\n",
       "      <td>[[3.0, -2.0, -355.0], [0.0, -3.0, -1.0], [0.0,...</td>\n",
       "      <td>39864</td>\n",
       "    </tr>\n",
       "  </tbody>\n",
       "</table>\n",
       "<p>39865 rows × 2 columns</p>\n",
       "</div>"
      ],
      "text/plain": [
       "                                driving event data(15X3)    idx\n",
       "0      [[0.0, 0.0, 3.0], [0.0, 0.0, 9.0], [0.0, 0.0, ...      0\n",
       "1      [[0.0, 0.0, 9.0], [0.0, 0.0, 9.0], [0.0, 0.0, ...      1\n",
       "2      [[0.0, 0.0, 9.0], [0.0, 0.0, -247.0], [0.0, 0....      2\n",
       "3      [[0.0, 0.0, -247.0], [0.0, 0.0, 269.0], [0.0, ...      3\n",
       "4      [[0.0, 0.0, 269.0], [0.0, 0.0, -269.0], [0.0, ...      4\n",
       "...                                                  ...    ...\n",
       "39860  [[10.0, -6.0, 8.0], [5.0, -5.0, 5.0], [0.0, -5...  39860\n",
       "39861  [[5.0, -5.0, 5.0], [0.0, -5.0, 7.0], [0.0, 0.0...  39861\n",
       "39862  [[8.0, -4.0, 3.0], [5.0, -3.0, 3.0], [3.0, -2....  39862\n",
       "39863  [[5.0, -3.0, 3.0], [3.0, -2.0, -355.0], [0.0, ...  39863\n",
       "39864  [[3.0, -2.0, -355.0], [0.0, -3.0, -1.0], [0.0,...  39864\n",
       "\n",
       "[39865 rows x 2 columns]"
      ]
     },
     "execution_count": 1379,
     "metadata": {},
     "output_type": "execute_result"
    }
   ],
   "source": [
    "# 기존 데이터(15X3)\n",
    "DE_df"
   ]
  },
  {
   "cell_type": "code",
   "execution_count": 1380,
   "metadata": {},
   "outputs": [
    {
     "data": {
      "text/html": [
       "<div>\n",
       "<style scoped>\n",
       "    .dataframe tbody tr th:only-of-type {\n",
       "        vertical-align: middle;\n",
       "    }\n",
       "\n",
       "    .dataframe tbody tr th {\n",
       "        vertical-align: top;\n",
       "    }\n",
       "\n",
       "    .dataframe thead th {\n",
       "        text-align: right;\n",
       "    }\n",
       "</style>\n",
       "<table border=\"1\" class=\"dataframe\">\n",
       "  <thead>\n",
       "    <tr style=\"text-align: right;\">\n",
       "      <th></th>\n",
       "      <th>driving event data(30)</th>\n",
       "      <th>idx</th>\n",
       "      <th>cluster</th>\n",
       "    </tr>\n",
       "  </thead>\n",
       "  <tbody>\n",
       "    <tr>\n",
       "      <th>0</th>\n",
       "      <td>[0.5631964, 0.3570503, 0.3486341, 0.4111206, 0...</td>\n",
       "      <td>0</td>\n",
       "      <td>7</td>\n",
       "    </tr>\n",
       "    <tr>\n",
       "      <th>1</th>\n",
       "      <td>[0.82596385, 0.3451176, 0.16424015, 0.68354446...</td>\n",
       "      <td>1</td>\n",
       "      <td>2</td>\n",
       "    </tr>\n",
       "    <tr>\n",
       "      <th>2</th>\n",
       "      <td>[0.3401604, 0.46820682, 0.8080732, 0.5400587, ...</td>\n",
       "      <td>2</td>\n",
       "      <td>5</td>\n",
       "    </tr>\n",
       "    <tr>\n",
       "      <th>3</th>\n",
       "      <td>[0.6577038, 0.5500536, 0.08612047, 0.67866397,...</td>\n",
       "      <td>3</td>\n",
       "      <td>4</td>\n",
       "    </tr>\n",
       "    <tr>\n",
       "      <th>4</th>\n",
       "      <td>[0.41522866, 0.4977831, 0.15830365, 0.21544863...</td>\n",
       "      <td>4</td>\n",
       "      <td>5</td>\n",
       "    </tr>\n",
       "    <tr>\n",
       "      <th>...</th>\n",
       "      <td>...</td>\n",
       "      <td>...</td>\n",
       "      <td>...</td>\n",
       "    </tr>\n",
       "    <tr>\n",
       "      <th>39860</th>\n",
       "      <td>[0.35980788, 0.30367425, 0.16662744, 0.3582050...</td>\n",
       "      <td>39860</td>\n",
       "      <td>6</td>\n",
       "    </tr>\n",
       "    <tr>\n",
       "      <th>39861</th>\n",
       "      <td>[0.5171944, 0.3589975, 0.17263225, 0.31191987,...</td>\n",
       "      <td>39861</td>\n",
       "      <td>6</td>\n",
       "    </tr>\n",
       "    <tr>\n",
       "      <th>39862</th>\n",
       "      <td>[0.78567827, 0.29146907, 0.031931605, 0.416538...</td>\n",
       "      <td>39862</td>\n",
       "      <td>2</td>\n",
       "    </tr>\n",
       "    <tr>\n",
       "      <th>39863</th>\n",
       "      <td>[0.7157611, 0.36277217, 0.63600796, 0.45562398...</td>\n",
       "      <td>39863</td>\n",
       "      <td>7</td>\n",
       "    </tr>\n",
       "    <tr>\n",
       "      <th>39864</th>\n",
       "      <td>[0.22576292, 0.6027877, 0.84700185, 0.92157257...</td>\n",
       "      <td>39864</td>\n",
       "      <td>5</td>\n",
       "    </tr>\n",
       "  </tbody>\n",
       "</table>\n",
       "<p>39865 rows × 3 columns</p>\n",
       "</div>"
      ],
      "text/plain": [
       "                                  driving event data(30)    idx  cluster\n",
       "0      [0.5631964, 0.3570503, 0.3486341, 0.4111206, 0...      0        7\n",
       "1      [0.82596385, 0.3451176, 0.16424015, 0.68354446...      1        2\n",
       "2      [0.3401604, 0.46820682, 0.8080732, 0.5400587, ...      2        5\n",
       "3      [0.6577038, 0.5500536, 0.08612047, 0.67866397,...      3        4\n",
       "4      [0.41522866, 0.4977831, 0.15830365, 0.21544863...      4        5\n",
       "...                                                  ...    ...      ...\n",
       "39860  [0.35980788, 0.30367425, 0.16662744, 0.3582050...  39860        6\n",
       "39861  [0.5171944, 0.3589975, 0.17263225, 0.31191987,...  39861        6\n",
       "39862  [0.78567827, 0.29146907, 0.031931605, 0.416538...  39862        2\n",
       "39863  [0.7157611, 0.36277217, 0.63600796, 0.45562398...  39863        7\n",
       "39864  [0.22576292, 0.6027877, 0.84700185, 0.92157257...  39864        5\n",
       "\n",
       "[39865 rows x 3 columns]"
      ]
     },
     "execution_count": 1380,
     "metadata": {},
     "output_type": "execute_result"
    }
   ],
   "source": [
    "# 차원축소 데이터(30)\n",
    "changed_DE_df"
   ]
  },
  {
   "cell_type": "markdown",
   "metadata": {},
   "source": [
    "### 전체 Cluster 분석\n",
    "- #### 평균 속도, 평균 가속도, 평균 요레이트"
   ]
  },
  {
   "cell_type": "code",
   "execution_count": 1381,
   "metadata": {},
   "outputs": [],
   "source": [
    "clusters_total = pd.DataFrame()\n",
    "\n",
    "for key in cluster_dic.keys():\n",
    "    total_df = DE_df.iloc[cluster_dic[key]]\n",
    "    total_df.reset_index(drop=True, inplace=True)\n",
    "    \n",
    "    mean_df = pd.DataFrame(total_df['driving event data(15X3)'].mean(), columns=[['velocity', 'acceleration', 'yaw rate']])\n",
    "\n",
    "    cluster_df = pd.DataFrame(mean_df.mean())\n",
    "    cluster_df = cluster_df.transpose()\n",
    "    \n",
    "    clusters_total = pd.concat([clusters_total, cluster_df])\n",
    "    \n",
    "clusters_total.index = list(cluster_dic.keys())"
   ]
  },
  {
   "cell_type": "code",
   "execution_count": 1382,
   "metadata": {},
   "outputs": [
    {
     "data": {
      "text/html": [
       "<div>\n",
       "<style scoped>\n",
       "    .dataframe tbody tr th:only-of-type {\n",
       "        vertical-align: middle;\n",
       "    }\n",
       "\n",
       "    .dataframe tbody tr th {\n",
       "        vertical-align: top;\n",
       "    }\n",
       "\n",
       "    .dataframe thead tr th {\n",
       "        text-align: left;\n",
       "    }\n",
       "</style>\n",
       "<table border=\"1\" class=\"dataframe\">\n",
       "  <thead>\n",
       "    <tr>\n",
       "      <th></th>\n",
       "      <th>velocity</th>\n",
       "      <th>acceleration</th>\n",
       "      <th>yaw rate</th>\n",
       "    </tr>\n",
       "  </thead>\n",
       "  <tbody>\n",
       "    <tr>\n",
       "      <th>cluster_0</th>\n",
       "      <td>23.03</td>\n",
       "      <td>1.42</td>\n",
       "      <td>-0.03</td>\n",
       "    </tr>\n",
       "    <tr>\n",
       "      <th>cluster_1</th>\n",
       "      <td>14.86</td>\n",
       "      <td>1.44</td>\n",
       "      <td>14.09</td>\n",
       "    </tr>\n",
       "    <tr>\n",
       "      <th>cluster_2</th>\n",
       "      <td>7.98</td>\n",
       "      <td>-0.02</td>\n",
       "      <td>-2.22</td>\n",
       "    </tr>\n",
       "    <tr>\n",
       "      <th>cluster_3</th>\n",
       "      <td>39.35</td>\n",
       "      <td>-0.05</td>\n",
       "      <td>-0.04</td>\n",
       "    </tr>\n",
       "    <tr>\n",
       "      <th>cluster_4</th>\n",
       "      <td>15.11</td>\n",
       "      <td>1.40</td>\n",
       "      <td>9.99</td>\n",
       "    </tr>\n",
       "    <tr>\n",
       "      <th>cluster_5</th>\n",
       "      <td>8.86</td>\n",
       "      <td>0.08</td>\n",
       "      <td>1.50</td>\n",
       "    </tr>\n",
       "    <tr>\n",
       "      <th>cluster_6</th>\n",
       "      <td>6.91</td>\n",
       "      <td>-0.54</td>\n",
       "      <td>-0.32</td>\n",
       "    </tr>\n",
       "    <tr>\n",
       "      <th>cluster_7</th>\n",
       "      <td>7.11</td>\n",
       "      <td>-0.09</td>\n",
       "      <td>-2.21</td>\n",
       "    </tr>\n",
       "  </tbody>\n",
       "</table>\n",
       "</div>"
      ],
      "text/plain": [
       "          velocity acceleration yaw rate\n",
       "cluster_0    23.03         1.42    -0.03\n",
       "cluster_1    14.86         1.44    14.09\n",
       "cluster_2     7.98        -0.02    -2.22\n",
       "cluster_3    39.35        -0.05    -0.04\n",
       "cluster_4    15.11         1.40     9.99\n",
       "cluster_5     8.86         0.08     1.50\n",
       "cluster_6     6.91        -0.54    -0.32\n",
       "cluster_7     7.11        -0.09    -2.21"
      ]
     },
     "execution_count": 1382,
     "metadata": {},
     "output_type": "execute_result"
    }
   ],
   "source": [
    "# 전체 클러스터의 속도, 가속도, 요레이트 평균값 df\n",
    "clusters_total.to_csv(\"clusters_total.csv\")\n",
    "clusters_total = clusters_total.round(2)\n",
    "clusters_total"
   ]
  },
  {
   "cell_type": "markdown",
   "metadata": {},
   "source": [
    "### 평가지표\n",
    "- #### 속도, 가속도, 요레이트에 대한 평가지표 삽입"
   ]
  },
  {
   "cell_type": "code",
   "execution_count": 1383,
   "metadata": {},
   "outputs": [],
   "source": [
    "clusters_eval = clusters_total.copy()"
   ]
  },
  {
   "cell_type": "code",
   "execution_count": 1384,
   "metadata": {},
   "outputs": [
    {
     "name": "stdout",
     "output_type": "stream",
     "text": [
      "[level] velocity_evaluation \n",
      "High : 15.01 이상\n",
      "Mid : 8.25 이상 | 15.01 이하\n",
      "Low : 8.25 이하\n"
     ]
    }
   ],
   "source": [
    "# 속도\n",
    "h_val = clusters_eval['velocity'].quantile(q=0.66).values[0].round(2)\n",
    "m_val = clusters_eval['velocity'].quantile(q=0.33).values[0].round(2)\n",
    "print(f\"[level] velocity_evaluation \\nHigh : {h_val} 이상\\n\\\n",
    "Mid : {m_val} 이상 | {h_val} 이하\\n\\\n",
    "Low : {m_val} 이하\")"
   ]
  },
  {
   "cell_type": "code",
   "execution_count": 1385,
   "metadata": {},
   "outputs": [],
   "source": [
    "condition_ls = [\n",
    "    (clusters_eval['velocity'] >= h_val),\n",
    "    (clusters_eval['velocity'] >= m_val) & (clusters_eval['velocity'] < h_val),\n",
    "    (clusters_eval['velocity'] < m_val)\n",
    "]\n",
    "choice_ls = ['High', 'Mid', 'Low']\n",
    "\n",
    "clusters_eval['velocity_eval'] = np.select(condition_ls, choice_ls)"
   ]
  },
  {
   "cell_type": "code",
   "execution_count": 1386,
   "metadata": {},
   "outputs": [
    {
     "name": "stdout",
     "output_type": "stream",
     "text": [
      "[danger] acc_safety \n",
      "Low : 1.42 이상  | -0.09 이하\n",
      "Mid : 1.27 이상  | -0.05 이하\n",
      "High : 0.07 이상 | -0.01 이하\n"
     ]
    }
   ],
   "source": [
    "# 가속도\n",
    "low_u = clusters_eval['acceleration'].quantile(q=0.85).values[0].round(2)\n",
    "low_d = clusters_eval['acceleration'].quantile(q=0.15).values[0].round(2)\n",
    "mid_u = clusters_eval['acceleration'].quantile(q=0.70).values[0].round(2)\n",
    "mid_d = clusters_eval['acceleration'].quantile(q=0.30).values[0].round(2)\n",
    "high_u = clusters_eval['acceleration'].quantile(q=0.55).values[0].round(2)\n",
    "high_d = clusters_eval['acceleration'].quantile(q=0.45).values[0].round(2)\n",
    "print(f\"[danger] acc_safety \\nLow : {low_u} 이상  | {low_d} 이하\\n\\\n",
    "Mid : {mid_u} 이상  | {mid_d} 이하\\n\\\n",
    "High : {high_u} 이상 | {high_d} 이하\")"
   ]
  },
  {
   "cell_type": "code",
   "execution_count": 1387,
   "metadata": {},
   "outputs": [],
   "source": [
    "clusters_eval['acc_safety'] = clusters_eval.apply(\n",
    "    lambda x: 'danger' \n",
    "    if (\n",
    "        ((x['velocity_eval'] == 'Low') & ((x['acceleration'] >= low_u) | (x['acceleration'] <= low_d))) |\n",
    "        ((x['velocity_eval'] == 'Mid') & ((x['acceleration'] >= mid_u) | (x['acceleration'] <= mid_d))) |\n",
    "        ((x['velocity_eval'] == 'High') & ((x['acceleration'] >= high_u) | (x['acceleration'] <= high_d)))\n",
    "       )\n",
    "    else 'safety', axis='columns')"
   ]
  },
  {
   "cell_type": "code",
   "execution_count": 1388,
   "metadata": {},
   "outputs": [
    {
     "name": "stdout",
     "output_type": "stream",
     "text": [
      "[danger] steer_safety \n",
      "Low : 9.57 이상  | -2.12 이하\n",
      "Mid : 1.35 이상  | -0.29 이하\n",
      "High : -0.03 이상 | -0.04 이하\n"
     ]
    }
   ],
   "source": [
    "# 요레이트\n",
    "low_u = clusters_eval['yaw rate'].quantile(q=0.85).values[0].round(2)\n",
    "low_d = clusters_eval['yaw rate'].quantile(q=0.15).values[0].round(2)\n",
    "mid_u = clusters_eval['yaw rate'].quantile(q=0.70).values[0].round(2)\n",
    "mid_d = clusters_eval['yaw rate'].quantile(q=0.30).values[0].round(2)\n",
    "high_u = clusters_eval['yaw rate'].quantile(q=0.55).values[0].round(2)\n",
    "high_d = clusters_eval['yaw rate'].quantile(q=0.45).values[0].round(2)\n",
    "print(f\"[danger] steer_safety \\nLow : {low_u} 이상  | {low_d} 이하\\n\\\n",
    "Mid : {mid_u} 이상  | {mid_d} 이하\\n\\\n",
    "High : {high_u} 이상 | {high_d} 이하\")"
   ]
  },
  {
   "cell_type": "code",
   "execution_count": 1389,
   "metadata": {},
   "outputs": [],
   "source": [
    "clusters_eval['steer_safety'] = clusters_eval.apply(\n",
    "    lambda x: 'danger' \n",
    "    if (\n",
    "        ((x['velocity_eval'] == 'Low') & ((x['yaw rate'] >= low_u) | (x['yaw rate'] <= low_d))) |\n",
    "        ((x['velocity_eval'] == 'Mid') & ((x['yaw rate'] >= mid_u) | (x['yaw rate'] <= mid_d))) |\n",
    "        ((x['velocity_eval'] == 'High') & ((x['yaw rate'] >= high_u) | (x['yaw rate'] <= high_d)))\n",
    "       )\n",
    "    else 'safety', axis='columns')"
   ]
  },
  {
   "cell_type": "code",
   "execution_count": 1390,
   "metadata": {},
   "outputs": [
    {
     "data": {
      "text/html": [
       "<div>\n",
       "<style scoped>\n",
       "    .dataframe tbody tr th:only-of-type {\n",
       "        vertical-align: middle;\n",
       "    }\n",
       "\n",
       "    .dataframe tbody tr th {\n",
       "        vertical-align: top;\n",
       "    }\n",
       "\n",
       "    .dataframe thead tr th {\n",
       "        text-align: left;\n",
       "    }\n",
       "</style>\n",
       "<table border=\"1\" class=\"dataframe\">\n",
       "  <thead>\n",
       "    <tr>\n",
       "      <th></th>\n",
       "      <th>velocity</th>\n",
       "      <th>acceleration</th>\n",
       "      <th>yaw rate</th>\n",
       "      <th>velocity_eval</th>\n",
       "      <th>acc_safety</th>\n",
       "      <th>steer_safety</th>\n",
       "    </tr>\n",
       "  </thead>\n",
       "  <tbody>\n",
       "    <tr>\n",
       "      <th>cluster_0</th>\n",
       "      <td>23.03</td>\n",
       "      <td>1.42</td>\n",
       "      <td>-0.03</td>\n",
       "      <td>High</td>\n",
       "      <td>danger</td>\n",
       "      <td>danger</td>\n",
       "    </tr>\n",
       "    <tr>\n",
       "      <th>cluster_1</th>\n",
       "      <td>14.86</td>\n",
       "      <td>1.44</td>\n",
       "      <td>14.09</td>\n",
       "      <td>Mid</td>\n",
       "      <td>danger</td>\n",
       "      <td>danger</td>\n",
       "    </tr>\n",
       "    <tr>\n",
       "      <th>cluster_2</th>\n",
       "      <td>7.98</td>\n",
       "      <td>-0.02</td>\n",
       "      <td>-2.22</td>\n",
       "      <td>Low</td>\n",
       "      <td>safety</td>\n",
       "      <td>danger</td>\n",
       "    </tr>\n",
       "    <tr>\n",
       "      <th>cluster_3</th>\n",
       "      <td>39.35</td>\n",
       "      <td>-0.05</td>\n",
       "      <td>-0.04</td>\n",
       "      <td>High</td>\n",
       "      <td>danger</td>\n",
       "      <td>danger</td>\n",
       "    </tr>\n",
       "    <tr>\n",
       "      <th>cluster_4</th>\n",
       "      <td>15.11</td>\n",
       "      <td>1.40</td>\n",
       "      <td>9.99</td>\n",
       "      <td>High</td>\n",
       "      <td>danger</td>\n",
       "      <td>danger</td>\n",
       "    </tr>\n",
       "    <tr>\n",
       "      <th>cluster_5</th>\n",
       "      <td>8.86</td>\n",
       "      <td>0.08</td>\n",
       "      <td>1.50</td>\n",
       "      <td>Mid</td>\n",
       "      <td>safety</td>\n",
       "      <td>danger</td>\n",
       "    </tr>\n",
       "    <tr>\n",
       "      <th>cluster_6</th>\n",
       "      <td>6.91</td>\n",
       "      <td>-0.54</td>\n",
       "      <td>-0.32</td>\n",
       "      <td>Low</td>\n",
       "      <td>danger</td>\n",
       "      <td>safety</td>\n",
       "    </tr>\n",
       "    <tr>\n",
       "      <th>cluster_7</th>\n",
       "      <td>7.11</td>\n",
       "      <td>-0.09</td>\n",
       "      <td>-2.21</td>\n",
       "      <td>Low</td>\n",
       "      <td>danger</td>\n",
       "      <td>danger</td>\n",
       "    </tr>\n",
       "  </tbody>\n",
       "</table>\n",
       "</div>"
      ],
      "text/plain": [
       "          velocity acceleration yaw rate velocity_eval acc_safety steer_safety\n",
       "cluster_0    23.03         1.42    -0.03          High     danger       danger\n",
       "cluster_1    14.86         1.44    14.09           Mid     danger       danger\n",
       "cluster_2     7.98        -0.02    -2.22           Low     safety       danger\n",
       "cluster_3    39.35        -0.05    -0.04          High     danger       danger\n",
       "cluster_4    15.11         1.40     9.99          High     danger       danger\n",
       "cluster_5     8.86         0.08     1.50           Mid     safety       danger\n",
       "cluster_6     6.91        -0.54    -0.32           Low     danger       safety\n",
       "cluster_7     7.11        -0.09    -2.21           Low     danger       danger"
      ]
     },
     "execution_count": 1390,
     "metadata": {},
     "output_type": "execute_result"
    }
   ],
   "source": [
    "# 평가지표 삽입\n",
    "clusters_eval"
   ]
  },
  {
   "cell_type": "markdown",
   "metadata": {},
   "source": [
    "### 테스트용 평가지표\n",
    "- #### 평가지표 임의로 삽입"
   ]
  },
  {
   "cell_type": "code",
   "execution_count": 1391,
   "metadata": {},
   "outputs": [
    {
     "data": {
      "text/html": [
       "<div>\n",
       "<style scoped>\n",
       "    .dataframe tbody tr th:only-of-type {\n",
       "        vertical-align: middle;\n",
       "    }\n",
       "\n",
       "    .dataframe tbody tr th {\n",
       "        vertical-align: top;\n",
       "    }\n",
       "\n",
       "    .dataframe thead tr th {\n",
       "        text-align: left;\n",
       "    }\n",
       "</style>\n",
       "<table border=\"1\" class=\"dataframe\">\n",
       "  <thead>\n",
       "    <tr>\n",
       "      <th></th>\n",
       "      <th>velocity</th>\n",
       "      <th>acceleration</th>\n",
       "      <th>yaw rate</th>\n",
       "      <th>velocity_eval</th>\n",
       "      <th>acc_safety</th>\n",
       "      <th>steer_safety</th>\n",
       "    </tr>\n",
       "  </thead>\n",
       "  <tbody>\n",
       "    <tr>\n",
       "      <th>cluster_0</th>\n",
       "      <td>23.03</td>\n",
       "      <td>1.42</td>\n",
       "      <td>-0.03</td>\n",
       "      <td>High</td>\n",
       "      <td>safety</td>\n",
       "      <td>danger</td>\n",
       "    </tr>\n",
       "    <tr>\n",
       "      <th>cluster_1</th>\n",
       "      <td>14.86</td>\n",
       "      <td>1.44</td>\n",
       "      <td>14.09</td>\n",
       "      <td>Mid</td>\n",
       "      <td>danger</td>\n",
       "      <td>danger</td>\n",
       "    </tr>\n",
       "    <tr>\n",
       "      <th>cluster_2</th>\n",
       "      <td>7.98</td>\n",
       "      <td>-0.02</td>\n",
       "      <td>-2.22</td>\n",
       "      <td>Low</td>\n",
       "      <td>danger</td>\n",
       "      <td>safety</td>\n",
       "    </tr>\n",
       "    <tr>\n",
       "      <th>cluster_3</th>\n",
       "      <td>39.35</td>\n",
       "      <td>-0.05</td>\n",
       "      <td>-0.04</td>\n",
       "      <td>High</td>\n",
       "      <td>safety</td>\n",
       "      <td>danger</td>\n",
       "    </tr>\n",
       "    <tr>\n",
       "      <th>cluster_4</th>\n",
       "      <td>15.11</td>\n",
       "      <td>1.40</td>\n",
       "      <td>9.99</td>\n",
       "      <td>High</td>\n",
       "      <td>safety</td>\n",
       "      <td>safety</td>\n",
       "    </tr>\n",
       "    <tr>\n",
       "      <th>cluster_5</th>\n",
       "      <td>8.86</td>\n",
       "      <td>0.08</td>\n",
       "      <td>1.50</td>\n",
       "      <td>Mid</td>\n",
       "      <td>danger</td>\n",
       "      <td>danger</td>\n",
       "    </tr>\n",
       "    <tr>\n",
       "      <th>cluster_6</th>\n",
       "      <td>6.91</td>\n",
       "      <td>-0.54</td>\n",
       "      <td>-0.32</td>\n",
       "      <td>Low</td>\n",
       "      <td>safety</td>\n",
       "      <td>safety</td>\n",
       "    </tr>\n",
       "    <tr>\n",
       "      <th>cluster_7</th>\n",
       "      <td>7.11</td>\n",
       "      <td>-0.09</td>\n",
       "      <td>-2.21</td>\n",
       "      <td>Low</td>\n",
       "      <td>danger</td>\n",
       "      <td>safety</td>\n",
       "    </tr>\n",
       "  </tbody>\n",
       "</table>\n",
       "</div>"
      ],
      "text/plain": [
       "          velocity acceleration yaw rate velocity_eval acc_safety steer_safety\n",
       "cluster_0    23.03         1.42    -0.03          High     safety       danger\n",
       "cluster_1    14.86         1.44    14.09           Mid     danger       danger\n",
       "cluster_2     7.98        -0.02    -2.22           Low     danger       safety\n",
       "cluster_3    39.35        -0.05    -0.04          High     safety       danger\n",
       "cluster_4    15.11         1.40     9.99          High     safety       safety\n",
       "cluster_5     8.86         0.08     1.50           Mid     danger       danger\n",
       "cluster_6     6.91        -0.54    -0.32           Low     safety       safety\n",
       "cluster_7     7.11        -0.09    -2.21           Low     danger       safety"
      ]
     },
     "execution_count": 1391,
     "metadata": {},
     "output_type": "execute_result"
    }
   ],
   "source": [
    "# 성능 개선 테스트용\n",
    "test_eval = clusters_eval.copy()\n",
    "test_eval['acc_safety'] = ['safety', 'danger', 'danger', 'safety', 'safety', 'danger', 'safety', 'danger']\n",
    "test_eval['steer_safety'] = ['danger', 'danger', 'safety', 'danger', 'safety', 'danger', 'safety', 'safety']\n",
    "test_eval"
   ]
  },
  {
   "cell_type": "markdown",
   "metadata": {},
   "source": [
    "### Cluster 위험도\n",
    "- #### 평가지표 기반 위험도 계산"
   ]
  },
  {
   "cell_type": "markdown",
   "metadata": {},
   "source": [
    "#### (1) 임의로 점수 부여\n",
    "- ##### low, mid, high : 1점, 2점, 3점\n",
    "- ##### safety, danger : 1점, 2점"
   ]
  },
  {
   "cell_type": "code",
   "execution_count": 1392,
   "metadata": {},
   "outputs": [],
   "source": [
    "# 속도\n",
    "condition_ls = [\n",
    "    (clusters_eval['velocity_eval'] == 'Low'),\n",
    "    (clusters_eval['velocity_eval'] == 'Mid'),\n",
    "    (clusters_eval['velocity_eval'] == 'High'),\n",
    "]\n",
    "choice_ls = [1, 2, 3]\n",
    "\n",
    "vel_score = np.select(condition_ls, choice_ls)"
   ]
  },
  {
   "cell_type": "code",
   "execution_count": 1393,
   "metadata": {},
   "outputs": [],
   "source": [
    "# 가속도\n",
    "condition_ls = [\n",
    "    (clusters_eval['acc_safety'] == 'safety'),\n",
    "    (clusters_eval['acc_safety'] == 'danger'),\n",
    "]\n",
    "choice_ls = [1, 2]\n",
    "\n",
    "acc_score = np.select(condition_ls, choice_ls)"
   ]
  },
  {
   "cell_type": "code",
   "execution_count": 1394,
   "metadata": {},
   "outputs": [],
   "source": [
    "# 요레이트\n",
    "condition_ls = [\n",
    "    (clusters_eval['steer_safety'] == 'safety'),\n",
    "    (clusters_eval['steer_safety'] == 'danger'),\n",
    "]\n",
    "choice_ls = [1, 2]\n",
    "\n",
    "steer_score = np.select(condition_ls, choice_ls)"
   ]
  },
  {
   "cell_type": "code",
   "execution_count": 1395,
   "metadata": {},
   "outputs": [],
   "source": [
    "dangerousness = vel_score * acc_score * steer_score\n",
    "clusters_eval['dangerousness'] = dangerousness"
   ]
  },
  {
   "cell_type": "code",
   "execution_count": 1396,
   "metadata": {},
   "outputs": [
    {
     "data": {
      "text/html": [
       "<div>\n",
       "<style scoped>\n",
       "    .dataframe tbody tr th:only-of-type {\n",
       "        vertical-align: middle;\n",
       "    }\n",
       "\n",
       "    .dataframe tbody tr th {\n",
       "        vertical-align: top;\n",
       "    }\n",
       "\n",
       "    .dataframe thead tr th {\n",
       "        text-align: left;\n",
       "    }\n",
       "</style>\n",
       "<table border=\"1\" class=\"dataframe\">\n",
       "  <thead>\n",
       "    <tr>\n",
       "      <th></th>\n",
       "      <th>velocity</th>\n",
       "      <th>acceleration</th>\n",
       "      <th>yaw rate</th>\n",
       "      <th>velocity_eval</th>\n",
       "      <th>acc_safety</th>\n",
       "      <th>steer_safety</th>\n",
       "      <th>dangerousness</th>\n",
       "    </tr>\n",
       "  </thead>\n",
       "  <tbody>\n",
       "    <tr>\n",
       "      <th>cluster_0</th>\n",
       "      <td>23.03</td>\n",
       "      <td>1.42</td>\n",
       "      <td>-0.03</td>\n",
       "      <td>High</td>\n",
       "      <td>danger</td>\n",
       "      <td>danger</td>\n",
       "      <td>12</td>\n",
       "    </tr>\n",
       "    <tr>\n",
       "      <th>cluster_1</th>\n",
       "      <td>14.86</td>\n",
       "      <td>1.44</td>\n",
       "      <td>14.09</td>\n",
       "      <td>Mid</td>\n",
       "      <td>danger</td>\n",
       "      <td>danger</td>\n",
       "      <td>8</td>\n",
       "    </tr>\n",
       "    <tr>\n",
       "      <th>cluster_2</th>\n",
       "      <td>7.98</td>\n",
       "      <td>-0.02</td>\n",
       "      <td>-2.22</td>\n",
       "      <td>Low</td>\n",
       "      <td>safety</td>\n",
       "      <td>danger</td>\n",
       "      <td>2</td>\n",
       "    </tr>\n",
       "    <tr>\n",
       "      <th>cluster_3</th>\n",
       "      <td>39.35</td>\n",
       "      <td>-0.05</td>\n",
       "      <td>-0.04</td>\n",
       "      <td>High</td>\n",
       "      <td>danger</td>\n",
       "      <td>danger</td>\n",
       "      <td>12</td>\n",
       "    </tr>\n",
       "    <tr>\n",
       "      <th>cluster_4</th>\n",
       "      <td>15.11</td>\n",
       "      <td>1.40</td>\n",
       "      <td>9.99</td>\n",
       "      <td>High</td>\n",
       "      <td>danger</td>\n",
       "      <td>danger</td>\n",
       "      <td>12</td>\n",
       "    </tr>\n",
       "    <tr>\n",
       "      <th>cluster_5</th>\n",
       "      <td>8.86</td>\n",
       "      <td>0.08</td>\n",
       "      <td>1.50</td>\n",
       "      <td>Mid</td>\n",
       "      <td>safety</td>\n",
       "      <td>danger</td>\n",
       "      <td>4</td>\n",
       "    </tr>\n",
       "    <tr>\n",
       "      <th>cluster_6</th>\n",
       "      <td>6.91</td>\n",
       "      <td>-0.54</td>\n",
       "      <td>-0.32</td>\n",
       "      <td>Low</td>\n",
       "      <td>danger</td>\n",
       "      <td>safety</td>\n",
       "      <td>2</td>\n",
       "    </tr>\n",
       "    <tr>\n",
       "      <th>cluster_7</th>\n",
       "      <td>7.11</td>\n",
       "      <td>-0.09</td>\n",
       "      <td>-2.21</td>\n",
       "      <td>Low</td>\n",
       "      <td>danger</td>\n",
       "      <td>danger</td>\n",
       "      <td>4</td>\n",
       "    </tr>\n",
       "  </tbody>\n",
       "</table>\n",
       "</div>"
      ],
      "text/plain": [
       "          velocity acceleration yaw rate velocity_eval acc_safety  \\\n",
       "cluster_0    23.03         1.42    -0.03          High     danger   \n",
       "cluster_1    14.86         1.44    14.09           Mid     danger   \n",
       "cluster_2     7.98        -0.02    -2.22           Low     safety   \n",
       "cluster_3    39.35        -0.05    -0.04          High     danger   \n",
       "cluster_4    15.11         1.40     9.99          High     danger   \n",
       "cluster_5     8.86         0.08     1.50           Mid     safety   \n",
       "cluster_6     6.91        -0.54    -0.32           Low     danger   \n",
       "cluster_7     7.11        -0.09    -2.21           Low     danger   \n",
       "\n",
       "          steer_safety dangerousness  \n",
       "cluster_0       danger            12  \n",
       "cluster_1       danger             8  \n",
       "cluster_2       danger             2  \n",
       "cluster_3       danger            12  \n",
       "cluster_4       danger            12  \n",
       "cluster_5       danger             4  \n",
       "cluster_6       safety             2  \n",
       "cluster_7       danger             4  "
      ]
     },
     "execution_count": 1396,
     "metadata": {},
     "output_type": "execute_result"
    }
   ],
   "source": [
    "clusters_eval"
   ]
  },
  {
   "cell_type": "markdown",
   "metadata": {},
   "source": [
    "#### 테스트용 평가지표의 위험도 계산"
   ]
  },
  {
   "cell_type": "code",
   "execution_count": 1740,
   "metadata": {},
   "outputs": [
    {
     "data": {
      "text/html": [
       "<div>\n",
       "<style scoped>\n",
       "    .dataframe tbody tr th:only-of-type {\n",
       "        vertical-align: middle;\n",
       "    }\n",
       "\n",
       "    .dataframe tbody tr th {\n",
       "        vertical-align: top;\n",
       "    }\n",
       "\n",
       "    .dataframe thead tr th {\n",
       "        text-align: left;\n",
       "    }\n",
       "</style>\n",
       "<table border=\"1\" class=\"dataframe\">\n",
       "  <thead>\n",
       "    <tr>\n",
       "      <th></th>\n",
       "      <th>velocity</th>\n",
       "      <th>acceleration</th>\n",
       "      <th>yaw rate</th>\n",
       "      <th>velocity_eval</th>\n",
       "      <th>acc_safety</th>\n",
       "      <th>steer_safety</th>\n",
       "      <th>dangerousness</th>\n",
       "    </tr>\n",
       "  </thead>\n",
       "  <tbody>\n",
       "    <tr>\n",
       "      <th>cluster_0</th>\n",
       "      <td>23.03</td>\n",
       "      <td>1.42</td>\n",
       "      <td>-0.03</td>\n",
       "      <td>High</td>\n",
       "      <td>safety</td>\n",
       "      <td>danger</td>\n",
       "      <td>6</td>\n",
       "    </tr>\n",
       "    <tr>\n",
       "      <th>cluster_1</th>\n",
       "      <td>14.86</td>\n",
       "      <td>1.44</td>\n",
       "      <td>14.09</td>\n",
       "      <td>Mid</td>\n",
       "      <td>danger</td>\n",
       "      <td>danger</td>\n",
       "      <td>8</td>\n",
       "    </tr>\n",
       "    <tr>\n",
       "      <th>cluster_2</th>\n",
       "      <td>7.98</td>\n",
       "      <td>-0.02</td>\n",
       "      <td>-2.22</td>\n",
       "      <td>Low</td>\n",
       "      <td>danger</td>\n",
       "      <td>safety</td>\n",
       "      <td>2</td>\n",
       "    </tr>\n",
       "    <tr>\n",
       "      <th>cluster_3</th>\n",
       "      <td>39.35</td>\n",
       "      <td>-0.05</td>\n",
       "      <td>-0.04</td>\n",
       "      <td>High</td>\n",
       "      <td>safety</td>\n",
       "      <td>danger</td>\n",
       "      <td>6</td>\n",
       "    </tr>\n",
       "    <tr>\n",
       "      <th>cluster_4</th>\n",
       "      <td>15.11</td>\n",
       "      <td>1.40</td>\n",
       "      <td>9.99</td>\n",
       "      <td>High</td>\n",
       "      <td>safety</td>\n",
       "      <td>safety</td>\n",
       "      <td>3</td>\n",
       "    </tr>\n",
       "    <tr>\n",
       "      <th>cluster_5</th>\n",
       "      <td>8.86</td>\n",
       "      <td>0.08</td>\n",
       "      <td>1.50</td>\n",
       "      <td>Mid</td>\n",
       "      <td>danger</td>\n",
       "      <td>danger</td>\n",
       "      <td>8</td>\n",
       "    </tr>\n",
       "    <tr>\n",
       "      <th>cluster_6</th>\n",
       "      <td>6.91</td>\n",
       "      <td>-0.54</td>\n",
       "      <td>-0.32</td>\n",
       "      <td>Low</td>\n",
       "      <td>safety</td>\n",
       "      <td>safety</td>\n",
       "      <td>1</td>\n",
       "    </tr>\n",
       "    <tr>\n",
       "      <th>cluster_7</th>\n",
       "      <td>7.11</td>\n",
       "      <td>-0.09</td>\n",
       "      <td>-2.21</td>\n",
       "      <td>Low</td>\n",
       "      <td>danger</td>\n",
       "      <td>safety</td>\n",
       "      <td>2</td>\n",
       "    </tr>\n",
       "  </tbody>\n",
       "</table>\n",
       "</div>"
      ],
      "text/plain": [
       "          velocity acceleration yaw rate velocity_eval acc_safety  \\\n",
       "cluster_0    23.03         1.42    -0.03          High     safety   \n",
       "cluster_1    14.86         1.44    14.09           Mid     danger   \n",
       "cluster_2     7.98        -0.02    -2.22           Low     danger   \n",
       "cluster_3    39.35        -0.05    -0.04          High     safety   \n",
       "cluster_4    15.11         1.40     9.99          High     safety   \n",
       "cluster_5     8.86         0.08     1.50           Mid     danger   \n",
       "cluster_6     6.91        -0.54    -0.32           Low     safety   \n",
       "cluster_7     7.11        -0.09    -2.21           Low     danger   \n",
       "\n",
       "          steer_safety dangerousness  \n",
       "cluster_0       danger             6  \n",
       "cluster_1       danger             8  \n",
       "cluster_2       safety             2  \n",
       "cluster_3       danger             6  \n",
       "cluster_4       safety             3  \n",
       "cluster_5       danger             8  \n",
       "cluster_6       safety             1  \n",
       "cluster_7       safety             2  "
      ]
     },
     "execution_count": 1740,
     "metadata": {},
     "output_type": "execute_result"
    }
   ],
   "source": [
    "test_eval"
   ]
  },
  {
   "cell_type": "code",
   "execution_count": 1743,
   "metadata": {},
   "outputs": [
    {
     "data": {
      "text/html": [
       "<div>\n",
       "<style scoped>\n",
       "    .dataframe tbody tr th:only-of-type {\n",
       "        vertical-align: middle;\n",
       "    }\n",
       "\n",
       "    .dataframe tbody tr th {\n",
       "        vertical-align: top;\n",
       "    }\n",
       "\n",
       "    .dataframe thead tr th {\n",
       "        text-align: left;\n",
       "    }\n",
       "</style>\n",
       "<table border=\"1\" class=\"dataframe\">\n",
       "  <thead>\n",
       "    <tr>\n",
       "      <th></th>\n",
       "      <th>velocity</th>\n",
       "      <th>acceleration</th>\n",
       "      <th>yaw rate</th>\n",
       "      <th>velocity_eval</th>\n",
       "      <th>acc_safety</th>\n",
       "      <th>steer_safety</th>\n",
       "      <th>dangerousness</th>\n",
       "    </tr>\n",
       "  </thead>\n",
       "  <tbody>\n",
       "    <tr>\n",
       "      <th>cluster 1</th>\n",
       "      <td>23.03</td>\n",
       "      <td>1.42</td>\n",
       "      <td>-0.03</td>\n",
       "      <td>High</td>\n",
       "      <td>safety</td>\n",
       "      <td>danger</td>\n",
       "      <td>6</td>\n",
       "    </tr>\n",
       "    <tr>\n",
       "      <th>cluster 2</th>\n",
       "      <td>14.86</td>\n",
       "      <td>1.44</td>\n",
       "      <td>14.09</td>\n",
       "      <td>Mid</td>\n",
       "      <td>danger</td>\n",
       "      <td>danger</td>\n",
       "      <td>8</td>\n",
       "    </tr>\n",
       "    <tr>\n",
       "      <th>cluster 3</th>\n",
       "      <td>7.98</td>\n",
       "      <td>-0.02</td>\n",
       "      <td>-2.22</td>\n",
       "      <td>Low</td>\n",
       "      <td>danger</td>\n",
       "      <td>safety</td>\n",
       "      <td>2</td>\n",
       "    </tr>\n",
       "    <tr>\n",
       "      <th>cluster 4</th>\n",
       "      <td>39.35</td>\n",
       "      <td>-0.05</td>\n",
       "      <td>-0.04</td>\n",
       "      <td>High</td>\n",
       "      <td>safety</td>\n",
       "      <td>danger</td>\n",
       "      <td>6</td>\n",
       "    </tr>\n",
       "    <tr>\n",
       "      <th>cluster 5</th>\n",
       "      <td>15.11</td>\n",
       "      <td>1.40</td>\n",
       "      <td>9.99</td>\n",
       "      <td>High</td>\n",
       "      <td>safety</td>\n",
       "      <td>safety</td>\n",
       "      <td>3</td>\n",
       "    </tr>\n",
       "    <tr>\n",
       "      <th>cluster 6</th>\n",
       "      <td>8.86</td>\n",
       "      <td>0.08</td>\n",
       "      <td>1.50</td>\n",
       "      <td>Mid</td>\n",
       "      <td>danger</td>\n",
       "      <td>danger</td>\n",
       "      <td>8</td>\n",
       "    </tr>\n",
       "    <tr>\n",
       "      <th>cluster 7</th>\n",
       "      <td>6.91</td>\n",
       "      <td>-0.54</td>\n",
       "      <td>-0.32</td>\n",
       "      <td>Low</td>\n",
       "      <td>safety</td>\n",
       "      <td>safety</td>\n",
       "      <td>1</td>\n",
       "    </tr>\n",
       "    <tr>\n",
       "      <th>cluster 8</th>\n",
       "      <td>7.11</td>\n",
       "      <td>-0.09</td>\n",
       "      <td>-2.21</td>\n",
       "      <td>Low</td>\n",
       "      <td>danger</td>\n",
       "      <td>safety</td>\n",
       "      <td>2</td>\n",
       "    </tr>\n",
       "  </tbody>\n",
       "</table>\n",
       "</div>"
      ],
      "text/plain": [
       "          velocity acceleration yaw rate velocity_eval acc_safety  \\\n",
       "cluster 1    23.03         1.42    -0.03          High     safety   \n",
       "cluster 2    14.86         1.44    14.09           Mid     danger   \n",
       "cluster 3     7.98        -0.02    -2.22           Low     danger   \n",
       "cluster 4    39.35        -0.05    -0.04          High     safety   \n",
       "cluster 5    15.11         1.40     9.99          High     safety   \n",
       "cluster 6     8.86         0.08     1.50           Mid     danger   \n",
       "cluster 7     6.91        -0.54    -0.32           Low     safety   \n",
       "cluster 8     7.11        -0.09    -2.21           Low     danger   \n",
       "\n",
       "          steer_safety dangerousness  \n",
       "cluster 1       danger             6  \n",
       "cluster 2       danger             8  \n",
       "cluster 3       safety             2  \n",
       "cluster 4       danger             6  \n",
       "cluster 5       safety             3  \n",
       "cluster 6       danger             8  \n",
       "cluster 7       safety             1  \n",
       "cluster 8       safety             2  "
      ]
     },
     "execution_count": 1743,
     "metadata": {},
     "output_type": "execute_result"
    }
   ],
   "source": [
    "test_eval.index = ['cluster 1', 'cluster 2', 'cluster 3', 'cluster 4', 'cluster 5', 'cluster 6', 'cluster 7', 'cluster 8']\n",
    "test_eval"
   ]
  },
  {
   "cell_type": "code",
   "execution_count": 1398,
   "metadata": {},
   "outputs": [],
   "source": [
    "# 속도\n",
    "condition_ls2 = [\n",
    "    (test_eval['velocity_eval'] == 'Low'),\n",
    "    (test_eval['velocity_eval'] == 'Mid'),\n",
    "    (test_eval['velocity_eval'] == 'High'),\n",
    "]\n",
    "choice_ls2 = [1, 2, 3]\n",
    "\n",
    "vel_score2 = np.select(condition_ls2, choice_ls2)"
   ]
  },
  {
   "cell_type": "code",
   "execution_count": 1399,
   "metadata": {},
   "outputs": [],
   "source": [
    "# 가속도\n",
    "condition_ls2 = [\n",
    "    (test_eval['acc_safety'] == 'safety'),\n",
    "    (test_eval['acc_safety'] == 'danger'),\n",
    "]\n",
    "choice_ls2 = [1, 2]\n",
    "\n",
    "acc_score2 = np.select(condition_ls2, choice_ls2)"
   ]
  },
  {
   "cell_type": "code",
   "execution_count": 1400,
   "metadata": {},
   "outputs": [],
   "source": [
    "# 요레이트\n",
    "condition_ls2 = [\n",
    "    (test_eval['steer_safety'] == 'safety'),\n",
    "    (test_eval['steer_safety'] == 'danger'),\n",
    "]\n",
    "choice_ls2 = [1, 2]\n",
    "\n",
    "steer_score2 = np.select(condition_ls2, choice_ls2)"
   ]
  },
  {
   "cell_type": "code",
   "execution_count": 1401,
   "metadata": {},
   "outputs": [],
   "source": [
    "dangerousness2 = vel_score2 * acc_score2 * steer_score2\n",
    "test_eval['dangerousness'] = dangerousness2"
   ]
  },
  {
   "cell_type": "code",
   "execution_count": 1402,
   "metadata": {},
   "outputs": [
    {
     "data": {
      "text/html": [
       "<div>\n",
       "<style scoped>\n",
       "    .dataframe tbody tr th:only-of-type {\n",
       "        vertical-align: middle;\n",
       "    }\n",
       "\n",
       "    .dataframe tbody tr th {\n",
       "        vertical-align: top;\n",
       "    }\n",
       "\n",
       "    .dataframe thead tr th {\n",
       "        text-align: left;\n",
       "    }\n",
       "</style>\n",
       "<table border=\"1\" class=\"dataframe\">\n",
       "  <thead>\n",
       "    <tr>\n",
       "      <th></th>\n",
       "      <th>velocity</th>\n",
       "      <th>acceleration</th>\n",
       "      <th>yaw rate</th>\n",
       "      <th>velocity_eval</th>\n",
       "      <th>acc_safety</th>\n",
       "      <th>steer_safety</th>\n",
       "      <th>dangerousness</th>\n",
       "    </tr>\n",
       "  </thead>\n",
       "  <tbody>\n",
       "    <tr>\n",
       "      <th>cluster_0</th>\n",
       "      <td>23.03</td>\n",
       "      <td>1.42</td>\n",
       "      <td>-0.03</td>\n",
       "      <td>High</td>\n",
       "      <td>safety</td>\n",
       "      <td>danger</td>\n",
       "      <td>6</td>\n",
       "    </tr>\n",
       "    <tr>\n",
       "      <th>cluster_1</th>\n",
       "      <td>14.86</td>\n",
       "      <td>1.44</td>\n",
       "      <td>14.09</td>\n",
       "      <td>Mid</td>\n",
       "      <td>danger</td>\n",
       "      <td>danger</td>\n",
       "      <td>8</td>\n",
       "    </tr>\n",
       "    <tr>\n",
       "      <th>cluster_2</th>\n",
       "      <td>7.98</td>\n",
       "      <td>-0.02</td>\n",
       "      <td>-2.22</td>\n",
       "      <td>Low</td>\n",
       "      <td>danger</td>\n",
       "      <td>safety</td>\n",
       "      <td>2</td>\n",
       "    </tr>\n",
       "    <tr>\n",
       "      <th>cluster_3</th>\n",
       "      <td>39.35</td>\n",
       "      <td>-0.05</td>\n",
       "      <td>-0.04</td>\n",
       "      <td>High</td>\n",
       "      <td>safety</td>\n",
       "      <td>danger</td>\n",
       "      <td>6</td>\n",
       "    </tr>\n",
       "    <tr>\n",
       "      <th>cluster_4</th>\n",
       "      <td>15.11</td>\n",
       "      <td>1.40</td>\n",
       "      <td>9.99</td>\n",
       "      <td>High</td>\n",
       "      <td>safety</td>\n",
       "      <td>safety</td>\n",
       "      <td>3</td>\n",
       "    </tr>\n",
       "    <tr>\n",
       "      <th>cluster_5</th>\n",
       "      <td>8.86</td>\n",
       "      <td>0.08</td>\n",
       "      <td>1.50</td>\n",
       "      <td>Mid</td>\n",
       "      <td>danger</td>\n",
       "      <td>danger</td>\n",
       "      <td>8</td>\n",
       "    </tr>\n",
       "    <tr>\n",
       "      <th>cluster_6</th>\n",
       "      <td>6.91</td>\n",
       "      <td>-0.54</td>\n",
       "      <td>-0.32</td>\n",
       "      <td>Low</td>\n",
       "      <td>safety</td>\n",
       "      <td>safety</td>\n",
       "      <td>1</td>\n",
       "    </tr>\n",
       "    <tr>\n",
       "      <th>cluster_7</th>\n",
       "      <td>7.11</td>\n",
       "      <td>-0.09</td>\n",
       "      <td>-2.21</td>\n",
       "      <td>Low</td>\n",
       "      <td>danger</td>\n",
       "      <td>safety</td>\n",
       "      <td>2</td>\n",
       "    </tr>\n",
       "  </tbody>\n",
       "</table>\n",
       "</div>"
      ],
      "text/plain": [
       "          velocity acceleration yaw rate velocity_eval acc_safety  \\\n",
       "cluster_0    23.03         1.42    -0.03          High     safety   \n",
       "cluster_1    14.86         1.44    14.09           Mid     danger   \n",
       "cluster_2     7.98        -0.02    -2.22           Low     danger   \n",
       "cluster_3    39.35        -0.05    -0.04          High     safety   \n",
       "cluster_4    15.11         1.40     9.99          High     safety   \n",
       "cluster_5     8.86         0.08     1.50           Mid     danger   \n",
       "cluster_6     6.91        -0.54    -0.32           Low     safety   \n",
       "cluster_7     7.11        -0.09    -2.21           Low     danger   \n",
       "\n",
       "          steer_safety dangerousness  \n",
       "cluster_0       danger             6  \n",
       "cluster_1       danger             8  \n",
       "cluster_2       safety             2  \n",
       "cluster_3       danger             6  \n",
       "cluster_4       safety             3  \n",
       "cluster_5       danger             8  \n",
       "cluster_6       safety             1  \n",
       "cluster_7       safety             2  "
      ]
     },
     "execution_count": 1402,
     "metadata": {},
     "output_type": "execute_result"
    }
   ],
   "source": [
    "test_eval"
   ]
  },
  {
   "cell_type": "markdown",
   "metadata": {},
   "source": [
    "#### (2) 엔트로피 가중치 사용"
   ]
  },
  {
   "cell_type": "code",
   "execution_count": 1403,
   "metadata": {},
   "outputs": [],
   "source": [
    "df = clusters_eval.copy()\n",
    "\n",
    "df = df[['velocity', 'acceleration', 'yaw rate']]\n",
    "df[df < 0] = -df"
   ]
  },
  {
   "cell_type": "code",
   "execution_count": 1404,
   "metadata": {},
   "outputs": [
    {
     "data": {
      "text/plain": [
       "velocity        float64\n",
       "acceleration    float64\n",
       "yaw rate        float64\n",
       "dtype: object"
      ]
     },
     "execution_count": 1404,
     "metadata": {},
     "output_type": "execute_result"
    }
   ],
   "source": [
    "df.dtypes"
   ]
  },
  {
   "cell_type": "code",
   "execution_count": 1405,
   "metadata": {},
   "outputs": [],
   "source": [
    "# 정규화 및 확률변수로 변환\n",
    "normal_df = df.apply(lambda x: (x-x.min())/(x.max()-x.min()), axis=0)\n",
    "normal_df = normal_df.apply(lambda x: (x/x.sum()), axis=0)\n",
    "normal_df[normal_df == 0] = 1"
   ]
  },
  {
   "cell_type": "code",
   "execution_count": 1406,
   "metadata": {},
   "outputs": [],
   "source": [
    "# 엔트로피\n",
    "entropy_df = normal_df.apply(lambda x: ((x*np.log2(x)).sum())/(-np.log2(2000)), axis=0)"
   ]
  },
  {
   "cell_type": "code",
   "execution_count": 1407,
   "metadata": {},
   "outputs": [],
   "source": [
    "# 다양성의 정도\n",
    "diversity_df = 1 - entropy_df"
   ]
  },
  {
   "cell_type": "code",
   "execution_count": 1408,
   "metadata": {},
   "outputs": [],
   "source": [
    "# 가중치\n",
    "weigth = {'vel_weigth' : diversity_df['velocity'] / diversity_df.sum(),\n",
    "          'acc_weigth' : diversity_df['acceleration'] / diversity_df.sum(),\n",
    "          'yaw_weigth' : diversity_df['yaw rate'] / diversity_df.sum()}"
   ]
  },
  {
   "cell_type": "code",
   "execution_count": 1409,
   "metadata": {},
   "outputs": [
    {
     "data": {
      "text/plain": [
       "1.0"
      ]
     },
     "execution_count": 1409,
     "metadata": {},
     "output_type": "execute_result"
    }
   ],
   "source": [
    "sum(weigth.values())"
   ]
  },
  {
   "cell_type": "code",
   "execution_count": 1410,
   "metadata": {},
   "outputs": [],
   "source": [
    "score = df['velocity'].values * weigth['vel_weigth'] +\\\n",
    "        df['acceleration'].values * weigth['acc_weigth'] +\\\n",
    "        df['yaw rate'].values * weigth['yaw_weigth']\n",
    "\n",
    "score = score.round(2)"
   ]
  },
  {
   "cell_type": "code",
   "execution_count": 1411,
   "metadata": {},
   "outputs": [],
   "source": [
    "df['score(entropy)'] = score"
   ]
  },
  {
   "cell_type": "code",
   "execution_count": 1412,
   "metadata": {},
   "outputs": [
    {
     "data": {
      "text/html": [
       "<div>\n",
       "<style scoped>\n",
       "    .dataframe tbody tr th:only-of-type {\n",
       "        vertical-align: middle;\n",
       "    }\n",
       "\n",
       "    .dataframe tbody tr th {\n",
       "        vertical-align: top;\n",
       "    }\n",
       "\n",
       "    .dataframe thead tr th {\n",
       "        text-align: left;\n",
       "    }\n",
       "</style>\n",
       "<table border=\"1\" class=\"dataframe\">\n",
       "  <thead>\n",
       "    <tr>\n",
       "      <th></th>\n",
       "      <th>velocity</th>\n",
       "      <th>acceleration</th>\n",
       "      <th>yaw rate</th>\n",
       "      <th>score(entropy)</th>\n",
       "    </tr>\n",
       "  </thead>\n",
       "  <tbody>\n",
       "    <tr>\n",
       "      <th>cluster_0</th>\n",
       "      <td>23.03</td>\n",
       "      <td>1.42</td>\n",
       "      <td>0.03</td>\n",
       "      <td>8.15</td>\n",
       "    </tr>\n",
       "    <tr>\n",
       "      <th>cluster_1</th>\n",
       "      <td>14.86</td>\n",
       "      <td>1.44</td>\n",
       "      <td>14.09</td>\n",
       "      <td>10.18</td>\n",
       "    </tr>\n",
       "    <tr>\n",
       "      <th>cluster_2</th>\n",
       "      <td>7.98</td>\n",
       "      <td>0.02</td>\n",
       "      <td>2.22</td>\n",
       "      <td>3.41</td>\n",
       "    </tr>\n",
       "    <tr>\n",
       "      <th>cluster_3</th>\n",
       "      <td>39.35</td>\n",
       "      <td>0.05</td>\n",
       "      <td>0.04</td>\n",
       "      <td>13.14</td>\n",
       "    </tr>\n",
       "    <tr>\n",
       "      <th>cluster_4</th>\n",
       "      <td>15.11</td>\n",
       "      <td>1.40</td>\n",
       "      <td>9.99</td>\n",
       "      <td>8.87</td>\n",
       "    </tr>\n",
       "    <tr>\n",
       "      <th>cluster_5</th>\n",
       "      <td>8.86</td>\n",
       "      <td>0.08</td>\n",
       "      <td>1.50</td>\n",
       "      <td>3.48</td>\n",
       "    </tr>\n",
       "    <tr>\n",
       "      <th>cluster_6</th>\n",
       "      <td>6.91</td>\n",
       "      <td>0.54</td>\n",
       "      <td>0.32</td>\n",
       "      <td>2.59</td>\n",
       "    </tr>\n",
       "    <tr>\n",
       "      <th>cluster_7</th>\n",
       "      <td>7.11</td>\n",
       "      <td>0.09</td>\n",
       "      <td>2.21</td>\n",
       "      <td>3.14</td>\n",
       "    </tr>\n",
       "  </tbody>\n",
       "</table>\n",
       "</div>"
      ],
      "text/plain": [
       "          velocity acceleration yaw rate score(entropy)\n",
       "cluster_0    23.03         1.42     0.03           8.15\n",
       "cluster_1    14.86         1.44    14.09          10.18\n",
       "cluster_2     7.98         0.02     2.22           3.41\n",
       "cluster_3    39.35         0.05     0.04          13.14\n",
       "cluster_4    15.11         1.40     9.99           8.87\n",
       "cluster_5     8.86         0.08     1.50           3.48\n",
       "cluster_6     6.91         0.54     0.32           2.59\n",
       "cluster_7     7.11         0.09     2.21           3.14"
      ]
     },
     "execution_count": 1412,
     "metadata": {},
     "output_type": "execute_result"
    }
   ],
   "source": [
    "clusters_eval_entropy = df.copy()\n",
    "clusters_eval_entropy"
   ]
  },
  {
   "cell_type": "markdown",
   "metadata": {},
   "source": [
    "# 운전자 평가"
   ]
  },
  {
   "cell_type": "markdown",
   "metadata": {},
   "source": [
    "- ### 새로운 운전자 데이터 사용\n",
    "- ### DE 파일 업로드\n",
    "- ### Kmeans predict\n",
    "- ### 스코어링\n",
    "- ### 운전자 평가"
   ]
  },
  {
   "cell_type": "code",
   "execution_count": null,
   "metadata": {},
   "outputs": [],
   "source": []
  },
  {
   "cell_type": "code",
   "execution_count": null,
   "metadata": {},
   "outputs": [],
   "source": []
  },
  {
   "cell_type": "code",
   "execution_count": null,
   "metadata": {},
   "outputs": [],
   "source": []
  },
  {
   "cell_type": "markdown",
   "metadata": {},
   "source": [
    "차량 번호\n",
    "- driver1:1165\n",
    "- driver2:1167\n",
    "- driver3:1194\n",
    "- driver4:1197\n",
    "- driver5:1297\n",
    "- driver6:1344\n",
    "- driver7:1372\n",
    "- driver8:1393\n",
    "- driver9:1420\n",
    "- driver10:1422\n",
    "- driver11:1434\n",
    "- driver12:1491\n",
    "- driver13:1493\n",
    "- driver14:1534\n",
    "- driver15:1584"
   ]
  },
  {
   "cell_type": "code",
   "execution_count": 1413,
   "metadata": {},
   "outputs": [],
   "source": [
    "text_file_ls = ['20210701-░ц▒т71╣┘1165-S-01-0000001.txt', '20210701-░ц▒т71╣┘1167-S-01-0000001.txt', \\\n",
    "                '20210701-░ц▒т71╣┘1194-S-01-0000001.txt', '20210701-░ц▒т71╣┘1297-S-01-0000001.txt', \\\n",
    "                '20210701-░ц▒т71╣┘1344-S-01-0000001.txt', '20210701-░ц▒т71╣┘1420-S-01-0000001.txt', \\\n",
    "                '20210701-░ц▒т71╣┘1422-S-01-0000001.txt', '20210701-░ц▒т71╣┘1491-S-01-0000001.txt', \\\n",
    "                '20210701-░ц▒т71╣┘1493-S-01-0000001.txt', '20210701-░ц▒т71╣┘1534-S-01-0000001.txt', \\\n",
    "                '20210701_░ц▒т71╣┘1197.txt', '20210701_░ц▒т71╣┘1372.txt', '20210701_░ц▒т71╣┘1393.txt', \\\n",
    "                '20210701_░ц▒т71╣┘1434.txt', '20210701_░ц▒т71╣┘1584.txt']"
   ]
  },
  {
   "cell_type": "code",
   "execution_count": null,
   "metadata": {},
   "outputs": [],
   "source": []
  },
  {
   "cell_type": "code",
   "execution_count": null,
   "metadata": {},
   "outputs": [],
   "source": []
  },
  {
   "cell_type": "code",
   "execution_count": 1414,
   "metadata": {},
   "outputs": [],
   "source": [
    "dir_ = 'C:\\\\Users\\\\tactics\\\\I-Maas\\\\DTG\\\\DTG\\\\'"
   ]
  },
  {
   "cell_type": "markdown",
   "metadata": {},
   "source": [
    "# 운전자 데이터 1\n",
    "- driver_DE_DR_1.npy\n",
    "- '20210701-░ц▒т71╣┘1165-S-01-0000001.txt'"
   ]
  },
  {
   "cell_type": "code",
   "execution_count": 1415,
   "metadata": {},
   "outputs": [],
   "source": [
    "text_file = text_file_ls[0]"
   ]
  },
  {
   "cell_type": "code",
   "execution_count": 1416,
   "metadata": {},
   "outputs": [],
   "source": [
    "input_file = open(dir_+text_file,'r', encoding='cp949')\n",
    "data = input_file.read()"
   ]
  },
  {
   "cell_type": "code",
   "execution_count": 1417,
   "metadata": {},
   "outputs": [
    {
     "name": "stdout",
     "output_type": "stream",
     "text": [
      "file info : ######DT-202,6.01.930000000000000000011경기71바11651238100831###########0000001\n"
     ]
    }
   ],
   "source": [
    "print(f\"file info : {data[:76]}\")"
   ]
  },
  {
   "cell_type": "code",
   "execution_count": 1418,
   "metadata": {},
   "outputs": [
    {
     "name": "stdout",
     "output_type": "stream",
     "text": [
      "car num : 1165\n"
     ]
    }
   ],
   "source": [
    "print(f\"car num : {data[44:48]}\")"
   ]
  },
  {
   "cell_type": "code",
   "execution_count": 1419,
   "metadata": {},
   "outputs": [
    {
     "name": "stdout",
     "output_type": "stream",
     "text": [
      "row : 55502\n"
     ]
    }
   ],
   "source": [
    "row = int((len(data)-76)/68)\n",
    "print(f\"row : {row}\")"
   ]
  },
  {
   "cell_type": "code",
   "execution_count": 1420,
   "metadata": {},
   "outputs": [
    {
     "name": "stdout",
     "output_type": "stream",
     "text": [
      "total distance : 235(km)\n"
     ]
    }
   ],
   "source": [
    "# 총 주행거리(km)\n",
    "distance = int(data[76+(row-1)*68:144+(row-1)*68][4:11]) - int(data[76+(0)*68:144+(0)*68][4:11])\n",
    "print(f\"total distance : {distance}(km)\")"
   ]
  },
  {
   "cell_type": "code",
   "execution_count": 1421,
   "metadata": {},
   "outputs": [],
   "source": [
    "# 차원 축소 DE : driver_DE_DR_1.npy\n",
    "driving_event_DR = np.load(\"driver_DE_DR_1.npy\")"
   ]
  },
  {
   "cell_type": "code",
   "execution_count": 1422,
   "metadata": {},
   "outputs": [],
   "source": [
    "DE_DR_df = {\n",
    "    'driving event data(30)' : [driving_event_DR[i] for i in range(len(driving_event_DR))],\n",
    "    'idx' : [j for j in range(len(driving_event_DR))]\n",
    "}\n",
    "\n",
    "new_df = pd.DataFrame(DE_DR_df)"
   ]
  },
  {
   "cell_type": "code",
   "execution_count": 1423,
   "metadata": {},
   "outputs": [],
   "source": [
    "# Kmeans predict\n",
    "new_data_scale = scaler.fit_transform(driving_event_DR)\n",
    "\n",
    "new_df['cluster'] = kmeans.predict(new_data_scale)"
   ]
  },
  {
   "cell_type": "code",
   "execution_count": 1424,
   "metadata": {},
   "outputs": [
    {
     "data": {
      "text/plain": [
       "{0, 1, 2, 3, 4, 5, 6, 7}"
      ]
     },
     "execution_count": 1424,
     "metadata": {},
     "output_type": "execute_result"
    }
   ],
   "source": [
    "# 해당하는 cluster 종류\n",
    "set(new_df['cluster'].values)"
   ]
  },
  {
   "cell_type": "code",
   "execution_count": 1425,
   "metadata": {},
   "outputs": [],
   "source": [
    "cluster_dic = {}\n",
    "    \n",
    "for i in range(K_value):\n",
    "    if i not in new_df['cluster'].values:\n",
    "        cluster_dic[f\"cluster_{i}\"] = []\n",
    "    else:\n",
    "        cluster_dic[f\"cluster_{i}\"] = list(new_df.groupby('cluster').get_group(i)['idx'])"
   ]
  },
  {
   "cell_type": "code",
   "execution_count": 1426,
   "metadata": {},
   "outputs": [
    {
     "data": {
      "text/plain": [
       "[23, 24, 397, 25, 3, 131, 2035, 137]"
      ]
     },
     "execution_count": 1426,
     "metadata": {},
     "output_type": "execute_result"
    }
   ],
   "source": [
    "# cluster 별 데이터 개수\n",
    "cluster_data = list(cluster_dic.values())\n",
    "cluster_num = [len(e) for e in cluster_data]\n",
    "cluster_num"
   ]
  },
  {
   "cell_type": "code",
   "execution_count": 1427,
   "metadata": {},
   "outputs": [
    {
     "data": {
      "text/plain": [
       "[12, 8, 2, 12, 12, 4, 2, 4]"
      ]
     },
     "execution_count": 1427,
     "metadata": {},
     "output_type": "execute_result"
    }
   ],
   "source": [
    "# cluster 별 위험도 점수\n",
    "cluster_scores = clusters_eval['dangerousness'].values.flatten().tolist()\n",
    "cluster_scores"
   ]
  },
  {
   "cell_type": "code",
   "execution_count": 1428,
   "metadata": {},
   "outputs": [],
   "source": [
    "# 운전자 스코어링_1 : 점수 부여 방식\n",
    "score_1 = 0\n",
    "for i in range(K_value):\n",
    "    score_1 += cluster_scores[i] * cluster_num[i]"
   ]
  },
  {
   "cell_type": "code",
   "execution_count": 1429,
   "metadata": {},
   "outputs": [
    {
     "data": {
      "text/plain": [
       "[8.15, 10.18, 3.41, 13.14, 8.87, 3.48, 2.59, 3.14]"
      ]
     },
     "execution_count": 1429,
     "metadata": {},
     "output_type": "execute_result"
    }
   ],
   "source": [
    "# cluster 별 엔트로피 점수\n",
    "cluster_scores = clusters_eval_entropy['score(entropy)'].values.flatten().tolist()\n",
    "cluster_scores"
   ]
  },
  {
   "cell_type": "code",
   "execution_count": 1430,
   "metadata": {},
   "outputs": [],
   "source": [
    "# 운전자 스코어링_2 : 엔트로피 가중치 방식\n",
    "score_2 = 0\n",
    "for i in range(K_value):\n",
    "    score_2 += cluster_scores[i] * cluster_num[i]"
   ]
  },
  {
   "cell_type": "code",
   "execution_count": 1431,
   "metadata": {},
   "outputs": [],
   "source": [
    "# test) cluster 별 위험도 점수 2\n",
    "cluster_scores2 = test_eval['dangerousness'].values.flatten().tolist()\n",
    "\n",
    "score_3 = 0\n",
    "for i in range(K_value):\n",
    "    score_3 += cluster_scores2[i] * cluster_num[i]"
   ]
  },
  {
   "cell_type": "code",
   "execution_count": 1432,
   "metadata": {},
   "outputs": [],
   "source": [
    "# 관련성 높은 클러스터\n",
    "related_cluster = sorted(cluster_dic, key=lambda key:len(cluster_dic[key]), reverse=True)"
   ]
  },
  {
   "cell_type": "code",
   "execution_count": 1433,
   "metadata": {},
   "outputs": [
    {
     "name": "stdout",
     "output_type": "stream",
     "text": [
      "DRIVER BEHAVIOR : \n",
      "\n",
      "              cluster_6\n",
      "velocity_eval       Low\n",
      "acc_safety       danger\n",
      "steer_safety     safety\n",
      "\n",
      "\n",
      "              cluster_2\n",
      "velocity_eval       Low\n",
      "acc_safety       safety\n",
      "steer_safety     danger\n",
      "\n",
      "\n",
      "              cluster_7\n",
      "velocity_eval       Low\n",
      "acc_safety       danger\n",
      "steer_safety     danger\n",
      "\n",
      "\n"
     ]
    }
   ],
   "source": [
    "# 운전자 평가\n",
    "# 기존 평가지표 df에서 cluster 해당 내용 매칭\n",
    "print(\"DRIVER BEHAVIOR : \\n\")\n",
    "for cluster in related_cluster[:3]: # 3위까지\n",
    "    print(pd.DataFrame(clusters_eval.loc[cluster][['velocity_eval', 'acc_safety', 'steer_safety']]))\n",
    "    print(\"\\n\")"
   ]
  },
  {
   "cell_type": "code",
   "execution_count": 1434,
   "metadata": {},
   "outputs": [],
   "source": [
    "# test) cluster 별 위험도 점수 2\n",
    "cluster_scores2 = test_eval['dangerousness'].values.flatten().tolist()\n",
    "\n",
    "score_3 = 0\n",
    "for i in range(K_value):\n",
    "    score_3 += cluster_scores2[i] * cluster_num[i]"
   ]
  },
  {
   "cell_type": "code",
   "execution_count": 1435,
   "metadata": {},
   "outputs": [],
   "source": [
    "driver_1 = {\n",
    "    'score_1' : int(score_1),\n",
    "    'score/km_1' : int(score_1/distance),\n",
    "    'score_2' : int(score_2),\n",
    "    'score/km_2' : int(score_2/distance),\n",
    "    'test_score' : int(score_3),\n",
    "    'test_score/km' : int(score_3/distance),\n",
    "    'related_cluster' : related_cluster\n",
    "}"
   ]
  },
  {
   "cell_type": "markdown",
   "metadata": {},
   "source": [
    "# 운전자 데이터 2\n",
    "- driver_DE_DR_2.npy\n",
    "- '20210701-░ц▒т71╣┘1167-S-01-0000001.txt'"
   ]
  },
  {
   "cell_type": "code",
   "execution_count": 1436,
   "metadata": {},
   "outputs": [],
   "source": [
    "text_file = text_file_ls[1]"
   ]
  },
  {
   "cell_type": "code",
   "execution_count": 1437,
   "metadata": {},
   "outputs": [],
   "source": [
    "input_file = open(dir_+text_file,'r', encoding='cp949')\n",
    "data = input_file.read()"
   ]
  },
  {
   "cell_type": "code",
   "execution_count": 1438,
   "metadata": {},
   "outputs": [
    {
     "name": "stdout",
     "output_type": "stream",
     "text": [
      "file info : ######DT-202,6.01.930000000000000000011경기71바11671238100831###########0000001\n"
     ]
    }
   ],
   "source": [
    "print(f\"file info : {data[:76]}\")"
   ]
  },
  {
   "cell_type": "code",
   "execution_count": 1439,
   "metadata": {},
   "outputs": [
    {
     "name": "stdout",
     "output_type": "stream",
     "text": [
      "car num : 1167\n"
     ]
    }
   ],
   "source": [
    "print(f\"car num : {data[44:48]}\")"
   ]
  },
  {
   "cell_type": "code",
   "execution_count": 1440,
   "metadata": {},
   "outputs": [
    {
     "name": "stdout",
     "output_type": "stream",
     "text": [
      "row : 53346\n"
     ]
    }
   ],
   "source": [
    "row = int((len(data)-76)/68)\n",
    "print(f\"row : {row}\")"
   ]
  },
  {
   "cell_type": "code",
   "execution_count": 1441,
   "metadata": {},
   "outputs": [
    {
     "name": "stdout",
     "output_type": "stream",
     "text": [
      "total distance : 235(km)\n"
     ]
    }
   ],
   "source": [
    "# 총 주행거리(km)\n",
    "distance = int(data[76+(row-1)*68:144+(row-1)*68][4:11]) - int(data[76+(0)*68:144+(0)*68][4:11])\n",
    "print(f\"total distance : {distance}(km)\")"
   ]
  },
  {
   "cell_type": "code",
   "execution_count": 1442,
   "metadata": {},
   "outputs": [],
   "source": [
    "# 차원 축소 DE : driver_DE_DR_2.npy\n",
    "driving_event_DR = np.load(\"driver_DE_DR_2.npy\")"
   ]
  },
  {
   "cell_type": "code",
   "execution_count": 1443,
   "metadata": {},
   "outputs": [],
   "source": [
    "DE_DR_df = {\n",
    "    'driving event data(30)' : [driving_event_DR[i] for i in range(len(driving_event_DR))],\n",
    "    'idx' : [j for j in range(len(driving_event_DR))]\n",
    "}\n",
    "\n",
    "new_df = pd.DataFrame(DE_DR_df)"
   ]
  },
  {
   "cell_type": "code",
   "execution_count": 1444,
   "metadata": {},
   "outputs": [],
   "source": [
    "# Kmeans predict\n",
    "new_data_scale = scaler.fit_transform(driving_event_DR)\n",
    "\n",
    "new_df['cluster'] = kmeans.predict(new_data_scale)"
   ]
  },
  {
   "cell_type": "code",
   "execution_count": 1445,
   "metadata": {},
   "outputs": [
    {
     "data": {
      "text/plain": [
       "{0, 1, 2, 3, 4, 5, 6, 7}"
      ]
     },
     "execution_count": 1445,
     "metadata": {},
     "output_type": "execute_result"
    }
   ],
   "source": [
    "# 해당하는 cluster 종류\n",
    "set(new_df['cluster'].values)"
   ]
  },
  {
   "cell_type": "code",
   "execution_count": 1446,
   "metadata": {},
   "outputs": [],
   "source": [
    "cluster_dic = {}\n",
    "    \n",
    "for i in range(K_value):\n",
    "    if i not in new_df['cluster'].values:\n",
    "        cluster_dic[f\"cluster_{i}\"] = []\n",
    "    else:\n",
    "        cluster_dic[f\"cluster_{i}\"] = list(new_df.groupby('cluster').get_group(i)['idx'])"
   ]
  },
  {
   "cell_type": "code",
   "execution_count": 1447,
   "metadata": {},
   "outputs": [
    {
     "data": {
      "text/plain": [
       "[24, 19, 616, 24, 5, 88, 1764, 127]"
      ]
     },
     "execution_count": 1447,
     "metadata": {},
     "output_type": "execute_result"
    }
   ],
   "source": [
    "# cluster 별 데이터 개수\n",
    "cluster_data = list(cluster_dic.values())\n",
    "cluster_num = [len(e) for e in cluster_data]\n",
    "cluster_num"
   ]
  },
  {
   "cell_type": "code",
   "execution_count": 1448,
   "metadata": {},
   "outputs": [
    {
     "data": {
      "text/plain": [
       "[12, 8, 2, 12, 12, 4, 2, 4]"
      ]
     },
     "execution_count": 1448,
     "metadata": {},
     "output_type": "execute_result"
    }
   ],
   "source": [
    "# cluster 별 위험도 점수\n",
    "cluster_scores = clusters_eval['dangerousness'].values.flatten().tolist()\n",
    "cluster_scores"
   ]
  },
  {
   "cell_type": "code",
   "execution_count": 1449,
   "metadata": {},
   "outputs": [],
   "source": [
    "# 운전자 스코어링_1 : 점수 부여 방식\n",
    "score_1 = 0\n",
    "for i in range(K_value):\n",
    "    score_1 += cluster_scores[i] * cluster_num[i]"
   ]
  },
  {
   "cell_type": "code",
   "execution_count": 1450,
   "metadata": {},
   "outputs": [
    {
     "data": {
      "text/plain": [
       "[8.15, 10.18, 3.41, 13.14, 8.87, 3.48, 2.59, 3.14]"
      ]
     },
     "execution_count": 1450,
     "metadata": {},
     "output_type": "execute_result"
    }
   ],
   "source": [
    "# cluster 별 엔트로피 점수\n",
    "cluster_scores = clusters_eval_entropy['score(entropy)'].values.flatten().tolist()\n",
    "cluster_scores"
   ]
  },
  {
   "cell_type": "code",
   "execution_count": 1451,
   "metadata": {},
   "outputs": [],
   "source": [
    "# 운전자 스코어링_2 : 엔트로피 가중치 방식\n",
    "score_2 = 0\n",
    "for i in range(K_value):\n",
    "    score_2 += cluster_scores[i] * cluster_num[i]"
   ]
  },
  {
   "cell_type": "code",
   "execution_count": 1452,
   "metadata": {},
   "outputs": [],
   "source": [
    "# test) cluster 별 위험도 점수 2\n",
    "cluster_scores2 = test_eval['dangerousness'].values.flatten().tolist()\n",
    "\n",
    "score_3 = 0\n",
    "for i in range(K_value):\n",
    "    score_3 += cluster_scores2[i] * cluster_num[i]"
   ]
  },
  {
   "cell_type": "code",
   "execution_count": 1453,
   "metadata": {},
   "outputs": [],
   "source": [
    "# 관련성 높은 클러스터\n",
    "related_cluster = sorted(cluster_dic, key=lambda key:len(cluster_dic[key]), reverse=True)"
   ]
  },
  {
   "cell_type": "code",
   "execution_count": 1454,
   "metadata": {
    "scrolled": true
   },
   "outputs": [
    {
     "name": "stdout",
     "output_type": "stream",
     "text": [
      "DRIVER BEHAVIOR : \n",
      "\n",
      "              cluster_6\n",
      "velocity_eval       Low\n",
      "acc_safety       danger\n",
      "steer_safety     safety\n",
      "\n",
      "\n",
      "              cluster_2\n",
      "velocity_eval       Low\n",
      "acc_safety       safety\n",
      "steer_safety     danger\n",
      "\n",
      "\n",
      "              cluster_7\n",
      "velocity_eval       Low\n",
      "acc_safety       danger\n",
      "steer_safety     danger\n",
      "\n",
      "\n"
     ]
    }
   ],
   "source": [
    "# 운전자 평가\n",
    "# 기존 평가지표 df에서 cluster 해당 내용 매칭\n",
    "print(\"DRIVER BEHAVIOR : \\n\")\n",
    "for cluster in related_cluster[:3]: # 3위까지\n",
    "    print(pd.DataFrame(clusters_eval.loc[cluster][['velocity_eval', 'acc_safety', 'steer_safety']]))\n",
    "    print(\"\\n\")"
   ]
  },
  {
   "cell_type": "code",
   "execution_count": 1455,
   "metadata": {},
   "outputs": [],
   "source": [
    "# test) cluster 별 위험도 점수 2\n",
    "cluster_scores2 = test_eval['dangerousness'].values.flatten().tolist()\n",
    "\n",
    "score_3 = 0\n",
    "for i in range(K_value):\n",
    "    score_3 += cluster_scores2[i] * cluster_num[i]"
   ]
  },
  {
   "cell_type": "code",
   "execution_count": 1456,
   "metadata": {},
   "outputs": [],
   "source": [
    "driver_2 = {\n",
    "    'score_1' : int(score_1),\n",
    "    'score/km_1' : int(score_1/distance),\n",
    "    'score_2' : int(score_2),\n",
    "    'score/km_2' : int(score_2/distance),\n",
    "    'test_score' : int(score_3),\n",
    "    'test_score/km' : int(score_3/distance),\n",
    "    'related_cluster' : related_cluster\n",
    "}"
   ]
  },
  {
   "cell_type": "markdown",
   "metadata": {},
   "source": [
    "# 운전자 데이터 3\n",
    "- driver_DE_DR_3.npy\n",
    "- '20210701-░ц▒т71╣┘1194-S-01-0000001.txt'"
   ]
  },
  {
   "cell_type": "code",
   "execution_count": 1457,
   "metadata": {},
   "outputs": [],
   "source": [
    "text_file = text_file_ls[2]"
   ]
  },
  {
   "cell_type": "code",
   "execution_count": null,
   "metadata": {},
   "outputs": [],
   "source": []
  },
  {
   "cell_type": "code",
   "execution_count": null,
   "metadata": {},
   "outputs": [],
   "source": []
  },
  {
   "cell_type": "code",
   "execution_count": 1458,
   "metadata": {},
   "outputs": [],
   "source": [
    "input_file = open(dir_+text_file,'r', encoding='cp949')\n",
    "data = input_file.read()"
   ]
  },
  {
   "cell_type": "code",
   "execution_count": 1459,
   "metadata": {},
   "outputs": [
    {
     "name": "stdout",
     "output_type": "stream",
     "text": [
      "file info : ######DT-202,6.01.850000000000000000011경기71바11941238100831###########0000001\n"
     ]
    }
   ],
   "source": [
    "print(f\"file info : {data[:76]}\")"
   ]
  },
  {
   "cell_type": "code",
   "execution_count": 1460,
   "metadata": {},
   "outputs": [
    {
     "name": "stdout",
     "output_type": "stream",
     "text": [
      "car num : 1194\n"
     ]
    }
   ],
   "source": [
    "print(f\"car num : {data[44:48]}\")"
   ]
  },
  {
   "cell_type": "code",
   "execution_count": 1461,
   "metadata": {},
   "outputs": [
    {
     "name": "stdout",
     "output_type": "stream",
     "text": [
      "row : 51337\n"
     ]
    }
   ],
   "source": [
    "row = int((len(data)-76)/68)\n",
    "print(f\"row : {row}\")"
   ]
  },
  {
   "cell_type": "code",
   "execution_count": 1462,
   "metadata": {},
   "outputs": [
    {
     "name": "stdout",
     "output_type": "stream",
     "text": [
      "total distance : 256(km)\n"
     ]
    }
   ],
   "source": [
    "# 총 주행거리(km)\n",
    "distance = int(data[76+(row-1)*68:144+(row-1)*68][4:11]) - int(data[76+(0)*68:144+(0)*68][4:11])\n",
    "print(f\"total distance : {distance}(km)\")"
   ]
  },
  {
   "cell_type": "code",
   "execution_count": 1463,
   "metadata": {},
   "outputs": [],
   "source": [
    "# 차원 축소 DE : driver_DE_DR_3.npy\n",
    "driving_event_DR = np.load(\"driver_DE_DR_3.npy\")"
   ]
  },
  {
   "cell_type": "code",
   "execution_count": 1464,
   "metadata": {},
   "outputs": [],
   "source": [
    "DE_DR_df = {\n",
    "    'driving event data(30)' : [driving_event_DR[i] for i in range(len(driving_event_DR))],\n",
    "    'idx' : [j for j in range(len(driving_event_DR))]\n",
    "}\n",
    "\n",
    "new_df = pd.DataFrame(DE_DR_df)"
   ]
  },
  {
   "cell_type": "code",
   "execution_count": 1465,
   "metadata": {},
   "outputs": [],
   "source": [
    "# Kmeans predict\n",
    "new_data_scale = scaler.fit_transform(driving_event_DR)\n",
    "\n",
    "new_df['cluster'] = kmeans.predict(new_data_scale)"
   ]
  },
  {
   "cell_type": "code",
   "execution_count": 1466,
   "metadata": {},
   "outputs": [
    {
     "data": {
      "text/plain": [
       "{0, 1, 2, 3, 4, 5, 6, 7}"
      ]
     },
     "execution_count": 1466,
     "metadata": {},
     "output_type": "execute_result"
    }
   ],
   "source": [
    "# 해당하는 cluster 종류\n",
    "set(new_df['cluster'].values)"
   ]
  },
  {
   "cell_type": "code",
   "execution_count": 1467,
   "metadata": {},
   "outputs": [],
   "source": [
    "cluster_dic = {}\n",
    "    \n",
    "for i in range(K_value):\n",
    "    if i not in new_df['cluster'].values:\n",
    "        cluster_dic[f\"cluster_{i}\"] = []\n",
    "    else:\n",
    "        cluster_dic[f\"cluster_{i}\"] = list(new_df.groupby('cluster').get_group(i)['idx'])"
   ]
  },
  {
   "cell_type": "code",
   "execution_count": 1468,
   "metadata": {},
   "outputs": [
    {
     "data": {
      "text/plain": [
       "[50, 44, 231, 2, 22, 131, 2013, 74]"
      ]
     },
     "execution_count": 1468,
     "metadata": {},
     "output_type": "execute_result"
    }
   ],
   "source": [
    "# cluster 별 데이터 개수\n",
    "cluster_data = list(cluster_dic.values())\n",
    "cluster_num = [len(e) for e in cluster_data]\n",
    "cluster_num"
   ]
  },
  {
   "cell_type": "code",
   "execution_count": 1469,
   "metadata": {},
   "outputs": [
    {
     "data": {
      "text/plain": [
       "[12, 8, 2, 12, 12, 4, 2, 4]"
      ]
     },
     "execution_count": 1469,
     "metadata": {},
     "output_type": "execute_result"
    }
   ],
   "source": [
    "# cluster 별 위험도 점수\n",
    "cluster_scores = clusters_eval['dangerousness'].values.flatten().tolist()\n",
    "cluster_scores"
   ]
  },
  {
   "cell_type": "code",
   "execution_count": 1470,
   "metadata": {},
   "outputs": [],
   "source": [
    "# 운전자 스코어링_1 : 점수 부여 방식\n",
    "score_1 = 0\n",
    "for i in range(K_value):\n",
    "    score_1 += cluster_scores[i] * cluster_num[i]"
   ]
  },
  {
   "cell_type": "code",
   "execution_count": 1471,
   "metadata": {},
   "outputs": [
    {
     "data": {
      "text/plain": [
       "[8.15, 10.18, 3.41, 13.14, 8.87, 3.48, 2.59, 3.14]"
      ]
     },
     "execution_count": 1471,
     "metadata": {},
     "output_type": "execute_result"
    }
   ],
   "source": [
    "# cluster 별 엔트로피 점수\n",
    "cluster_scores = clusters_eval_entropy['score(entropy)'].values.flatten().tolist()\n",
    "cluster_scores"
   ]
  },
  {
   "cell_type": "code",
   "execution_count": 1472,
   "metadata": {},
   "outputs": [],
   "source": [
    "# 운전자 스코어링_2 : 엔트로피 가중치 방식\n",
    "score_2 = 0\n",
    "for i in range(K_value):\n",
    "    score_2 += cluster_scores[i] * cluster_num[i]"
   ]
  },
  {
   "cell_type": "code",
   "execution_count": 1473,
   "metadata": {},
   "outputs": [],
   "source": [
    "# 관련성 높은 클러스터\n",
    "related_cluster = sorted(cluster_dic, key=lambda key:len(cluster_dic[key]), reverse=True)"
   ]
  },
  {
   "cell_type": "code",
   "execution_count": 1474,
   "metadata": {},
   "outputs": [
    {
     "name": "stdout",
     "output_type": "stream",
     "text": [
      "DRIVER BEHAVIOR : \n",
      "\n",
      "              cluster_6\n",
      "velocity_eval       Low\n",
      "acc_safety       danger\n",
      "steer_safety     safety\n",
      "\n",
      "\n",
      "              cluster_2\n",
      "velocity_eval       Low\n",
      "acc_safety       safety\n",
      "steer_safety     danger\n",
      "\n",
      "\n",
      "              cluster_5\n",
      "velocity_eval       Mid\n",
      "acc_safety       safety\n",
      "steer_safety     danger\n",
      "\n",
      "\n"
     ]
    }
   ],
   "source": [
    "# 운전자 평가\n",
    "# 기존 평가지표 df에서 cluster 해당 내용 매칭\n",
    "print(\"DRIVER BEHAVIOR : \\n\")\n",
    "for cluster in related_cluster[:3]: # 3위까지\n",
    "    print(pd.DataFrame(clusters_eval.loc[cluster][['velocity_eval', 'acc_safety', 'steer_safety']]))\n",
    "    print(\"\\n\")"
   ]
  },
  {
   "cell_type": "code",
   "execution_count": 1475,
   "metadata": {},
   "outputs": [],
   "source": [
    "# test) cluster 별 위험도 점수 2\n",
    "cluster_scores2 = test_eval['dangerousness'].values.flatten().tolist()\n",
    "\n",
    "score_3 = 0\n",
    "for i in range(K_value):\n",
    "    score_3 += cluster_scores2[i] * cluster_num[i]"
   ]
  },
  {
   "cell_type": "code",
   "execution_count": 1476,
   "metadata": {},
   "outputs": [],
   "source": [
    "driver_3 = {\n",
    "    'score_1' : int(score_1),\n",
    "    'score/km_1' : int(score_1/distance),\n",
    "    'score_2' : int(score_2),\n",
    "    'score/km_2' : int(score_2/distance),\n",
    "    'test_score' : int(score_3),\n",
    "    'test_score/km' : int(score_3/distance),\n",
    "    'related_cluster' : related_cluster\n",
    "}"
   ]
  },
  {
   "cell_type": "markdown",
   "metadata": {},
   "source": [
    "# 운전자 데이터 4\n",
    "- driver_DE_DR_4.npy\n",
    "- '20210701-░ц▒т71╣┘1297-S-01-0000001.txt'"
   ]
  },
  {
   "cell_type": "code",
   "execution_count": 1477,
   "metadata": {},
   "outputs": [],
   "source": [
    "text_file = text_file_ls[3]"
   ]
  },
  {
   "cell_type": "code",
   "execution_count": 1478,
   "metadata": {},
   "outputs": [],
   "source": [
    "input_file = open(dir_+text_file,'r', encoding='cp949')\n",
    "data = input_file.read()"
   ]
  },
  {
   "cell_type": "code",
   "execution_count": 1479,
   "metadata": {},
   "outputs": [
    {
     "name": "stdout",
     "output_type": "stream",
     "text": [
      "file info : ######DT-202,6.01.810000000000000000011경기71바12971238100831###########0000001\n"
     ]
    }
   ],
   "source": [
    "print(f\"file info : {data[:76]}\")"
   ]
  },
  {
   "cell_type": "code",
   "execution_count": 1480,
   "metadata": {},
   "outputs": [
    {
     "name": "stdout",
     "output_type": "stream",
     "text": [
      "car num : 1297\n"
     ]
    }
   ],
   "source": [
    "print(f\"car num : {data[44:48]}\")"
   ]
  },
  {
   "cell_type": "code",
   "execution_count": 1481,
   "metadata": {},
   "outputs": [
    {
     "name": "stdout",
     "output_type": "stream",
     "text": [
      "row : 54258\n"
     ]
    }
   ],
   "source": [
    "row = int((len(data)-76)/68)\n",
    "print(f\"row : {row}\")"
   ]
  },
  {
   "cell_type": "code",
   "execution_count": 1482,
   "metadata": {},
   "outputs": [
    {
     "name": "stdout",
     "output_type": "stream",
     "text": [
      "total distance : 220(km)\n"
     ]
    }
   ],
   "source": [
    "# 총 주행거리(km)\n",
    "distance = int(data[76+(row-1)*68:144+(row-1)*68][4:11]) - int(data[76+(0)*68:144+(0)*68][4:11])\n",
    "print(f\"total distance : {distance}(km)\")"
   ]
  },
  {
   "cell_type": "code",
   "execution_count": 1483,
   "metadata": {},
   "outputs": [],
   "source": [
    "# 차원 축소 DE : driver_DE_DR_4.npy\n",
    "driving_event_DR = np.load(\"driver_DE_DR_4.npy\")"
   ]
  },
  {
   "cell_type": "code",
   "execution_count": 1484,
   "metadata": {},
   "outputs": [],
   "source": [
    "DE_DR_df = {\n",
    "    'driving event data(30)' : [driving_event_DR[i] for i in range(len(driving_event_DR))],\n",
    "    'idx' : [j for j in range(len(driving_event_DR))]\n",
    "}\n",
    "\n",
    "new_df = pd.DataFrame(DE_DR_df)"
   ]
  },
  {
   "cell_type": "code",
   "execution_count": 1485,
   "metadata": {},
   "outputs": [],
   "source": [
    "# Kmeans predict\n",
    "new_data_scale = scaler.fit_transform(driving_event_DR)\n",
    "\n",
    "new_df['cluster'] = kmeans.predict(new_data_scale)"
   ]
  },
  {
   "cell_type": "code",
   "execution_count": 1486,
   "metadata": {},
   "outputs": [
    {
     "data": {
      "text/plain": [
       "{0, 1, 2, 3, 4, 5, 6, 7}"
      ]
     },
     "execution_count": 1486,
     "metadata": {},
     "output_type": "execute_result"
    }
   ],
   "source": [
    "# 해당하는 cluster 종류\n",
    "set(new_df['cluster'].values)"
   ]
  },
  {
   "cell_type": "code",
   "execution_count": 1487,
   "metadata": {},
   "outputs": [],
   "source": [
    "cluster_dic = {}\n",
    "    \n",
    "for i in range(K_value):\n",
    "    if i not in new_df['cluster'].values:\n",
    "        cluster_dic[f\"cluster_{i}\"] = []\n",
    "    else:\n",
    "        cluster_dic[f\"cluster_{i}\"] = list(new_df.groupby('cluster').get_group(i)['idx'])"
   ]
  },
  {
   "cell_type": "code",
   "execution_count": 1488,
   "metadata": {},
   "outputs": [
    {
     "data": {
      "text/plain": [
       "[28, 173, 422, 9, 6, 122, 1851, 102]"
      ]
     },
     "execution_count": 1488,
     "metadata": {},
     "output_type": "execute_result"
    }
   ],
   "source": [
    "# cluster 별 데이터 개수\n",
    "cluster_data = list(cluster_dic.values())\n",
    "cluster_num = [len(e) for e in cluster_data]\n",
    "cluster_num"
   ]
  },
  {
   "cell_type": "code",
   "execution_count": 1489,
   "metadata": {},
   "outputs": [
    {
     "data": {
      "text/plain": [
       "[12, 8, 2, 12, 12, 4, 2, 4]"
      ]
     },
     "execution_count": 1489,
     "metadata": {},
     "output_type": "execute_result"
    }
   ],
   "source": [
    "# cluster 별 위험도 점수\n",
    "cluster_scores = clusters_eval['dangerousness'].values.flatten().tolist()\n",
    "cluster_scores"
   ]
  },
  {
   "cell_type": "code",
   "execution_count": 1490,
   "metadata": {},
   "outputs": [],
   "source": [
    "# 운전자 스코어링_1 : 점수 부여 방식\n",
    "score_1 = 0\n",
    "for i in range(K_value):\n",
    "    score_1 += cluster_scores[i] * cluster_num[i]"
   ]
  },
  {
   "cell_type": "code",
   "execution_count": 1491,
   "metadata": {},
   "outputs": [
    {
     "data": {
      "text/plain": [
       "[8.15, 10.18, 3.41, 13.14, 8.87, 3.48, 2.59, 3.14]"
      ]
     },
     "execution_count": 1491,
     "metadata": {},
     "output_type": "execute_result"
    }
   ],
   "source": [
    "# cluster 별 엔트로피 점수\n",
    "cluster_scores = clusters_eval_entropy['score(entropy)'].values.flatten().tolist()\n",
    "cluster_scores"
   ]
  },
  {
   "cell_type": "code",
   "execution_count": 1492,
   "metadata": {},
   "outputs": [],
   "source": [
    "# 운전자 스코어링_2 : 엔트로피 가중치 방식\n",
    "score_2 = 0\n",
    "for i in range(K_value):\n",
    "    score_2 += cluster_scores[i] * cluster_num[i]"
   ]
  },
  {
   "cell_type": "code",
   "execution_count": 1493,
   "metadata": {},
   "outputs": [],
   "source": [
    "# 관련성 높은 클러스터\n",
    "related_cluster = sorted(cluster_dic, key=lambda key:len(cluster_dic[key]), reverse=True)"
   ]
  },
  {
   "cell_type": "code",
   "execution_count": 1494,
   "metadata": {},
   "outputs": [
    {
     "name": "stdout",
     "output_type": "stream",
     "text": [
      "DRIVER BEHAVIOR : \n",
      "\n",
      "              cluster_6\n",
      "velocity_eval       Low\n",
      "acc_safety       danger\n",
      "steer_safety     safety\n",
      "\n",
      "\n",
      "              cluster_2\n",
      "velocity_eval       Low\n",
      "acc_safety       safety\n",
      "steer_safety     danger\n",
      "\n",
      "\n",
      "              cluster_1\n",
      "velocity_eval       Mid\n",
      "acc_safety       danger\n",
      "steer_safety     danger\n",
      "\n",
      "\n"
     ]
    }
   ],
   "source": [
    "# 운전자 평가\n",
    "# 기존 평가지표 df에서 cluster 해당 내용 매칭\n",
    "print(\"DRIVER BEHAVIOR : \\n\")\n",
    "for cluster in related_cluster[:3]: # 3위까지\n",
    "    print(pd.DataFrame(clusters_eval.loc[cluster][['velocity_eval', 'acc_safety', 'steer_safety']]))\n",
    "    print(\"\\n\")"
   ]
  },
  {
   "cell_type": "code",
   "execution_count": 1495,
   "metadata": {},
   "outputs": [],
   "source": [
    "# test) cluster 별 위험도 점수 2\n",
    "cluster_scores2 = test_eval['dangerousness'].values.flatten().tolist()\n",
    "\n",
    "score_3 = 0\n",
    "for i in range(K_value):\n",
    "    score_3 += cluster_scores2[i] * cluster_num[i]"
   ]
  },
  {
   "cell_type": "code",
   "execution_count": 1496,
   "metadata": {},
   "outputs": [],
   "source": [
    "driver_4 = {\n",
    "    'score_1' : int(score_1),\n",
    "    'score/km_1' : int(score_1/distance),\n",
    "    'score_2' : int(score_2),\n",
    "    'score/km_2' : int(score_2/distance),\n",
    "    'test_score' : int(score_3),\n",
    "    'test_score/km' : int(score_3/distance),\n",
    "    'related_cluster' : related_cluster\n",
    "}"
   ]
  },
  {
   "cell_type": "markdown",
   "metadata": {},
   "source": [
    "# 운전자 데이터 5\n",
    "- driver_DE_DR_5.npy\n",
    "- '20210701-░ц▒т71╣┘1344-S-01-0000001.txt'"
   ]
  },
  {
   "cell_type": "code",
   "execution_count": 1497,
   "metadata": {},
   "outputs": [],
   "source": [
    "text_file = text_file_ls[4]"
   ]
  },
  {
   "cell_type": "code",
   "execution_count": 1498,
   "metadata": {},
   "outputs": [],
   "source": [
    "input_file = open(dir_+text_file,'r', encoding='cp949')\n",
    "data = input_file.read()"
   ]
  },
  {
   "cell_type": "code",
   "execution_count": 1499,
   "metadata": {},
   "outputs": [
    {
     "name": "stdout",
     "output_type": "stream",
     "text": [
      "file info : ######DT-202,6.01.810000000000000000011경기71바13441238100831###########0000001\n"
     ]
    }
   ],
   "source": [
    "print(f\"file info : {data[:76]}\")"
   ]
  },
  {
   "cell_type": "code",
   "execution_count": 1500,
   "metadata": {},
   "outputs": [
    {
     "name": "stdout",
     "output_type": "stream",
     "text": [
      "car num : 1344\n"
     ]
    }
   ],
   "source": [
    "print(f\"car num : {data[44:48]}\")"
   ]
  },
  {
   "cell_type": "code",
   "execution_count": 1501,
   "metadata": {},
   "outputs": [
    {
     "name": "stdout",
     "output_type": "stream",
     "text": [
      "row : 65512\n"
     ]
    }
   ],
   "source": [
    "row = int((len(data)-76)/68)\n",
    "print(f\"row : {row}\")"
   ]
  },
  {
   "cell_type": "code",
   "execution_count": 1502,
   "metadata": {},
   "outputs": [
    {
     "name": "stdout",
     "output_type": "stream",
     "text": [
      "total distance : 273(km)\n"
     ]
    }
   ],
   "source": [
    "# 총 주행거리(km)\n",
    "distance = int(data[76+(row-1)*68:144+(row-1)*68][4:11]) - int(data[76+(0)*68:144+(0)*68][4:11])\n",
    "print(f\"total distance : {distance}(km)\")"
   ]
  },
  {
   "cell_type": "code",
   "execution_count": 1503,
   "metadata": {},
   "outputs": [],
   "source": [
    "# 차원 축소 DE : driver_DE_DR_5.npy\n",
    "driving_event_DR = np.load(\"driver_DE_DR_5.npy\")"
   ]
  },
  {
   "cell_type": "code",
   "execution_count": 1504,
   "metadata": {},
   "outputs": [],
   "source": [
    "DE_DR_df = {\n",
    "    'driving event data(30)' : [driving_event_DR[i] for i in range(len(driving_event_DR))],\n",
    "    'idx' : [j for j in range(len(driving_event_DR))]\n",
    "}\n",
    "\n",
    "new_df = pd.DataFrame(DE_DR_df)"
   ]
  },
  {
   "cell_type": "code",
   "execution_count": 1505,
   "metadata": {},
   "outputs": [],
   "source": [
    "# Kmeans predict\n",
    "new_data_scale = scaler.fit_transform(driving_event_DR)\n",
    "\n",
    "new_df['cluster'] = kmeans.predict(new_data_scale)"
   ]
  },
  {
   "cell_type": "code",
   "execution_count": 1506,
   "metadata": {},
   "outputs": [
    {
     "data": {
      "text/plain": [
       "{0, 1, 2, 3, 4, 5, 6, 7}"
      ]
     },
     "execution_count": 1506,
     "metadata": {},
     "output_type": "execute_result"
    }
   ],
   "source": [
    "# 해당하는 cluster 종류\n",
    "set(new_df['cluster'].values)"
   ]
  },
  {
   "cell_type": "code",
   "execution_count": 1507,
   "metadata": {},
   "outputs": [],
   "source": [
    "cluster_dic = {}\n",
    "    \n",
    "for i in range(K_value):\n",
    "    if i not in new_df['cluster'].values:\n",
    "        cluster_dic[f\"cluster_{i}\"] = []\n",
    "    else:\n",
    "        cluster_dic[f\"cluster_{i}\"] = list(new_df.groupby('cluster').get_group(i)['idx'])"
   ]
  },
  {
   "cell_type": "code",
   "execution_count": 1508,
   "metadata": {},
   "outputs": [
    {
     "data": {
      "text/plain": [
       "[1598, 140, 109, 10, 41, 88, 1076, 213]"
      ]
     },
     "execution_count": 1508,
     "metadata": {},
     "output_type": "execute_result"
    }
   ],
   "source": [
    "# cluster 별 데이터 개수\n",
    "cluster_data = list(cluster_dic.values())\n",
    "cluster_num = [len(e) for e in cluster_data]\n",
    "cluster_num"
   ]
  },
  {
   "cell_type": "code",
   "execution_count": 1509,
   "metadata": {},
   "outputs": [
    {
     "data": {
      "text/plain": [
       "[12, 8, 2, 12, 12, 4, 2, 4]"
      ]
     },
     "execution_count": 1509,
     "metadata": {},
     "output_type": "execute_result"
    }
   ],
   "source": [
    "# cluster 별 위험도 점수\n",
    "cluster_scores = clusters_eval['dangerousness'].values.flatten().tolist()\n",
    "cluster_scores"
   ]
  },
  {
   "cell_type": "code",
   "execution_count": 1510,
   "metadata": {},
   "outputs": [],
   "source": [
    "# 운전자 스코어링_1 : 점수 부여 방식\n",
    "score_1 = 0\n",
    "for i in range(K_value):\n",
    "    score_1 += cluster_scores[i] * cluster_num[i]"
   ]
  },
  {
   "cell_type": "code",
   "execution_count": 1511,
   "metadata": {},
   "outputs": [
    {
     "data": {
      "text/plain": [
       "[8.15, 10.18, 3.41, 13.14, 8.87, 3.48, 2.59, 3.14]"
      ]
     },
     "execution_count": 1511,
     "metadata": {},
     "output_type": "execute_result"
    }
   ],
   "source": [
    "# cluster 별 엔트로피 점수\n",
    "cluster_scores = clusters_eval_entropy['score(entropy)'].values.flatten().tolist()\n",
    "cluster_scores"
   ]
  },
  {
   "cell_type": "code",
   "execution_count": 1512,
   "metadata": {},
   "outputs": [],
   "source": [
    "# 운전자 스코어링_2 : 엔트로피 가중치 방식\n",
    "score_2 = 0\n",
    "for i in range(K_value):\n",
    "    score_2 += cluster_scores[i] * cluster_num[i]"
   ]
  },
  {
   "cell_type": "code",
   "execution_count": 1513,
   "metadata": {},
   "outputs": [],
   "source": [
    "# 관련성 높은 클러스터\n",
    "related_cluster = sorted(cluster_dic, key=lambda key:len(cluster_dic[key]), reverse=True)"
   ]
  },
  {
   "cell_type": "code",
   "execution_count": 1514,
   "metadata": {},
   "outputs": [
    {
     "name": "stdout",
     "output_type": "stream",
     "text": [
      "DRIVER BEHAVIOR : \n",
      "\n",
      "              cluster_0\n",
      "velocity_eval      High\n",
      "acc_safety       danger\n",
      "steer_safety     danger\n",
      "\n",
      "\n",
      "              cluster_6\n",
      "velocity_eval       Low\n",
      "acc_safety       danger\n",
      "steer_safety     safety\n",
      "\n",
      "\n",
      "              cluster_7\n",
      "velocity_eval       Low\n",
      "acc_safety       danger\n",
      "steer_safety     danger\n",
      "\n",
      "\n"
     ]
    }
   ],
   "source": [
    "# 운전자 평가\n",
    "# 기존 평가지표 df에서 cluster 해당 내용 매칭\n",
    "print(\"DRIVER BEHAVIOR : \\n\")\n",
    "for cluster in related_cluster[:3]: # 3위까지\n",
    "    print(pd.DataFrame(clusters_eval.loc[cluster][['velocity_eval', 'acc_safety', 'steer_safety']]))\n",
    "    print(\"\\n\")"
   ]
  },
  {
   "cell_type": "code",
   "execution_count": 1515,
   "metadata": {},
   "outputs": [],
   "source": [
    "# test) cluster 별 위험도 점수 2\n",
    "cluster_scores2 = test_eval['dangerousness'].values.flatten().tolist()\n",
    "\n",
    "score_3 = 0\n",
    "for i in range(K_value):\n",
    "    score_3 += cluster_scores2[i] * cluster_num[i]"
   ]
  },
  {
   "cell_type": "code",
   "execution_count": 1516,
   "metadata": {},
   "outputs": [],
   "source": [
    "driver_5 = {\n",
    "    'score_1' : int(score_1),\n",
    "    'score/km_1' : int(score_1/distance),\n",
    "    'score_2' : int(score_2),\n",
    "    'score/km_2' : int(score_2/distance),\n",
    "    'test_score' : int(score_3),\n",
    "    'test_score/km' : int(score_3/distance),\n",
    "    'related_cluster' : related_cluster\n",
    "}"
   ]
  },
  {
   "cell_type": "markdown",
   "metadata": {},
   "source": [
    "# 운전자 데이터 6\n",
    "- driver_DE_DR_6.npy\n",
    "- '20210701-░ц▒т71╣┘1420-S-01-0000001.txt'"
   ]
  },
  {
   "cell_type": "code",
   "execution_count": 1517,
   "metadata": {},
   "outputs": [],
   "source": [
    "text_file = text_file_ls[5]"
   ]
  },
  {
   "cell_type": "code",
   "execution_count": 1518,
   "metadata": {},
   "outputs": [],
   "source": [
    "input_file = open(dir_+text_file,'r', encoding='cp949')\n",
    "data = input_file.read()"
   ]
  },
  {
   "cell_type": "code",
   "execution_count": 1519,
   "metadata": {},
   "outputs": [
    {
     "name": "stdout",
     "output_type": "stream",
     "text": [
      "file info : ######DT-202,6.01.930000000000000000011경기71바14201238100831###########0000001\n"
     ]
    }
   ],
   "source": [
    "print(f\"file info : {data[:76]}\")"
   ]
  },
  {
   "cell_type": "code",
   "execution_count": 1520,
   "metadata": {},
   "outputs": [
    {
     "name": "stdout",
     "output_type": "stream",
     "text": [
      "car num : 1420\n"
     ]
    }
   ],
   "source": [
    "print(f\"car num : {data[44:48]}\")"
   ]
  },
  {
   "cell_type": "code",
   "execution_count": 1521,
   "metadata": {},
   "outputs": [
    {
     "name": "stdout",
     "output_type": "stream",
     "text": [
      "row : 55728\n"
     ]
    }
   ],
   "source": [
    "row = int((len(data)-76)/68)\n",
    "print(f\"row : {row}\")"
   ]
  },
  {
   "cell_type": "code",
   "execution_count": 1522,
   "metadata": {},
   "outputs": [
    {
     "name": "stdout",
     "output_type": "stream",
     "text": [
      "total distance : 227(km)\n"
     ]
    }
   ],
   "source": [
    "# 총 주행거리(km)\n",
    "distance = int(data[76+(row-1)*68:144+(row-1)*68][4:11]) - int(data[76+(0)*68:144+(0)*68][4:11])\n",
    "print(f\"total distance : {distance}(km)\")"
   ]
  },
  {
   "cell_type": "code",
   "execution_count": 1523,
   "metadata": {},
   "outputs": [],
   "source": [
    "# 차원 축소 DE : driver_DE_DR_6.npy\n",
    "driving_event_DR = np.load(\"driver_DE_DR_6.npy\")"
   ]
  },
  {
   "cell_type": "code",
   "execution_count": 1524,
   "metadata": {},
   "outputs": [],
   "source": [
    "DE_DR_df = {\n",
    "    'driving event data(30)' : [driving_event_DR[i] for i in range(len(driving_event_DR))],\n",
    "    'idx' : [j for j in range(len(driving_event_DR))]\n",
    "}\n",
    "\n",
    "new_df = pd.DataFrame(DE_DR_df)"
   ]
  },
  {
   "cell_type": "code",
   "execution_count": 1525,
   "metadata": {},
   "outputs": [],
   "source": [
    "# Kmeans predict\n",
    "new_data_scale = scaler.fit_transform(driving_event_DR)\n",
    "\n",
    "new_df['cluster'] = kmeans.predict(new_data_scale)"
   ]
  },
  {
   "cell_type": "code",
   "execution_count": 1526,
   "metadata": {},
   "outputs": [
    {
     "data": {
      "text/plain": [
       "{0, 1, 2, 3, 4, 5, 6, 7}"
      ]
     },
     "execution_count": 1526,
     "metadata": {},
     "output_type": "execute_result"
    }
   ],
   "source": [
    "# 해당하는 cluster 종류\n",
    "set(new_df['cluster'].values)"
   ]
  },
  {
   "cell_type": "code",
   "execution_count": 1527,
   "metadata": {},
   "outputs": [],
   "source": [
    "cluster_dic = {}\n",
    "    \n",
    "for i in range(K_value):\n",
    "    if i not in new_df['cluster'].values:\n",
    "        cluster_dic[f\"cluster_{i}\"] = []\n",
    "    else:\n",
    "        cluster_dic[f\"cluster_{i}\"] = list(new_df.groupby('cluster').get_group(i)['idx'])"
   ]
  },
  {
   "cell_type": "code",
   "execution_count": 1528,
   "metadata": {},
   "outputs": [
    {
     "data": {
      "text/plain": [
       "[31, 2, 115, 6, 4, 783, 1754, 91]"
      ]
     },
     "execution_count": 1528,
     "metadata": {},
     "output_type": "execute_result"
    }
   ],
   "source": [
    "# cluster 별 데이터 개수\n",
    "cluster_data = list(cluster_dic.values())\n",
    "cluster_num = [len(e) for e in cluster_data]\n",
    "cluster_num"
   ]
  },
  {
   "cell_type": "code",
   "execution_count": 1529,
   "metadata": {},
   "outputs": [
    {
     "data": {
      "text/plain": [
       "[12, 8, 2, 12, 12, 4, 2, 4]"
      ]
     },
     "execution_count": 1529,
     "metadata": {},
     "output_type": "execute_result"
    }
   ],
   "source": [
    "# cluster 별 위험도 점수\n",
    "cluster_scores = clusters_eval['dangerousness'].values.flatten().tolist()\n",
    "cluster_scores"
   ]
  },
  {
   "cell_type": "code",
   "execution_count": 1530,
   "metadata": {},
   "outputs": [],
   "source": [
    "# 운전자 스코어링_1 : 점수 부여 방식\n",
    "score_1 = 0\n",
    "for i in range(K_value):\n",
    "    score_1 += cluster_scores[i] * cluster_num[i]"
   ]
  },
  {
   "cell_type": "code",
   "execution_count": 1531,
   "metadata": {},
   "outputs": [
    {
     "data": {
      "text/plain": [
       "[8.15, 10.18, 3.41, 13.14, 8.87, 3.48, 2.59, 3.14]"
      ]
     },
     "execution_count": 1531,
     "metadata": {},
     "output_type": "execute_result"
    }
   ],
   "source": [
    "# cluster 별 엔트로피 점수\n",
    "cluster_scores = clusters_eval_entropy['score(entropy)'].values.flatten().tolist()\n",
    "cluster_scores"
   ]
  },
  {
   "cell_type": "code",
   "execution_count": 1532,
   "metadata": {},
   "outputs": [],
   "source": [
    "# 운전자 스코어링_2 : 엔트로피 가중치 방식\n",
    "score_2 = 0\n",
    "for i in range(K_value):\n",
    "    score_2 += cluster_scores[i] * cluster_num[i]"
   ]
  },
  {
   "cell_type": "code",
   "execution_count": 1533,
   "metadata": {},
   "outputs": [],
   "source": [
    "# 관련성 높은 클러스터\n",
    "related_cluster = sorted(cluster_dic, key=lambda key:len(cluster_dic[key]), reverse=True)"
   ]
  },
  {
   "cell_type": "code",
   "execution_count": 1534,
   "metadata": {},
   "outputs": [
    {
     "name": "stdout",
     "output_type": "stream",
     "text": [
      "DRIVER BEHAVIOR : \n",
      "\n",
      "              cluster_6\n",
      "velocity_eval       Low\n",
      "acc_safety       danger\n",
      "steer_safety     safety\n",
      "\n",
      "\n",
      "              cluster_5\n",
      "velocity_eval       Mid\n",
      "acc_safety       safety\n",
      "steer_safety     danger\n",
      "\n",
      "\n",
      "              cluster_2\n",
      "velocity_eval       Low\n",
      "acc_safety       safety\n",
      "steer_safety     danger\n",
      "\n",
      "\n"
     ]
    }
   ],
   "source": [
    "# 운전자 평가\n",
    "# 기존 평가지표 df에서 cluster 해당 내용 매칭\n",
    "print(\"DRIVER BEHAVIOR : \\n\")\n",
    "for cluster in related_cluster[:3]: # 3위까지\n",
    "    print(pd.DataFrame(clusters_eval.loc[cluster][['velocity_eval', 'acc_safety', 'steer_safety']]))\n",
    "    print(\"\\n\")"
   ]
  },
  {
   "cell_type": "code",
   "execution_count": 1535,
   "metadata": {},
   "outputs": [],
   "source": [
    "# test) cluster 별 위험도 점수 2\n",
    "cluster_scores2 = test_eval['dangerousness'].values.flatten().tolist()\n",
    "\n",
    "score_3 = 0\n",
    "for i in range(K_value):\n",
    "    score_3 += cluster_scores2[i] * cluster_num[i]"
   ]
  },
  {
   "cell_type": "code",
   "execution_count": 1536,
   "metadata": {},
   "outputs": [],
   "source": [
    "driver_6 = {\n",
    "    'score_1' : int(score_1),\n",
    "    'score/km_1' : int(score_1/distance),\n",
    "    'score_2' : int(score_2),\n",
    "    'score/km_2' : int(score_2/distance),\n",
    "    'test_score' : int(score_3),\n",
    "    'test_score/km' : int(score_3/distance),\n",
    "    'related_cluster' : related_cluster\n",
    "}"
   ]
  },
  {
   "cell_type": "markdown",
   "metadata": {},
   "source": [
    "# 운전자 데이터 7\n",
    "- driver_DE_DR_7.npy\n",
    "- '20210701-░ц▒т71╣┘1422-S-01-0000001.txt'"
   ]
  },
  {
   "cell_type": "code",
   "execution_count": 1537,
   "metadata": {},
   "outputs": [],
   "source": [
    "text_file = text_file_ls[6]"
   ]
  },
  {
   "cell_type": "code",
   "execution_count": 1538,
   "metadata": {},
   "outputs": [],
   "source": [
    "input_file = open(dir_+text_file,'r', encoding='cp949')\n",
    "data = input_file.read()"
   ]
  },
  {
   "cell_type": "code",
   "execution_count": 1539,
   "metadata": {},
   "outputs": [
    {
     "name": "stdout",
     "output_type": "stream",
     "text": [
      "file info : ######DT-202,6.01.930000000000000000011경기71바14221238100831###########0000001\n"
     ]
    }
   ],
   "source": [
    "print(f\"file info : {data[:76]}\")"
   ]
  },
  {
   "cell_type": "code",
   "execution_count": 1540,
   "metadata": {},
   "outputs": [
    {
     "name": "stdout",
     "output_type": "stream",
     "text": [
      "car num : 1422\n"
     ]
    }
   ],
   "source": [
    "print(f\"car num : {data[44:48]}\")"
   ]
  },
  {
   "cell_type": "code",
   "execution_count": 1541,
   "metadata": {},
   "outputs": [
    {
     "name": "stdout",
     "output_type": "stream",
     "text": [
      "row : 50447\n"
     ]
    }
   ],
   "source": [
    "row = int((len(data)-76)/68)\n",
    "print(f\"row : {row}\")"
   ]
  },
  {
   "cell_type": "code",
   "execution_count": 1542,
   "metadata": {},
   "outputs": [
    {
     "name": "stdout",
     "output_type": "stream",
     "text": [
      "total distance : 229(km)\n"
     ]
    }
   ],
   "source": [
    "# 총 주행거리(km)\n",
    "distance = int(data[76+(row-1)*68:144+(row-1)*68][4:11]) - int(data[76+(0)*68:144+(0)*68][4:11])\n",
    "print(f\"total distance : {distance}(km)\")"
   ]
  },
  {
   "cell_type": "code",
   "execution_count": 1543,
   "metadata": {},
   "outputs": [],
   "source": [
    "# 차원 축소 DE : driver_DE_DR_7.npy\n",
    "driving_event_DR = np.load(\"driver_DE_DR_7.npy\")"
   ]
  },
  {
   "cell_type": "code",
   "execution_count": 1544,
   "metadata": {},
   "outputs": [],
   "source": [
    "DE_DR_df = {\n",
    "    'driving event data(30)' : [driving_event_DR[i] for i in range(len(driving_event_DR))],\n",
    "    'idx' : [j for j in range(len(driving_event_DR))]\n",
    "}\n",
    "\n",
    "new_df = pd.DataFrame(DE_DR_df)"
   ]
  },
  {
   "cell_type": "code",
   "execution_count": 1545,
   "metadata": {},
   "outputs": [],
   "source": [
    "# Kmeans predict\n",
    "new_data_scale = scaler.fit_transform(driving_event_DR)\n",
    "\n",
    "new_df['cluster'] = kmeans.predict(new_data_scale)"
   ]
  },
  {
   "cell_type": "code",
   "execution_count": 1546,
   "metadata": {},
   "outputs": [
    {
     "data": {
      "text/plain": [
       "{0, 1, 2, 3, 4, 5, 6, 7}"
      ]
     },
     "execution_count": 1546,
     "metadata": {},
     "output_type": "execute_result"
    }
   ],
   "source": [
    "# 해당하는 cluster 종류\n",
    "set(new_df['cluster'].values)"
   ]
  },
  {
   "cell_type": "code",
   "execution_count": 1547,
   "metadata": {},
   "outputs": [],
   "source": [
    "cluster_dic = {}\n",
    "    \n",
    "for i in range(K_value):\n",
    "    if i not in new_df['cluster'].values:\n",
    "        cluster_dic[f\"cluster_{i}\"] = []\n",
    "    else:\n",
    "        cluster_dic[f\"cluster_{i}\"] = list(new_df.groupby('cluster').get_group(i)['idx'])"
   ]
  },
  {
   "cell_type": "code",
   "execution_count": 1548,
   "metadata": {},
   "outputs": [
    {
     "data": {
      "text/plain": [
       "[941, 22, 447, 1, 31, 264, 758, 58]"
      ]
     },
     "execution_count": 1548,
     "metadata": {},
     "output_type": "execute_result"
    }
   ],
   "source": [
    "# cluster 별 데이터 개수\n",
    "cluster_data = list(cluster_dic.values())\n",
    "cluster_num = [len(e) for e in cluster_data]\n",
    "cluster_num"
   ]
  },
  {
   "cell_type": "code",
   "execution_count": 1549,
   "metadata": {},
   "outputs": [
    {
     "data": {
      "text/plain": [
       "[12, 8, 2, 12, 12, 4, 2, 4]"
      ]
     },
     "execution_count": 1549,
     "metadata": {},
     "output_type": "execute_result"
    }
   ],
   "source": [
    "# cluster 별 위험도 점수\n",
    "cluster_scores = clusters_eval['dangerousness'].values.flatten().tolist()\n",
    "cluster_scores"
   ]
  },
  {
   "cell_type": "code",
   "execution_count": 1550,
   "metadata": {},
   "outputs": [],
   "source": [
    "# 운전자 스코어링_1 : 점수 부여 방식\n",
    "score_1 = 0\n",
    "for i in range(K_value):\n",
    "    score_1 += cluster_scores[i] * cluster_num[i]"
   ]
  },
  {
   "cell_type": "code",
   "execution_count": 1551,
   "metadata": {},
   "outputs": [
    {
     "data": {
      "text/plain": [
       "[8.15, 10.18, 3.41, 13.14, 8.87, 3.48, 2.59, 3.14]"
      ]
     },
     "execution_count": 1551,
     "metadata": {},
     "output_type": "execute_result"
    }
   ],
   "source": [
    "# cluster 별 엔트로피 점수\n",
    "cluster_scores = clusters_eval_entropy['score(entropy)'].values.flatten().tolist()\n",
    "cluster_scores"
   ]
  },
  {
   "cell_type": "code",
   "execution_count": 1552,
   "metadata": {},
   "outputs": [],
   "source": [
    "# 운전자 스코어링_2 : 엔트로피 가중치 방식\n",
    "score_2 = 0\n",
    "for i in range(K_value):\n",
    "    score_2 += cluster_scores[i] * cluster_num[i]"
   ]
  },
  {
   "cell_type": "code",
   "execution_count": 1553,
   "metadata": {},
   "outputs": [],
   "source": [
    "# 관련성 높은 클러스터\n",
    "related_cluster = sorted(cluster_dic, key=lambda key:len(cluster_dic[key]), reverse=True)"
   ]
  },
  {
   "cell_type": "code",
   "execution_count": 1554,
   "metadata": {},
   "outputs": [
    {
     "name": "stdout",
     "output_type": "stream",
     "text": [
      "DRIVER BEHAVIOR : \n",
      "\n",
      "              cluster_0\n",
      "velocity_eval      High\n",
      "acc_safety       danger\n",
      "steer_safety     danger\n",
      "\n",
      "\n",
      "              cluster_6\n",
      "velocity_eval       Low\n",
      "acc_safety       danger\n",
      "steer_safety     safety\n",
      "\n",
      "\n",
      "              cluster_2\n",
      "velocity_eval       Low\n",
      "acc_safety       safety\n",
      "steer_safety     danger\n",
      "\n",
      "\n"
     ]
    }
   ],
   "source": [
    "# 운전자 평가\n",
    "# 기존 평가지표 df에서 cluster 해당 내용 매칭\n",
    "print(\"DRIVER BEHAVIOR : \\n\")\n",
    "for cluster in related_cluster[:3]: # 3위까지\n",
    "    print(pd.DataFrame(clusters_eval.loc[cluster][['velocity_eval', 'acc_safety', 'steer_safety']]))\n",
    "    print(\"\\n\")"
   ]
  },
  {
   "cell_type": "code",
   "execution_count": 1555,
   "metadata": {},
   "outputs": [],
   "source": [
    "# test) cluster 별 위험도 점수 2\n",
    "cluster_scores2 = test_eval['dangerousness'].values.flatten().tolist()\n",
    "\n",
    "score_3 = 0\n",
    "for i in range(K_value):\n",
    "    score_3 += cluster_scores2[i] * cluster_num[i]"
   ]
  },
  {
   "cell_type": "code",
   "execution_count": 1556,
   "metadata": {},
   "outputs": [],
   "source": [
    "driver_7 = {\n",
    "    'score_1' : int(score_1),\n",
    "    'score/km_1' : int(score_1/distance),\n",
    "    'score_2' : int(score_2),\n",
    "    'score/km_2' : int(score_2/distance),\n",
    "    'test_score' : int(score_3),\n",
    "    'test_score/km' : int(score_3/distance),\n",
    "    'related_cluster' : related_cluster\n",
    "}"
   ]
  },
  {
   "cell_type": "markdown",
   "metadata": {},
   "source": [
    "# 운전자 데이터 8\n",
    "- driver_DE_DR_8.npy\n",
    "- '20210701-░ц▒т71╣┘1491-S-01-0000001.txt'"
   ]
  },
  {
   "cell_type": "code",
   "execution_count": 1557,
   "metadata": {},
   "outputs": [],
   "source": [
    "text_file = text_file_ls[7]"
   ]
  },
  {
   "cell_type": "code",
   "execution_count": 1558,
   "metadata": {},
   "outputs": [],
   "source": [
    "input_file = open(dir_+text_file,'r', encoding='cp949')\n",
    "data = input_file.read()"
   ]
  },
  {
   "cell_type": "code",
   "execution_count": 1559,
   "metadata": {},
   "outputs": [
    {
     "name": "stdout",
     "output_type": "stream",
     "text": [
      "file info : ######DT-202,6.01.810000000000000000011경기71바14911238100831###########0000001\n"
     ]
    }
   ],
   "source": [
    "print(f\"file info : {data[:76]}\")"
   ]
  },
  {
   "cell_type": "code",
   "execution_count": 1560,
   "metadata": {},
   "outputs": [
    {
     "name": "stdout",
     "output_type": "stream",
     "text": [
      "car num : 1491\n"
     ]
    }
   ],
   "source": [
    "print(f\"car num : {data[44:48]}\")"
   ]
  },
  {
   "cell_type": "code",
   "execution_count": 1561,
   "metadata": {},
   "outputs": [
    {
     "name": "stdout",
     "output_type": "stream",
     "text": [
      "row : 51143\n"
     ]
    }
   ],
   "source": [
    "row = int((len(data)-76)/68)\n",
    "print(f\"row : {row}\")"
   ]
  },
  {
   "cell_type": "code",
   "execution_count": 1562,
   "metadata": {},
   "outputs": [
    {
     "name": "stdout",
     "output_type": "stream",
     "text": [
      "total distance : 254(km)\n"
     ]
    }
   ],
   "source": [
    "# 총 주행거리(km)\n",
    "distance = int(data[76+(row-1)*68:144+(row-1)*68][4:11]) - int(data[76+(0)*68:144+(0)*68][4:11])\n",
    "print(f\"total distance : {distance}(km)\")"
   ]
  },
  {
   "cell_type": "code",
   "execution_count": 1563,
   "metadata": {},
   "outputs": [],
   "source": [
    "# 차원 축소 DE : driver_DE_DR_8.npy\n",
    "driving_event_DR = np.load(\"driver_DE_DR_8.npy\")"
   ]
  },
  {
   "cell_type": "code",
   "execution_count": 1564,
   "metadata": {},
   "outputs": [],
   "source": [
    "DE_DR_df = {\n",
    "    'driving event data(30)' : [driving_event_DR[i] for i in range(len(driving_event_DR))],\n",
    "    'idx' : [j for j in range(len(driving_event_DR))]\n",
    "}\n",
    "\n",
    "new_df = pd.DataFrame(DE_DR_df)"
   ]
  },
  {
   "cell_type": "code",
   "execution_count": 1565,
   "metadata": {},
   "outputs": [],
   "source": [
    "# Kmeans predict\n",
    "new_data_scale = scaler.fit_transform(driving_event_DR)\n",
    "\n",
    "new_df['cluster'] = kmeans.predict(new_data_scale)"
   ]
  },
  {
   "cell_type": "code",
   "execution_count": 1566,
   "metadata": {},
   "outputs": [
    {
     "data": {
      "text/plain": [
       "{0, 1, 2, 3, 4, 5, 6, 7}"
      ]
     },
     "execution_count": 1566,
     "metadata": {},
     "output_type": "execute_result"
    }
   ],
   "source": [
    "# 해당하는 cluster 종류\n",
    "set(new_df['cluster'].values)"
   ]
  },
  {
   "cell_type": "code",
   "execution_count": 1567,
   "metadata": {},
   "outputs": [],
   "source": [
    "cluster_dic = {}\n",
    "    \n",
    "for i in range(K_value):\n",
    "    if i not in new_df['cluster'].values:\n",
    "        cluster_dic[f\"cluster_{i}\"] = []\n",
    "    else:\n",
    "        cluster_dic[f\"cluster_{i}\"] = list(new_df.groupby('cluster').get_group(i)['idx'])"
   ]
  },
  {
   "cell_type": "code",
   "execution_count": 1568,
   "metadata": {},
   "outputs": [
    {
     "data": {
      "text/plain": [
       "[41, 95, 131, 1, 18, 135, 1875, 261]"
      ]
     },
     "execution_count": 1568,
     "metadata": {},
     "output_type": "execute_result"
    }
   ],
   "source": [
    "# cluster 별 데이터 개수\n",
    "cluster_data = list(cluster_dic.values())\n",
    "cluster_num = [len(e) for e in cluster_data]\n",
    "cluster_num"
   ]
  },
  {
   "cell_type": "code",
   "execution_count": 1569,
   "metadata": {},
   "outputs": [
    {
     "data": {
      "text/plain": [
       "[12, 8, 2, 12, 12, 4, 2, 4]"
      ]
     },
     "execution_count": 1569,
     "metadata": {},
     "output_type": "execute_result"
    }
   ],
   "source": [
    "# cluster 별 위험도 점수\n",
    "cluster_scores = clusters_eval['dangerousness'].values.flatten().tolist()\n",
    "cluster_scores"
   ]
  },
  {
   "cell_type": "code",
   "execution_count": 1570,
   "metadata": {},
   "outputs": [],
   "source": [
    "# 운전자 스코어링_1 : 점수 부여 방식\n",
    "score_1 = 0\n",
    "for i in range(K_value):\n",
    "    score_1 += cluster_scores[i] * cluster_num[i]"
   ]
  },
  {
   "cell_type": "code",
   "execution_count": 1571,
   "metadata": {},
   "outputs": [
    {
     "data": {
      "text/plain": [
       "[8.15, 10.18, 3.41, 13.14, 8.87, 3.48, 2.59, 3.14]"
      ]
     },
     "execution_count": 1571,
     "metadata": {},
     "output_type": "execute_result"
    }
   ],
   "source": [
    "# cluster 별 엔트로피 점수\n",
    "cluster_scores = clusters_eval_entropy['score(entropy)'].values.flatten().tolist()\n",
    "cluster_scores"
   ]
  },
  {
   "cell_type": "code",
   "execution_count": 1572,
   "metadata": {},
   "outputs": [],
   "source": [
    "# 운전자 스코어링_2 : 엔트로피 가중치 방식\n",
    "score_2 = 0\n",
    "for i in range(K_value):\n",
    "    score_2 += cluster_scores[i] * cluster_num[i]"
   ]
  },
  {
   "cell_type": "code",
   "execution_count": 1573,
   "metadata": {},
   "outputs": [],
   "source": [
    "# 관련성 높은 클러스터\n",
    "related_cluster = sorted(cluster_dic, key=lambda key:len(cluster_dic[key]), reverse=True)"
   ]
  },
  {
   "cell_type": "code",
   "execution_count": 1574,
   "metadata": {},
   "outputs": [
    {
     "name": "stdout",
     "output_type": "stream",
     "text": [
      "DRIVER BEHAVIOR : \n",
      "\n",
      "              cluster_6\n",
      "velocity_eval       Low\n",
      "acc_safety       danger\n",
      "steer_safety     safety\n",
      "\n",
      "\n",
      "              cluster_7\n",
      "velocity_eval       Low\n",
      "acc_safety       danger\n",
      "steer_safety     danger\n",
      "\n",
      "\n",
      "              cluster_5\n",
      "velocity_eval       Mid\n",
      "acc_safety       safety\n",
      "steer_safety     danger\n",
      "\n",
      "\n"
     ]
    }
   ],
   "source": [
    "# 운전자 평가\n",
    "# 기존 평가지표 df에서 cluster 해당 내용 매칭\n",
    "print(\"DRIVER BEHAVIOR : \\n\")\n",
    "for cluster in related_cluster[:3]: # 3위까지\n",
    "    print(pd.DataFrame(clusters_eval.loc[cluster][['velocity_eval', 'acc_safety', 'steer_safety']]))\n",
    "    print(\"\\n\")"
   ]
  },
  {
   "cell_type": "code",
   "execution_count": 1575,
   "metadata": {},
   "outputs": [],
   "source": [
    "# test) cluster 별 위험도 점수 2\n",
    "cluster_scores2 = test_eval['dangerousness'].values.flatten().tolist()\n",
    "\n",
    "score_3 = 0\n",
    "for i in range(K_value):\n",
    "    score_3 += cluster_scores2[i] * cluster_num[i]"
   ]
  },
  {
   "cell_type": "code",
   "execution_count": 1576,
   "metadata": {},
   "outputs": [],
   "source": [
    "driver_8 = {\n",
    "    'score_1' : int(score_1),\n",
    "    'score/km_1' : int(score_1/distance),\n",
    "    'score_2' : int(score_2),\n",
    "    'score/km_2' : int(score_2/distance),\n",
    "    'test_score' : int(score_3),\n",
    "    'test_score/km' : int(score_3/distance),\n",
    "    'related_cluster' : related_cluster\n",
    "}"
   ]
  },
  {
   "cell_type": "markdown",
   "metadata": {},
   "source": [
    "# 운전자 데이터 9\n",
    "- driver_DE_DR_9.npy\n",
    "- '20210701-░ц▒т71╣┘1493-S-01-0000001.txt'"
   ]
  },
  {
   "cell_type": "code",
   "execution_count": 1577,
   "metadata": {},
   "outputs": [],
   "source": [
    "text_file = text_file_ls[8]"
   ]
  },
  {
   "cell_type": "code",
   "execution_count": 1578,
   "metadata": {},
   "outputs": [],
   "source": [
    "input_file = open(dir_+text_file,'r', encoding='cp949')\n",
    "data = input_file.read()"
   ]
  },
  {
   "cell_type": "code",
   "execution_count": 1579,
   "metadata": {},
   "outputs": [
    {
     "name": "stdout",
     "output_type": "stream",
     "text": [
      "file info : ######DT-202,6.01.810000000000000000011경기71바14931238100831###########0000001\n"
     ]
    }
   ],
   "source": [
    "print(f\"file info : {data[:76]}\")"
   ]
  },
  {
   "cell_type": "code",
   "execution_count": 1580,
   "metadata": {},
   "outputs": [
    {
     "name": "stdout",
     "output_type": "stream",
     "text": [
      "car num : 1493\n"
     ]
    }
   ],
   "source": [
    "print(f\"car num : {data[44:48]}\")"
   ]
  },
  {
   "cell_type": "code",
   "execution_count": 1581,
   "metadata": {},
   "outputs": [
    {
     "name": "stdout",
     "output_type": "stream",
     "text": [
      "row : 50168\n"
     ]
    }
   ],
   "source": [
    "row = int((len(data)-76)/68)\n",
    "print(f\"row : {row}\")"
   ]
  },
  {
   "cell_type": "code",
   "execution_count": 1582,
   "metadata": {},
   "outputs": [
    {
     "name": "stdout",
     "output_type": "stream",
     "text": [
      "total distance : 253(km)\n"
     ]
    }
   ],
   "source": [
    "# 총 주행거리(km)\n",
    "distance = int(data[76+(row-1)*68:144+(row-1)*68][4:11]) - int(data[76+(0)*68:144+(0)*68][4:11])\n",
    "print(f\"total distance : {distance}(km)\")"
   ]
  },
  {
   "cell_type": "code",
   "execution_count": 1583,
   "metadata": {},
   "outputs": [],
   "source": [
    "# 차원 축소 DE : driver_DE_DR_9.npy\n",
    "driving_event_DR = np.load(\"driver_DE_DR_9.npy\")"
   ]
  },
  {
   "cell_type": "code",
   "execution_count": 1584,
   "metadata": {},
   "outputs": [],
   "source": [
    "DE_DR_df = {\n",
    "    'driving event data(30)' : [driving_event_DR[i] for i in range(len(driving_event_DR))],\n",
    "    'idx' : [j for j in range(len(driving_event_DR))]\n",
    "}\n",
    "\n",
    "new_df = pd.DataFrame(DE_DR_df)"
   ]
  },
  {
   "cell_type": "code",
   "execution_count": 1585,
   "metadata": {},
   "outputs": [],
   "source": [
    "# Kmeans predict\n",
    "new_data_scale = scaler.fit_transform(driving_event_DR)\n",
    "\n",
    "new_df['cluster'] = kmeans.predict(new_data_scale)"
   ]
  },
  {
   "cell_type": "code",
   "execution_count": 1586,
   "metadata": {},
   "outputs": [
    {
     "data": {
      "text/plain": [
       "{0, 1, 2, 3, 4, 5, 6, 7}"
      ]
     },
     "execution_count": 1586,
     "metadata": {},
     "output_type": "execute_result"
    }
   ],
   "source": [
    "# 해당하는 cluster 종류\n",
    "set(new_df['cluster'].values)"
   ]
  },
  {
   "cell_type": "code",
   "execution_count": 1587,
   "metadata": {},
   "outputs": [],
   "source": [
    "cluster_dic = {}\n",
    "    \n",
    "for i in range(K_value):\n",
    "    if i not in new_df['cluster'].values:\n",
    "        cluster_dic[f\"cluster_{i}\"] = []\n",
    "    else:\n",
    "        cluster_dic[f\"cluster_{i}\"] = list(new_df.groupby('cluster').get_group(i)['idx'])"
   ]
  },
  {
   "cell_type": "code",
   "execution_count": 1588,
   "metadata": {},
   "outputs": [
    {
     "data": {
      "text/plain": [
       "[26, 19, 120, 32, 1, 114, 1938, 258]"
      ]
     },
     "execution_count": 1588,
     "metadata": {},
     "output_type": "execute_result"
    }
   ],
   "source": [
    "# cluster 별 데이터 개수\n",
    "cluster_data = list(cluster_dic.values())\n",
    "cluster_num = [len(e) for e in cluster_data]\n",
    "cluster_num"
   ]
  },
  {
   "cell_type": "code",
   "execution_count": 1589,
   "metadata": {},
   "outputs": [
    {
     "data": {
      "text/plain": [
       "[12, 8, 2, 12, 12, 4, 2, 4]"
      ]
     },
     "execution_count": 1589,
     "metadata": {},
     "output_type": "execute_result"
    }
   ],
   "source": [
    "# cluster 별 위험도 점수\n",
    "cluster_scores = clusters_eval['dangerousness'].values.flatten().tolist()\n",
    "cluster_scores"
   ]
  },
  {
   "cell_type": "code",
   "execution_count": 1590,
   "metadata": {},
   "outputs": [],
   "source": [
    "# 운전자 스코어링_1 : 점수 부여 방식\n",
    "score_1 = 0\n",
    "for i in range(K_value):\n",
    "    score_1 += cluster_scores[i] * cluster_num[i]"
   ]
  },
  {
   "cell_type": "code",
   "execution_count": 1591,
   "metadata": {},
   "outputs": [
    {
     "data": {
      "text/plain": [
       "[8.15, 10.18, 3.41, 13.14, 8.87, 3.48, 2.59, 3.14]"
      ]
     },
     "execution_count": 1591,
     "metadata": {},
     "output_type": "execute_result"
    }
   ],
   "source": [
    "# cluster 별 엔트로피 점수\n",
    "cluster_scores = clusters_eval_entropy['score(entropy)'].values.flatten().tolist()\n",
    "cluster_scores"
   ]
  },
  {
   "cell_type": "code",
   "execution_count": 1592,
   "metadata": {},
   "outputs": [],
   "source": [
    "# 운전자 스코어링_2 : 엔트로피 가중치 방식\n",
    "score_2 = 0\n",
    "for i in range(K_value):\n",
    "    score_2 += cluster_scores[i] * cluster_num[i]"
   ]
  },
  {
   "cell_type": "code",
   "execution_count": 1593,
   "metadata": {},
   "outputs": [],
   "source": [
    "# 관련성 높은 클러스터\n",
    "related_cluster = sorted(cluster_dic, key=lambda key:len(cluster_dic[key]), reverse=True)"
   ]
  },
  {
   "cell_type": "code",
   "execution_count": 1594,
   "metadata": {},
   "outputs": [
    {
     "name": "stdout",
     "output_type": "stream",
     "text": [
      "DRIVER BEHAVIOR : \n",
      "\n",
      "              cluster_6\n",
      "velocity_eval       Low\n",
      "acc_safety       danger\n",
      "steer_safety     safety\n",
      "\n",
      "\n",
      "              cluster_7\n",
      "velocity_eval       Low\n",
      "acc_safety       danger\n",
      "steer_safety     danger\n",
      "\n",
      "\n",
      "              cluster_2\n",
      "velocity_eval       Low\n",
      "acc_safety       safety\n",
      "steer_safety     danger\n",
      "\n",
      "\n"
     ]
    }
   ],
   "source": [
    "# 운전자 평가\n",
    "# 기존 평가지표 df에서 cluster 해당 내용 매칭\n",
    "print(\"DRIVER BEHAVIOR : \\n\")\n",
    "for cluster in related_cluster[:3]: # 3위까지\n",
    "    print(pd.DataFrame(clusters_eval.loc[cluster][['velocity_eval', 'acc_safety', 'steer_safety']]))\n",
    "    print(\"\\n\")"
   ]
  },
  {
   "cell_type": "code",
   "execution_count": 1595,
   "metadata": {},
   "outputs": [],
   "source": [
    "# test) cluster 별 위험도 점수 2\n",
    "cluster_scores2 = test_eval['dangerousness'].values.flatten().tolist()\n",
    "\n",
    "score_3 = 0\n",
    "for i in range(K_value):\n",
    "    score_3 += cluster_scores2[i] * cluster_num[i]"
   ]
  },
  {
   "cell_type": "code",
   "execution_count": 1596,
   "metadata": {},
   "outputs": [],
   "source": [
    "driver_9 = {\n",
    "    'score_1' : int(score_1),\n",
    "    'score/km_1' : int(score_1/distance),\n",
    "    'score_2' : int(score_2),\n",
    "    'score/km_2' : int(score_2/distance),\n",
    "    'test_score' : int(score_3),\n",
    "    'test_score/km' : int(score_3/distance),\n",
    "    'related_cluster' : related_cluster\n",
    "}"
   ]
  },
  {
   "cell_type": "markdown",
   "metadata": {},
   "source": [
    "# 운전자 데이터 10\n",
    "- driver_DE_DR_10.npy\n",
    "- '20210701-░ц▒т71╣┘1534-S-01-0000001.txt'"
   ]
  },
  {
   "cell_type": "code",
   "execution_count": 1597,
   "metadata": {},
   "outputs": [],
   "source": [
    "text_file = text_file_ls[9]"
   ]
  },
  {
   "cell_type": "code",
   "execution_count": 1598,
   "metadata": {},
   "outputs": [],
   "source": [
    "input_file = open(dir_+text_file,'r', encoding='cp949')\n",
    "data = input_file.read()"
   ]
  },
  {
   "cell_type": "code",
   "execution_count": 1599,
   "metadata": {},
   "outputs": [
    {
     "name": "stdout",
     "output_type": "stream",
     "text": [
      "file info : ######DT-202,6.01.930000000000000000011경기71바15341238106591###########0000001\n"
     ]
    }
   ],
   "source": [
    "print(f\"file info : {data[:76]}\")"
   ]
  },
  {
   "cell_type": "code",
   "execution_count": 1600,
   "metadata": {},
   "outputs": [
    {
     "name": "stdout",
     "output_type": "stream",
     "text": [
      "car num : 1534\n"
     ]
    }
   ],
   "source": [
    "print(f\"car num : {data[44:48]}\")"
   ]
  },
  {
   "cell_type": "code",
   "execution_count": 1601,
   "metadata": {},
   "outputs": [
    {
     "name": "stdout",
     "output_type": "stream",
     "text": [
      "row : 52939\n"
     ]
    }
   ],
   "source": [
    "row = int((len(data)-76)/68)\n",
    "print(f\"row : {row}\")"
   ]
  },
  {
   "cell_type": "code",
   "execution_count": 1602,
   "metadata": {},
   "outputs": [
    {
     "name": "stdout",
     "output_type": "stream",
     "text": [
      "total distance : 243(km)\n"
     ]
    }
   ],
   "source": [
    "# 총 주행거리(km)\n",
    "distance = int(data[76+(row-1)*68:144+(row-1)*68][4:11]) - int(data[76+(0)*68:144+(0)*68][4:11])\n",
    "print(f\"total distance : {distance}(km)\")"
   ]
  },
  {
   "cell_type": "code",
   "execution_count": 1603,
   "metadata": {},
   "outputs": [],
   "source": [
    "# 차원 축소 DE : driver_DE_DR_10.npy\n",
    "driving_event_DR = np.load(\"driver_DE_DR_10.npy\")"
   ]
  },
  {
   "cell_type": "code",
   "execution_count": 1604,
   "metadata": {},
   "outputs": [],
   "source": [
    "DE_DR_df = {\n",
    "    'driving event data(30)' : [driving_event_DR[i] for i in range(len(driving_event_DR))],\n",
    "    'idx' : [j for j in range(len(driving_event_DR))]\n",
    "}\n",
    "\n",
    "new_df = pd.DataFrame(DE_DR_df)"
   ]
  },
  {
   "cell_type": "code",
   "execution_count": 1605,
   "metadata": {},
   "outputs": [],
   "source": [
    "# Kmeans predict\n",
    "new_data_scale = scaler.fit_transform(driving_event_DR)\n",
    "\n",
    "new_df['cluster'] = kmeans.predict(new_data_scale)"
   ]
  },
  {
   "cell_type": "code",
   "execution_count": 1606,
   "metadata": {},
   "outputs": [
    {
     "data": {
      "text/plain": [
       "{0, 1, 2, 3, 4, 5, 6, 7}"
      ]
     },
     "execution_count": 1606,
     "metadata": {},
     "output_type": "execute_result"
    }
   ],
   "source": [
    "# 해당하는 cluster 종류\n",
    "set(new_df['cluster'].values)"
   ]
  },
  {
   "cell_type": "code",
   "execution_count": 1607,
   "metadata": {},
   "outputs": [],
   "source": [
    "cluster_dic = {}\n",
    "    \n",
    "for i in range(K_value):\n",
    "    if i not in new_df['cluster'].values:\n",
    "        cluster_dic[f\"cluster_{i}\"] = []\n",
    "    else:\n",
    "        cluster_dic[f\"cluster_{i}\"] = list(new_df.groupby('cluster').get_group(i)['idx'])"
   ]
  },
  {
   "cell_type": "code",
   "execution_count": 1608,
   "metadata": {},
   "outputs": [
    {
     "data": {
      "text/plain": [
       "[77, 17, 292, 13, 8, 174, 1569, 497]"
      ]
     },
     "execution_count": 1608,
     "metadata": {},
     "output_type": "execute_result"
    }
   ],
   "source": [
    "# cluster 별 데이터 개수\n",
    "cluster_data = list(cluster_dic.values())\n",
    "cluster_num = [len(e) for e in cluster_data]\n",
    "cluster_num"
   ]
  },
  {
   "cell_type": "code",
   "execution_count": 1609,
   "metadata": {},
   "outputs": [
    {
     "data": {
      "text/plain": [
       "[12, 8, 2, 12, 12, 4, 2, 4]"
      ]
     },
     "execution_count": 1609,
     "metadata": {},
     "output_type": "execute_result"
    }
   ],
   "source": [
    "# cluster 별 위험도 점수\n",
    "cluster_scores = clusters_eval['dangerousness'].values.flatten().tolist()\n",
    "cluster_scores"
   ]
  },
  {
   "cell_type": "code",
   "execution_count": 1610,
   "metadata": {},
   "outputs": [],
   "source": [
    "# 운전자 스코어링_1 : 점수 부여 방식\n",
    "score_1 = 0\n",
    "for i in range(K_value):\n",
    "    score_1 += cluster_scores[i] * cluster_num[i]"
   ]
  },
  {
   "cell_type": "code",
   "execution_count": 1611,
   "metadata": {},
   "outputs": [
    {
     "data": {
      "text/plain": [
       "[8.15, 10.18, 3.41, 13.14, 8.87, 3.48, 2.59, 3.14]"
      ]
     },
     "execution_count": 1611,
     "metadata": {},
     "output_type": "execute_result"
    }
   ],
   "source": [
    "# cluster 별 엔트로피 점수\n",
    "cluster_scores = clusters_eval_entropy['score(entropy)'].values.flatten().tolist()\n",
    "cluster_scores"
   ]
  },
  {
   "cell_type": "code",
   "execution_count": 1612,
   "metadata": {},
   "outputs": [],
   "source": [
    "# 운전자 스코어링_2 : 엔트로피 가중치 방식\n",
    "score_2 = 0\n",
    "for i in range(K_value):\n",
    "    score_2 += cluster_scores[i] * cluster_num[i]"
   ]
  },
  {
   "cell_type": "code",
   "execution_count": 1613,
   "metadata": {},
   "outputs": [],
   "source": [
    "# 관련성 높은 클러스터\n",
    "related_cluster = sorted(cluster_dic, key=lambda key:len(cluster_dic[key]), reverse=True)"
   ]
  },
  {
   "cell_type": "code",
   "execution_count": 1614,
   "metadata": {},
   "outputs": [
    {
     "name": "stdout",
     "output_type": "stream",
     "text": [
      "DRIVER BEHAVIOR : \n",
      "\n",
      "              cluster_6\n",
      "velocity_eval       Low\n",
      "acc_safety       danger\n",
      "steer_safety     safety\n",
      "\n",
      "\n",
      "              cluster_7\n",
      "velocity_eval       Low\n",
      "acc_safety       danger\n",
      "steer_safety     danger\n",
      "\n",
      "\n",
      "              cluster_2\n",
      "velocity_eval       Low\n",
      "acc_safety       safety\n",
      "steer_safety     danger\n",
      "\n",
      "\n"
     ]
    }
   ],
   "source": [
    "# 운전자 평가\n",
    "# 기존 평가지표 df에서 cluster 해당 내용 매칭\n",
    "print(\"DRIVER BEHAVIOR : \\n\")\n",
    "for cluster in related_cluster[:3]: # 3위까지\n",
    "    print(pd.DataFrame(clusters_eval.loc[cluster][['velocity_eval', 'acc_safety', 'steer_safety']]))\n",
    "    print(\"\\n\")"
   ]
  },
  {
   "cell_type": "code",
   "execution_count": 1615,
   "metadata": {},
   "outputs": [],
   "source": [
    "# test) cluster 별 위험도 점수 2\n",
    "cluster_scores2 = test_eval['dangerousness'].values.flatten().tolist()\n",
    "\n",
    "score_3 = 0\n",
    "for i in range(K_value):\n",
    "    score_3 += cluster_scores2[i] * cluster_num[i]"
   ]
  },
  {
   "cell_type": "code",
   "execution_count": 1616,
   "metadata": {},
   "outputs": [],
   "source": [
    "driver_10 = {\n",
    "    'score_1' : int(score_1),\n",
    "    'score/km_1' : int(score_1/distance),\n",
    "    'score_2' : int(score_2),\n",
    "    'score/km_2' : int(score_2/distance),\n",
    "    'test_score' : int(score_3),\n",
    "    'test_score/km' : int(score_3/distance),\n",
    "    'related_cluster' : related_cluster\n",
    "}"
   ]
  },
  {
   "cell_type": "markdown",
   "metadata": {},
   "source": [
    "# 운전자 데이터 11\n",
    "- driver_DE_DR_11.npy\n",
    "- '20210701-░ц▒т71╣┘1197-S-01-0000001.txt'"
   ]
  },
  {
   "cell_type": "code",
   "execution_count": 1617,
   "metadata": {},
   "outputs": [],
   "source": [
    "text_file = text_file_ls[10]"
   ]
  },
  {
   "cell_type": "code",
   "execution_count": 1618,
   "metadata": {},
   "outputs": [],
   "source": [
    "input_file = open(dir_+text_file,'r', encoding='cp949')\n",
    "data = input_file.read()"
   ]
  },
  {
   "cell_type": "code",
   "execution_count": 1619,
   "metadata": {},
   "outputs": [
    {
     "name": "stdout",
     "output_type": "stream",
     "text": [
      "file info : ############ODR-1200KMJTA18LPAC00747911경기71바11971238100831######Not_00000000\n"
     ]
    }
   ],
   "source": [
    "print(f\"file info : {data[:76]}\")"
   ]
  },
  {
   "cell_type": "code",
   "execution_count": 1620,
   "metadata": {},
   "outputs": [
    {
     "name": "stdout",
     "output_type": "stream",
     "text": [
      "car num : 1197\n"
     ]
    }
   ],
   "source": [
    "print(f\"car num : {data[44:48]}\")"
   ]
  },
  {
   "cell_type": "code",
   "execution_count": 1621,
   "metadata": {},
   "outputs": [
    {
     "name": "stdout",
     "output_type": "stream",
     "text": [
      "row : 54374\n"
     ]
    }
   ],
   "source": [
    "row = int((len(data)-76)/68)\n",
    "print(f\"row : {row}\")"
   ]
  },
  {
   "cell_type": "code",
   "execution_count": 1622,
   "metadata": {},
   "outputs": [
    {
     "name": "stdout",
     "output_type": "stream",
     "text": [
      "total distance : 234(km)\n"
     ]
    }
   ],
   "source": [
    "# 총 주행거리(km)\n",
    "distance = int(data[76+(row-1)*68:144+(row-1)*68][4:11]) - int(data[76+(0)*68:144+(0)*68][4:11])\n",
    "print(f\"total distance : {distance}(km)\")"
   ]
  },
  {
   "cell_type": "code",
   "execution_count": 1623,
   "metadata": {},
   "outputs": [],
   "source": [
    "# 차원 축소 DE : driver_DE_DR_11.npy\n",
    "driving_event_DR = np.load(\"driver_DE_DR_11.npy\")"
   ]
  },
  {
   "cell_type": "code",
   "execution_count": 1624,
   "metadata": {},
   "outputs": [],
   "source": [
    "DE_DR_df = {\n",
    "    'driving event data(30)' : [driving_event_DR[i] for i in range(len(driving_event_DR))],\n",
    "    'idx' : [j for j in range(len(driving_event_DR))]\n",
    "}\n",
    "\n",
    "new_df = pd.DataFrame(DE_DR_df)"
   ]
  },
  {
   "cell_type": "code",
   "execution_count": 1625,
   "metadata": {},
   "outputs": [],
   "source": [
    "# Kmeans predict\n",
    "new_data_scale = scaler.fit_transform(driving_event_DR)\n",
    "\n",
    "new_df['cluster'] = kmeans.predict(new_data_scale)"
   ]
  },
  {
   "cell_type": "code",
   "execution_count": 1626,
   "metadata": {},
   "outputs": [
    {
     "data": {
      "text/plain": [
       "{0, 1, 2, 4, 5, 6, 7}"
      ]
     },
     "execution_count": 1626,
     "metadata": {},
     "output_type": "execute_result"
    }
   ],
   "source": [
    "# 해당하는 cluster 종류\n",
    "set(new_df['cluster'].values)"
   ]
  },
  {
   "cell_type": "code",
   "execution_count": 1627,
   "metadata": {},
   "outputs": [],
   "source": [
    "cluster_dic = {}\n",
    "    \n",
    "for i in range(K_value):\n",
    "    if i not in new_df['cluster'].values:\n",
    "        cluster_dic[f\"cluster_{i}\"] = []\n",
    "    else:\n",
    "        cluster_dic[f\"cluster_{i}\"] = list(new_df.groupby('cluster').get_group(i)['idx'])"
   ]
  },
  {
   "cell_type": "code",
   "execution_count": 1628,
   "metadata": {},
   "outputs": [
    {
     "data": {
      "text/plain": [
       "[1, 9, 396, 0, 2, 1187, 242, 881]"
      ]
     },
     "execution_count": 1628,
     "metadata": {},
     "output_type": "execute_result"
    }
   ],
   "source": [
    "# cluster 별 데이터 개수\n",
    "cluster_data = list(cluster_dic.values())\n",
    "cluster_num = [len(e) for e in cluster_data]\n",
    "cluster_num"
   ]
  },
  {
   "cell_type": "code",
   "execution_count": 1629,
   "metadata": {},
   "outputs": [
    {
     "data": {
      "text/plain": [
       "[12, 8, 2, 12, 12, 4, 2, 4]"
      ]
     },
     "execution_count": 1629,
     "metadata": {},
     "output_type": "execute_result"
    }
   ],
   "source": [
    "# cluster 별 위험도 점수\n",
    "cluster_scores = clusters_eval['dangerousness'].values.flatten().tolist()\n",
    "cluster_scores"
   ]
  },
  {
   "cell_type": "code",
   "execution_count": 1630,
   "metadata": {},
   "outputs": [],
   "source": [
    "# 운전자 스코어링_1 : 점수 부여 방식\n",
    "score_1 = 0\n",
    "for i in range(K_value):\n",
    "    score_1 += cluster_scores[i] * cluster_num[i]"
   ]
  },
  {
   "cell_type": "code",
   "execution_count": 1631,
   "metadata": {},
   "outputs": [
    {
     "data": {
      "text/plain": [
       "[8.15, 10.18, 3.41, 13.14, 8.87, 3.48, 2.59, 3.14]"
      ]
     },
     "execution_count": 1631,
     "metadata": {},
     "output_type": "execute_result"
    }
   ],
   "source": [
    "# cluster 별 엔트로피 점수\n",
    "cluster_scores = clusters_eval_entropy['score(entropy)'].values.flatten().tolist()\n",
    "cluster_scores"
   ]
  },
  {
   "cell_type": "code",
   "execution_count": 1632,
   "metadata": {},
   "outputs": [],
   "source": [
    "# 운전자 스코어링_2 : 엔트로피 가중치 방식\n",
    "score_2 = 0\n",
    "for i in range(K_value):\n",
    "    score_2 += cluster_scores[i] * cluster_num[i]"
   ]
  },
  {
   "cell_type": "code",
   "execution_count": 1633,
   "metadata": {},
   "outputs": [],
   "source": [
    "# 관련성 높은 클러스터\n",
    "related_cluster = sorted(cluster_dic, key=lambda key:len(cluster_dic[key]), reverse=True)"
   ]
  },
  {
   "cell_type": "code",
   "execution_count": 1634,
   "metadata": {},
   "outputs": [
    {
     "name": "stdout",
     "output_type": "stream",
     "text": [
      "DRIVER BEHAVIOR : \n",
      "\n",
      "              cluster_5\n",
      "velocity_eval       Mid\n",
      "acc_safety       safety\n",
      "steer_safety     danger\n",
      "\n",
      "\n",
      "              cluster_7\n",
      "velocity_eval       Low\n",
      "acc_safety       danger\n",
      "steer_safety     danger\n",
      "\n",
      "\n",
      "              cluster_2\n",
      "velocity_eval       Low\n",
      "acc_safety       safety\n",
      "steer_safety     danger\n",
      "\n",
      "\n"
     ]
    }
   ],
   "source": [
    "# 운전자 평가\n",
    "# 기존 평가지표 df에서 cluster 해당 내용 매칭\n",
    "print(\"DRIVER BEHAVIOR : \\n\")\n",
    "for cluster in related_cluster[:3]: # 3위까지\n",
    "    print(pd.DataFrame(clusters_eval.loc[cluster][['velocity_eval', 'acc_safety', 'steer_safety']]))\n",
    "    print(\"\\n\")"
   ]
  },
  {
   "cell_type": "code",
   "execution_count": 1635,
   "metadata": {},
   "outputs": [],
   "source": [
    "# test) cluster 별 위험도 점수 2\n",
    "cluster_scores2 = test_eval['dangerousness'].values.flatten().tolist()\n",
    "\n",
    "score_3 = 0\n",
    "for i in range(K_value):\n",
    "    score_3 += cluster_scores2[i] * cluster_num[i]"
   ]
  },
  {
   "cell_type": "code",
   "execution_count": 1636,
   "metadata": {},
   "outputs": [],
   "source": [
    "driver_11 = {\n",
    "    'score_1' : int(score_1),\n",
    "    'score/km_1' : int(score_1/distance),\n",
    "    'score_2' : int(score_2),\n",
    "    'score/km_2' : int(score_2/distance),\n",
    "    'test_score' : int(score_3),\n",
    "    'test_score/km' : int(score_3/distance),\n",
    "    'related_cluster' : related_cluster\n",
    "}"
   ]
  },
  {
   "cell_type": "markdown",
   "metadata": {},
   "source": [
    "# 운전자 데이터 12\n",
    "- driver_DE_DR_12.npy\n",
    "- '20210701-░ц▒т71╣┘1372-S-01-0000001.txt'"
   ]
  },
  {
   "cell_type": "code",
   "execution_count": 1637,
   "metadata": {},
   "outputs": [],
   "source": [
    "text_file = text_file_ls[11]"
   ]
  },
  {
   "cell_type": "code",
   "execution_count": 1638,
   "metadata": {},
   "outputs": [],
   "source": [
    "input_file = open(dir_+text_file,'r', encoding='cp949')\n",
    "data = input_file.read()"
   ]
  },
  {
   "cell_type": "code",
   "execution_count": 1639,
   "metadata": {},
   "outputs": [
    {
     "name": "stdout",
     "output_type": "stream",
     "text": [
      "file info : ############ODR-12001111111111111111111경기71바13720000000000######Not_00000000\n"
     ]
    }
   ],
   "source": [
    "print(f\"file info : {data[:76]}\")"
   ]
  },
  {
   "cell_type": "code",
   "execution_count": 1640,
   "metadata": {},
   "outputs": [
    {
     "name": "stdout",
     "output_type": "stream",
     "text": [
      "car num : 1372\n"
     ]
    }
   ],
   "source": [
    "print(f\"car num : {data[44:48]}\")"
   ]
  },
  {
   "cell_type": "code",
   "execution_count": 1641,
   "metadata": {},
   "outputs": [
    {
     "name": "stdout",
     "output_type": "stream",
     "text": [
      "row : 52853\n"
     ]
    }
   ],
   "source": [
    "row = int((len(data)-76)/68)\n",
    "print(f\"row : {row}\")"
   ]
  },
  {
   "cell_type": "code",
   "execution_count": 1642,
   "metadata": {},
   "outputs": [
    {
     "name": "stdout",
     "output_type": "stream",
     "text": [
      "total distance : 204(km)\n"
     ]
    }
   ],
   "source": [
    "# 총 주행거리(km)\n",
    "distance = int(data[76+(row-1)*68:144+(row-1)*68][4:11]) - int(data[76+(0)*68:144+(0)*68][4:11])\n",
    "print(f\"total distance : {distance}(km)\")"
   ]
  },
  {
   "cell_type": "code",
   "execution_count": 1643,
   "metadata": {},
   "outputs": [],
   "source": [
    "# 차원 축소 DE : driver_DE_DR_12.npy\n",
    "driving_event_DR = np.load(\"driver_DE_DR_12.npy\")"
   ]
  },
  {
   "cell_type": "code",
   "execution_count": 1644,
   "metadata": {},
   "outputs": [],
   "source": [
    "DE_DR_df = {\n",
    "    'driving event data(30)' : [driving_event_DR[i] for i in range(len(driving_event_DR))],\n",
    "    'idx' : [j for j in range(len(driving_event_DR))]\n",
    "}\n",
    "\n",
    "new_df = pd.DataFrame(DE_DR_df)"
   ]
  },
  {
   "cell_type": "code",
   "execution_count": 1645,
   "metadata": {},
   "outputs": [],
   "source": [
    "# Kmeans predict\n",
    "new_data_scale = scaler.fit_transform(driving_event_DR)\n",
    "\n",
    "new_df['cluster'] = kmeans.predict(new_data_scale)"
   ]
  },
  {
   "cell_type": "code",
   "execution_count": 1646,
   "metadata": {},
   "outputs": [
    {
     "data": {
      "text/plain": [
       "{0, 1, 2, 4, 5, 6, 7}"
      ]
     },
     "execution_count": 1646,
     "metadata": {},
     "output_type": "execute_result"
    }
   ],
   "source": [
    "# 해당하는 cluster 종류\n",
    "set(new_df['cluster'].values)"
   ]
  },
  {
   "cell_type": "code",
   "execution_count": 1647,
   "metadata": {},
   "outputs": [],
   "source": [
    "cluster_dic = {}\n",
    "    \n",
    "for i in range(K_value):\n",
    "    if i not in new_df['cluster'].values:\n",
    "        cluster_dic[f\"cluster_{i}\"] = []\n",
    "    else:\n",
    "        cluster_dic[f\"cluster_{i}\"] = list(new_df.groupby('cluster').get_group(i)['idx'])"
   ]
  },
  {
   "cell_type": "code",
   "execution_count": 1648,
   "metadata": {},
   "outputs": [
    {
     "data": {
      "text/plain": [
       "[2, 30, 1897, 0, 4, 354, 78, 277]"
      ]
     },
     "execution_count": 1648,
     "metadata": {},
     "output_type": "execute_result"
    }
   ],
   "source": [
    "# cluster 별 데이터 개수\n",
    "cluster_data = list(cluster_dic.values())\n",
    "cluster_num = [len(e) for e in cluster_data]\n",
    "cluster_num"
   ]
  },
  {
   "cell_type": "code",
   "execution_count": 1649,
   "metadata": {},
   "outputs": [
    {
     "data": {
      "text/plain": [
       "[12, 8, 2, 12, 12, 4, 2, 4]"
      ]
     },
     "execution_count": 1649,
     "metadata": {},
     "output_type": "execute_result"
    }
   ],
   "source": [
    "# cluster 별 위험도 점수\n",
    "cluster_scores = clusters_eval['dangerousness'].values.flatten().tolist()\n",
    "cluster_scores"
   ]
  },
  {
   "cell_type": "code",
   "execution_count": 1650,
   "metadata": {},
   "outputs": [],
   "source": [
    "# 운전자 스코어링_1 : 점수 부여 방식\n",
    "score_1 = 0\n",
    "for i in range(K_value):\n",
    "    score_1 += cluster_scores[i] * cluster_num[i]"
   ]
  },
  {
   "cell_type": "code",
   "execution_count": 1651,
   "metadata": {},
   "outputs": [
    {
     "data": {
      "text/plain": [
       "[8.15, 10.18, 3.41, 13.14, 8.87, 3.48, 2.59, 3.14]"
      ]
     },
     "execution_count": 1651,
     "metadata": {},
     "output_type": "execute_result"
    }
   ],
   "source": [
    "# cluster 별 엔트로피 점수\n",
    "cluster_scores = clusters_eval_entropy['score(entropy)'].values.flatten().tolist()\n",
    "cluster_scores"
   ]
  },
  {
   "cell_type": "code",
   "execution_count": 1652,
   "metadata": {},
   "outputs": [],
   "source": [
    "# 운전자 스코어링_2 : 엔트로피 가중치 방식\n",
    "score_2 = 0\n",
    "for i in range(K_value):\n",
    "    score_2 += cluster_scores[i] * cluster_num[i]"
   ]
  },
  {
   "cell_type": "code",
   "execution_count": 1653,
   "metadata": {},
   "outputs": [],
   "source": [
    "# 관련성 높은 클러스터\n",
    "related_cluster = sorted(cluster_dic, key=lambda key:len(cluster_dic[key]), reverse=True)"
   ]
  },
  {
   "cell_type": "code",
   "execution_count": 1654,
   "metadata": {},
   "outputs": [
    {
     "name": "stdout",
     "output_type": "stream",
     "text": [
      "DRIVER BEHAVIOR : \n",
      "\n",
      "              cluster_2\n",
      "velocity_eval       Low\n",
      "acc_safety       safety\n",
      "steer_safety     danger\n",
      "\n",
      "\n",
      "              cluster_5\n",
      "velocity_eval       Mid\n",
      "acc_safety       safety\n",
      "steer_safety     danger\n",
      "\n",
      "\n",
      "              cluster_7\n",
      "velocity_eval       Low\n",
      "acc_safety       danger\n",
      "steer_safety     danger\n",
      "\n",
      "\n"
     ]
    }
   ],
   "source": [
    "# 운전자 평가\n",
    "# 기존 평가지표 df에서 cluster 해당 내용 매칭\n",
    "print(\"DRIVER BEHAVIOR : \\n\")\n",
    "for cluster in related_cluster[:3]: # 3위까지\n",
    "    print(pd.DataFrame(clusters_eval.loc[cluster][['velocity_eval', 'acc_safety', 'steer_safety']]))\n",
    "    print(\"\\n\")"
   ]
  },
  {
   "cell_type": "code",
   "execution_count": 1655,
   "metadata": {},
   "outputs": [],
   "source": [
    "# test) cluster 별 위험도 점수 2\n",
    "cluster_scores2 = test_eval['dangerousness'].values.flatten().tolist()\n",
    "\n",
    "score_3 = 0\n",
    "for i in range(K_value):\n",
    "    score_3 += cluster_scores2[i] * cluster_num[i]"
   ]
  },
  {
   "cell_type": "code",
   "execution_count": 1656,
   "metadata": {},
   "outputs": [],
   "source": [
    "driver_12 = {\n",
    "    'score_1' : int(score_1),\n",
    "    'score/km_1' : int(score_1/distance),\n",
    "    'score_2' : int(score_2),\n",
    "    'score/km_2' : int(score_2/distance),\n",
    "    'test_score' : int(score_3),\n",
    "    'test_score/km' : int(score_3/distance),\n",
    "    'related_cluster' : related_cluster\n",
    "}"
   ]
  },
  {
   "cell_type": "markdown",
   "metadata": {},
   "source": [
    "# 운전자 데이터 13\n",
    "- driver_DE_DR_13.npy\n",
    "- '20210701-░ц▒т71╣┘1393-S-01-0000001.txt'"
   ]
  },
  {
   "cell_type": "code",
   "execution_count": 1657,
   "metadata": {},
   "outputs": [],
   "source": [
    "text_file = text_file_ls[12]"
   ]
  },
  {
   "cell_type": "code",
   "execution_count": 1658,
   "metadata": {},
   "outputs": [],
   "source": [
    "input_file = open(dir_+text_file,'r', encoding='cp949')\n",
    "data = input_file.read()"
   ]
  },
  {
   "cell_type": "code",
   "execution_count": 1659,
   "metadata": {},
   "outputs": [
    {
     "name": "stdout",
     "output_type": "stream",
     "text": [
      "file info : ############ODR-1200#################11경기71바13930000000000000000000000000000\n"
     ]
    }
   ],
   "source": [
    "print(f\"file info : {data[:76]}\")"
   ]
  },
  {
   "cell_type": "code",
   "execution_count": 1660,
   "metadata": {},
   "outputs": [
    {
     "name": "stdout",
     "output_type": "stream",
     "text": [
      "car num : 1393\n"
     ]
    }
   ],
   "source": [
    "print(f\"car num : {data[44:48]}\")"
   ]
  },
  {
   "cell_type": "code",
   "execution_count": 1661,
   "metadata": {},
   "outputs": [
    {
     "name": "stdout",
     "output_type": "stream",
     "text": [
      "row : 51891\n"
     ]
    }
   ],
   "source": [
    "row = int((len(data)-76)/68)\n",
    "print(f\"row : {row}\")"
   ]
  },
  {
   "cell_type": "code",
   "execution_count": 1662,
   "metadata": {},
   "outputs": [
    {
     "name": "stdout",
     "output_type": "stream",
     "text": [
      "total distance : 263(km)\n"
     ]
    }
   ],
   "source": [
    "# 총 주행거리(km)\n",
    "distance = int(data[76+(row-1)*68:144+(row-1)*68][4:11]) - int(data[76+(0)*68:144+(0)*68][4:11])\n",
    "print(f\"total distance : {distance}(km)\")"
   ]
  },
  {
   "cell_type": "code",
   "execution_count": 1663,
   "metadata": {},
   "outputs": [],
   "source": [
    "# 차원 축소 DE : driver_DE_DR_13.npy\n",
    "driving_event_DR = np.load(\"driver_DE_DR_13.npy\")"
   ]
  },
  {
   "cell_type": "code",
   "execution_count": 1664,
   "metadata": {},
   "outputs": [],
   "source": [
    "DE_DR_df = {\n",
    "    'driving event data(30)' : [driving_event_DR[i] for i in range(len(driving_event_DR))],\n",
    "    'idx' : [j for j in range(len(driving_event_DR))]\n",
    "}\n",
    "\n",
    "new_df = pd.DataFrame(DE_DR_df)"
   ]
  },
  {
   "cell_type": "code",
   "execution_count": 1665,
   "metadata": {},
   "outputs": [],
   "source": [
    "# Kmeans predict\n",
    "new_data_scale = scaler.fit_transform(driving_event_DR)\n",
    "\n",
    "new_df['cluster'] = kmeans.predict(new_data_scale)"
   ]
  },
  {
   "cell_type": "code",
   "execution_count": 1666,
   "metadata": {},
   "outputs": [
    {
     "data": {
      "text/plain": [
       "{1, 2, 4, 5, 6, 7}"
      ]
     },
     "execution_count": 1666,
     "metadata": {},
     "output_type": "execute_result"
    }
   ],
   "source": [
    "# 해당하는 cluster 종류\n",
    "set(new_df['cluster'].values)"
   ]
  },
  {
   "cell_type": "code",
   "execution_count": 1667,
   "metadata": {},
   "outputs": [],
   "source": [
    "cluster_dic = {}\n",
    "    \n",
    "for i in range(K_value):\n",
    "    if i not in new_df['cluster'].values:\n",
    "        cluster_dic[f\"cluster_{i}\"] = []\n",
    "    else:\n",
    "        cluster_dic[f\"cluster_{i}\"] = list(new_df.groupby('cluster').get_group(i)['idx'])"
   ]
  },
  {
   "cell_type": "code",
   "execution_count": 1668,
   "metadata": {},
   "outputs": [
    {
     "data": {
      "text/plain": [
       "[0, 20, 1013, 0, 96, 859, 279, 327]"
      ]
     },
     "execution_count": 1668,
     "metadata": {},
     "output_type": "execute_result"
    }
   ],
   "source": [
    "# cluster 별 데이터 개수\n",
    "cluster_data = list(cluster_dic.values())\n",
    "cluster_num = [len(e) for e in cluster_data]\n",
    "cluster_num"
   ]
  },
  {
   "cell_type": "code",
   "execution_count": 1669,
   "metadata": {},
   "outputs": [
    {
     "data": {
      "text/plain": [
       "[12, 8, 2, 12, 12, 4, 2, 4]"
      ]
     },
     "execution_count": 1669,
     "metadata": {},
     "output_type": "execute_result"
    }
   ],
   "source": [
    "# cluster 별 위험도 점수\n",
    "cluster_scores = clusters_eval['dangerousness'].values.flatten().tolist()\n",
    "cluster_scores"
   ]
  },
  {
   "cell_type": "code",
   "execution_count": 1670,
   "metadata": {},
   "outputs": [],
   "source": [
    "# 운전자 스코어링_1 : 점수 부여 방식\n",
    "score_1 = 0\n",
    "for i in range(K_value):\n",
    "    score_1 += cluster_scores[i] * cluster_num[i]"
   ]
  },
  {
   "cell_type": "code",
   "execution_count": 1671,
   "metadata": {},
   "outputs": [
    {
     "data": {
      "text/plain": [
       "[8.15, 10.18, 3.41, 13.14, 8.87, 3.48, 2.59, 3.14]"
      ]
     },
     "execution_count": 1671,
     "metadata": {},
     "output_type": "execute_result"
    }
   ],
   "source": [
    "# cluster 별 엔트로피 점수\n",
    "cluster_scores = clusters_eval_entropy['score(entropy)'].values.flatten().tolist()\n",
    "cluster_scores"
   ]
  },
  {
   "cell_type": "code",
   "execution_count": 1672,
   "metadata": {},
   "outputs": [],
   "source": [
    "# 운전자 스코어링_2 : 엔트로피 가중치 방식\n",
    "score_2 = 0\n",
    "for i in range(K_value):\n",
    "    score_2 += cluster_scores[i] * cluster_num[i]"
   ]
  },
  {
   "cell_type": "code",
   "execution_count": 1673,
   "metadata": {},
   "outputs": [],
   "source": [
    "# 관련성 높은 클러스터\n",
    "related_cluster = sorted(cluster_dic, key=lambda key:len(cluster_dic[key]), reverse=True)"
   ]
  },
  {
   "cell_type": "code",
   "execution_count": 1674,
   "metadata": {},
   "outputs": [
    {
     "name": "stdout",
     "output_type": "stream",
     "text": [
      "DRIVER BEHAVIOR : \n",
      "\n",
      "              cluster_2\n",
      "velocity_eval       Low\n",
      "acc_safety       safety\n",
      "steer_safety     danger\n",
      "\n",
      "\n",
      "              cluster_5\n",
      "velocity_eval       Mid\n",
      "acc_safety       safety\n",
      "steer_safety     danger\n",
      "\n",
      "\n",
      "              cluster_7\n",
      "velocity_eval       Low\n",
      "acc_safety       danger\n",
      "steer_safety     danger\n",
      "\n",
      "\n"
     ]
    }
   ],
   "source": [
    "# 운전자 평가\n",
    "# 기존 평가지표 df에서 cluster 해당 내용 매칭\n",
    "print(\"DRIVER BEHAVIOR : \\n\")\n",
    "for cluster in related_cluster[:3]: # 3위까지\n",
    "    print(pd.DataFrame(clusters_eval.loc[cluster][['velocity_eval', 'acc_safety', 'steer_safety']]))\n",
    "    print(\"\\n\")"
   ]
  },
  {
   "cell_type": "code",
   "execution_count": 1675,
   "metadata": {},
   "outputs": [],
   "source": [
    "# test) cluster 별 위험도 점수 2\n",
    "cluster_scores2 = test_eval['dangerousness'].values.flatten().tolist()\n",
    "\n",
    "score_3 = 0\n",
    "for i in range(K_value):\n",
    "    score_3 += cluster_scores2[i] * cluster_num[i]"
   ]
  },
  {
   "cell_type": "code",
   "execution_count": 1676,
   "metadata": {},
   "outputs": [],
   "source": [
    "driver_13 = {\n",
    "    'score_1' : int(score_1),\n",
    "    'score/km_1' : int(score_1/distance),\n",
    "    'score_2' : int(score_2),\n",
    "    'score/km_2' : int(score_2/distance),\n",
    "    'test_score' : int(score_3),\n",
    "    'test_score/km' : int(score_3/distance),\n",
    "    'related_cluster' : related_cluster\n",
    "}"
   ]
  },
  {
   "cell_type": "markdown",
   "metadata": {},
   "source": [
    "# 운전자 데이터 14\n",
    "- driver_DE_DR_14.npy\n",
    "- '20210701-░ц▒т71╣┘1434-S-01-0000001.txt'"
   ]
  },
  {
   "cell_type": "code",
   "execution_count": 1677,
   "metadata": {},
   "outputs": [],
   "source": [
    "text_file = text_file_ls[13]"
   ]
  },
  {
   "cell_type": "code",
   "execution_count": 1678,
   "metadata": {},
   "outputs": [],
   "source": [
    "input_file = open(dir_+text_file,'r', encoding='cp949')\n",
    "data = input_file.read()"
   ]
  },
  {
   "cell_type": "code",
   "execution_count": 1679,
   "metadata": {},
   "outputs": [
    {
     "name": "stdout",
     "output_type": "stream",
     "text": [
      "file info : ############ODR-1200#################11경기71바14340000000000######Not_00000000\n"
     ]
    }
   ],
   "source": [
    "print(f\"file info : {data[:76]}\")"
   ]
  },
  {
   "cell_type": "code",
   "execution_count": 1680,
   "metadata": {},
   "outputs": [
    {
     "name": "stdout",
     "output_type": "stream",
     "text": [
      "car num : 1434\n"
     ]
    }
   ],
   "source": [
    "print(f\"car num : {data[44:48]}\")"
   ]
  },
  {
   "cell_type": "code",
   "execution_count": 1681,
   "metadata": {},
   "outputs": [
    {
     "name": "stdout",
     "output_type": "stream",
     "text": [
      "row : 48371\n"
     ]
    }
   ],
   "source": [
    "row = int((len(data)-76)/68)\n",
    "print(f\"row : {row}\")"
   ]
  },
  {
   "cell_type": "code",
   "execution_count": 1682,
   "metadata": {},
   "outputs": [
    {
     "name": "stdout",
     "output_type": "stream",
     "text": [
      "total distance : 218(km)\n"
     ]
    }
   ],
   "source": [
    "# 총 주행거리(km)\n",
    "distance = int(data[76+(row-1)*68:144+(row-1)*68][4:11]) - int(data[76+(0)*68:144+(0)*68][4:11])\n",
    "print(f\"total distance : {distance}(km)\")"
   ]
  },
  {
   "cell_type": "code",
   "execution_count": 1683,
   "metadata": {},
   "outputs": [],
   "source": [
    "# 차원 축소 DE : driver_DE_DR_14.npy\n",
    "driving_event_DR = np.load(\"driver_DE_DR_14.npy\")"
   ]
  },
  {
   "cell_type": "code",
   "execution_count": 1684,
   "metadata": {},
   "outputs": [],
   "source": [
    "DE_DR_df = {\n",
    "    'driving event data(30)' : [driving_event_DR[i] for i in range(len(driving_event_DR))],\n",
    "    'idx' : [j for j in range(len(driving_event_DR))]\n",
    "}\n",
    "\n",
    "new_df = pd.DataFrame(DE_DR_df)"
   ]
  },
  {
   "cell_type": "code",
   "execution_count": 1685,
   "metadata": {},
   "outputs": [],
   "source": [
    "# Kmeans predict\n",
    "new_data_scale = scaler.fit_transform(driving_event_DR)\n",
    "\n",
    "new_df['cluster'] = kmeans.predict(new_data_scale)"
   ]
  },
  {
   "cell_type": "code",
   "execution_count": 1686,
   "metadata": {},
   "outputs": [
    {
     "data": {
      "text/plain": [
       "{0, 1, 2, 4, 5, 6, 7}"
      ]
     },
     "execution_count": 1686,
     "metadata": {},
     "output_type": "execute_result"
    }
   ],
   "source": [
    "# 해당하는 cluster 종류\n",
    "set(new_df['cluster'].values)"
   ]
  },
  {
   "cell_type": "code",
   "execution_count": 1687,
   "metadata": {},
   "outputs": [],
   "source": [
    "cluster_dic = {}\n",
    "    \n",
    "for i in range(K_value):\n",
    "    if i not in new_df['cluster'].values:\n",
    "        cluster_dic[f\"cluster_{i}\"] = []\n",
    "    else:\n",
    "        cluster_dic[f\"cluster_{i}\"] = list(new_df.groupby('cluster').get_group(i)['idx'])"
   ]
  },
  {
   "cell_type": "code",
   "execution_count": 1688,
   "metadata": {},
   "outputs": [
    {
     "data": {
      "text/plain": [
       "[23, 91, 236, 0, 11, 167, 1559, 331]"
      ]
     },
     "execution_count": 1688,
     "metadata": {},
     "output_type": "execute_result"
    }
   ],
   "source": [
    "# cluster 별 데이터 개수\n",
    "cluster_data = list(cluster_dic.values())\n",
    "cluster_num = [len(e) for e in cluster_data]\n",
    "cluster_num"
   ]
  },
  {
   "cell_type": "code",
   "execution_count": 1689,
   "metadata": {},
   "outputs": [
    {
     "data": {
      "text/plain": [
       "[12, 8, 2, 12, 12, 4, 2, 4]"
      ]
     },
     "execution_count": 1689,
     "metadata": {},
     "output_type": "execute_result"
    }
   ],
   "source": [
    "# cluster 별 위험도 점수\n",
    "cluster_scores = clusters_eval['dangerousness'].values.flatten().tolist()\n",
    "cluster_scores"
   ]
  },
  {
   "cell_type": "code",
   "execution_count": 1690,
   "metadata": {},
   "outputs": [],
   "source": [
    "# 운전자 스코어링_1 : 점수 부여 방식\n",
    "score_1 = 0\n",
    "for i in range(K_value):\n",
    "    score_1 += cluster_scores[i] * cluster_num[i]"
   ]
  },
  {
   "cell_type": "code",
   "execution_count": 1691,
   "metadata": {},
   "outputs": [
    {
     "data": {
      "text/plain": [
       "[8.15, 10.18, 3.41, 13.14, 8.87, 3.48, 2.59, 3.14]"
      ]
     },
     "execution_count": 1691,
     "metadata": {},
     "output_type": "execute_result"
    }
   ],
   "source": [
    "# cluster 별 엔트로피 점수\n",
    "cluster_scores = clusters_eval_entropy['score(entropy)'].values.flatten().tolist()\n",
    "cluster_scores"
   ]
  },
  {
   "cell_type": "code",
   "execution_count": 1692,
   "metadata": {},
   "outputs": [],
   "source": [
    "# 운전자 스코어링_2 : 엔트로피 가중치 방식\n",
    "score_2 = 0\n",
    "for i in range(K_value):\n",
    "    score_2 += cluster_scores[i] * cluster_num[i]"
   ]
  },
  {
   "cell_type": "code",
   "execution_count": 1693,
   "metadata": {},
   "outputs": [],
   "source": [
    "# 관련성 높은 클러스터\n",
    "related_cluster = sorted(cluster_dic, key=lambda key:len(cluster_dic[key]), reverse=True)"
   ]
  },
  {
   "cell_type": "code",
   "execution_count": 1694,
   "metadata": {},
   "outputs": [
    {
     "name": "stdout",
     "output_type": "stream",
     "text": [
      "DRIVER BEHAVIOR : \n",
      "\n",
      "              cluster_6\n",
      "velocity_eval       Low\n",
      "acc_safety       danger\n",
      "steer_safety     safety\n",
      "\n",
      "\n",
      "              cluster_7\n",
      "velocity_eval       Low\n",
      "acc_safety       danger\n",
      "steer_safety     danger\n",
      "\n",
      "\n",
      "              cluster_2\n",
      "velocity_eval       Low\n",
      "acc_safety       safety\n",
      "steer_safety     danger\n",
      "\n",
      "\n"
     ]
    }
   ],
   "source": [
    "# 운전자 평가\n",
    "# 기존 평가지표 df에서 cluster 해당 내용 매칭\n",
    "print(\"DRIVER BEHAVIOR : \\n\")\n",
    "for cluster in related_cluster[:3]: # 3위까지\n",
    "    print(pd.DataFrame(clusters_eval.loc[cluster][['velocity_eval', 'acc_safety', 'steer_safety']]))\n",
    "    print(\"\\n\")"
   ]
  },
  {
   "cell_type": "code",
   "execution_count": 1695,
   "metadata": {},
   "outputs": [],
   "source": [
    "# test) cluster 별 위험도 점수 2\n",
    "cluster_scores2 = test_eval['dangerousness'].values.flatten().tolist()\n",
    "\n",
    "score_3 = 0\n",
    "for i in range(K_value):\n",
    "    score_3 += cluster_scores2[i] * cluster_num[i]"
   ]
  },
  {
   "cell_type": "code",
   "execution_count": 1696,
   "metadata": {},
   "outputs": [],
   "source": [
    "driver_14 = {\n",
    "    'score_1' : int(score_1),\n",
    "    'score/km_1' : int(score_1/distance),\n",
    "    'score_2' : int(score_2),\n",
    "    'score/km_2' : int(score_2/distance),\n",
    "    'test_score' : int(score_3),\n",
    "    'test_score/km' : int(score_3/distance),\n",
    "    'related_cluster' : related_cluster\n",
    "}"
   ]
  },
  {
   "cell_type": "markdown",
   "metadata": {},
   "source": [
    "# 운전자 데이터 15\n",
    "- driver_DE_DR_15.npy\n",
    "- '20210701-░ц▒т71╣┘1584-S-01-0000001.txt'"
   ]
  },
  {
   "cell_type": "code",
   "execution_count": 1697,
   "metadata": {},
   "outputs": [],
   "source": [
    "text_file = text_file_ls[14]"
   ]
  },
  {
   "cell_type": "code",
   "execution_count": 1698,
   "metadata": {},
   "outputs": [],
   "source": [
    "input_file = open(dir_+text_file,'r', encoding='cp949')\n",
    "data = input_file.read()"
   ]
  },
  {
   "cell_type": "code",
   "execution_count": 1699,
   "metadata": {},
   "outputs": [
    {
     "name": "stdout",
     "output_type": "stream",
     "text": [
      "file info : ############GNC-2000KMJTA18GP7C01274711경기71바15841238106591000000000000000000\n"
     ]
    }
   ],
   "source": [
    "print(f\"file info : {data[:76]}\")"
   ]
  },
  {
   "cell_type": "code",
   "execution_count": 1700,
   "metadata": {},
   "outputs": [
    {
     "name": "stdout",
     "output_type": "stream",
     "text": [
      "car num : 1584\n"
     ]
    }
   ],
   "source": [
    "print(f\"car num : {data[44:48]}\")"
   ]
  },
  {
   "cell_type": "code",
   "execution_count": 1701,
   "metadata": {},
   "outputs": [
    {
     "name": "stdout",
     "output_type": "stream",
     "text": [
      "row : 56123\n"
     ]
    }
   ],
   "source": [
    "row = int((len(data)-76)/68)\n",
    "print(f\"row : {row}\")"
   ]
  },
  {
   "cell_type": "code",
   "execution_count": 1702,
   "metadata": {},
   "outputs": [
    {
     "name": "stdout",
     "output_type": "stream",
     "text": [
      "total distance : 538(km)\n"
     ]
    }
   ],
   "source": [
    "# 총 주행거리(km)\n",
    "distance = int(data[76+(row-1)*68:144+(row-1)*68][4:11]) - int(data[76+(0)*68:144+(0)*68][4:11])\n",
    "print(f\"total distance : {distance}(km)\")"
   ]
  },
  {
   "cell_type": "code",
   "execution_count": 1703,
   "metadata": {},
   "outputs": [],
   "source": [
    "# 차원 축소 DE : driver_DE_DR_15.npy\n",
    "driving_event_DR = np.load(\"driver_DE_DR_15.npy\")"
   ]
  },
  {
   "cell_type": "code",
   "execution_count": 1704,
   "metadata": {},
   "outputs": [],
   "source": [
    "DE_DR_df = {\n",
    "    'driving event data(30)' : [driving_event_DR[i] for i in range(len(driving_event_DR))],\n",
    "    'idx' : [j for j in range(len(driving_event_DR))]\n",
    "}\n",
    "\n",
    "new_df = pd.DataFrame(DE_DR_df)"
   ]
  },
  {
   "cell_type": "code",
   "execution_count": 1705,
   "metadata": {},
   "outputs": [],
   "source": [
    "# Kmeans predict\n",
    "new_data_scale = scaler.fit_transform(driving_event_DR)\n",
    "\n",
    "new_df['cluster'] = kmeans.predict(new_data_scale)"
   ]
  },
  {
   "cell_type": "code",
   "execution_count": 1706,
   "metadata": {},
   "outputs": [
    {
     "data": {
      "text/plain": [
       "{0, 1, 2, 4, 5, 6, 7}"
      ]
     },
     "execution_count": 1706,
     "metadata": {},
     "output_type": "execute_result"
    }
   ],
   "source": [
    "# 해당하는 cluster 종류\n",
    "set(new_df['cluster'].values)"
   ]
  },
  {
   "cell_type": "code",
   "execution_count": 1707,
   "metadata": {},
   "outputs": [],
   "source": [
    "cluster_dic = {}\n",
    "    \n",
    "for i in range(K_value):\n",
    "    if i not in new_df['cluster'].values:\n",
    "        cluster_dic[f\"cluster_{i}\"] = []\n",
    "    else:\n",
    "        cluster_dic[f\"cluster_{i}\"] = list(new_df.groupby('cluster').get_group(i)['idx'])"
   ]
  },
  {
   "cell_type": "code",
   "execution_count": 1708,
   "metadata": {},
   "outputs": [
    {
     "data": {
      "text/plain": [
       "[5, 12, 258, 0, 19, 1714, 751, 47]"
      ]
     },
     "execution_count": 1708,
     "metadata": {},
     "output_type": "execute_result"
    }
   ],
   "source": [
    "# cluster 별 데이터 개수\n",
    "cluster_data = list(cluster_dic.values())\n",
    "cluster_num = [len(e) for e in cluster_data]\n",
    "cluster_num"
   ]
  },
  {
   "cell_type": "code",
   "execution_count": 1709,
   "metadata": {},
   "outputs": [
    {
     "data": {
      "text/plain": [
       "[12, 8, 2, 12, 12, 4, 2, 4]"
      ]
     },
     "execution_count": 1709,
     "metadata": {},
     "output_type": "execute_result"
    }
   ],
   "source": [
    "# cluster 별 위험도 점수\n",
    "cluster_scores = clusters_eval['dangerousness'].values.flatten().tolist()\n",
    "cluster_scores"
   ]
  },
  {
   "cell_type": "code",
   "execution_count": 1710,
   "metadata": {},
   "outputs": [],
   "source": [
    "# 운전자 스코어링_1 : 점수 부여 방식\n",
    "score_1 = 0\n",
    "for i in range(K_value):\n",
    "    score_1 += cluster_scores[i] * cluster_num[i]"
   ]
  },
  {
   "cell_type": "code",
   "execution_count": 1711,
   "metadata": {},
   "outputs": [
    {
     "data": {
      "text/plain": [
       "[8.15, 10.18, 3.41, 13.14, 8.87, 3.48, 2.59, 3.14]"
      ]
     },
     "execution_count": 1711,
     "metadata": {},
     "output_type": "execute_result"
    }
   ],
   "source": [
    "# cluster 별 엔트로피 점수\n",
    "cluster_scores = clusters_eval_entropy['score(entropy)'].values.flatten().tolist()\n",
    "cluster_scores"
   ]
  },
  {
   "cell_type": "code",
   "execution_count": 1712,
   "metadata": {},
   "outputs": [],
   "source": [
    "# 운전자 스코어링_2 : 엔트로피 가중치 방식\n",
    "score_2 = 0\n",
    "for i in range(K_value):\n",
    "    score_2 += cluster_scores[i] * cluster_num[i]"
   ]
  },
  {
   "cell_type": "code",
   "execution_count": 1713,
   "metadata": {},
   "outputs": [],
   "source": [
    "# 관련성 높은 클러스터\n",
    "related_cluster = sorted(cluster_dic, key=lambda key:len(cluster_dic[key]), reverse=True)"
   ]
  },
  {
   "cell_type": "code",
   "execution_count": 1714,
   "metadata": {},
   "outputs": [
    {
     "name": "stdout",
     "output_type": "stream",
     "text": [
      "DRIVER BEHAVIOR : \n",
      "\n",
      "              cluster_5\n",
      "velocity_eval       Mid\n",
      "acc_safety       safety\n",
      "steer_safety     danger\n",
      "\n",
      "\n",
      "              cluster_6\n",
      "velocity_eval       Low\n",
      "acc_safety       danger\n",
      "steer_safety     safety\n",
      "\n",
      "\n",
      "              cluster_2\n",
      "velocity_eval       Low\n",
      "acc_safety       safety\n",
      "steer_safety     danger\n",
      "\n",
      "\n"
     ]
    }
   ],
   "source": [
    "# 운전자 평가\n",
    "# 기존 평가지표 df에서 cluster 해당 내용 매칭\n",
    "print(\"DRIVER BEHAVIOR : \\n\")\n",
    "for cluster in related_cluster[:3]: # 3위까지\n",
    "    print(pd.DataFrame(clusters_eval.loc[cluster][['velocity_eval', 'acc_safety', 'steer_safety']]))\n",
    "    print(\"\\n\")"
   ]
  },
  {
   "cell_type": "code",
   "execution_count": 1715,
   "metadata": {},
   "outputs": [],
   "source": [
    "# test) cluster 별 위험도 점수 2\n",
    "cluster_scores2 = test_eval['dangerousness'].values.flatten().tolist()\n",
    "\n",
    "score_3 = 0\n",
    "for i in range(K_value):\n",
    "    score_3 += cluster_scores2[i] * cluster_num[i]"
   ]
  },
  {
   "cell_type": "code",
   "execution_count": 1716,
   "metadata": {},
   "outputs": [],
   "source": [
    "driver_15 = {\n",
    "    'score_1' : int(score_1),\n",
    "    'score/km_1' : int(score_1/distance),\n",
    "    'score_2' : int(score_2),\n",
    "    'score/km_2' : int(score_2/distance),\n",
    "    'test_score' : int(score_3),\n",
    "    'test_score/km' : int(score_3/distance),\n",
    "    'related_cluster' : related_cluster\n",
    "}"
   ]
  },
  {
   "cell_type": "code",
   "execution_count": null,
   "metadata": {},
   "outputs": [],
   "source": []
  },
  {
   "cell_type": "code",
   "execution_count": null,
   "metadata": {},
   "outputs": [],
   "source": []
  },
  {
   "cell_type": "markdown",
   "metadata": {},
   "source": [
    "# 운전자 데이터 12\n",
    "- driver_DE_DR_12.npy\n",
    "- '20210701-░ц▒т71╣┘1372-S-01-0000001.txt'"
   ]
  },
  {
   "cell_type": "code",
   "execution_count": 1717,
   "metadata": {},
   "outputs": [],
   "source": [
    "text_file = text_file_ls[11]"
   ]
  },
  {
   "cell_type": "code",
   "execution_count": 1718,
   "metadata": {},
   "outputs": [],
   "source": [
    "input_file = open(dir_+text_file,'r', encoding='cp949')\n",
    "data = input_file.read()"
   ]
  },
  {
   "cell_type": "code",
   "execution_count": 1719,
   "metadata": {},
   "outputs": [
    {
     "name": "stdout",
     "output_type": "stream",
     "text": [
      "file info : ############ODR-12001111111111111111111경기71바13720000000000######Not_00000000\n"
     ]
    }
   ],
   "source": [
    "print(f\"file info : {data[:76]}\")"
   ]
  },
  {
   "cell_type": "code",
   "execution_count": 1720,
   "metadata": {},
   "outputs": [
    {
     "name": "stdout",
     "output_type": "stream",
     "text": [
      "car num : 1372\n"
     ]
    }
   ],
   "source": [
    "print(f\"car num : {data[44:48]}\")"
   ]
  },
  {
   "cell_type": "code",
   "execution_count": 1721,
   "metadata": {},
   "outputs": [
    {
     "name": "stdout",
     "output_type": "stream",
     "text": [
      "row : 52853\n"
     ]
    }
   ],
   "source": [
    "row = int((len(data)-76)/68)\n",
    "print(f\"row : {row}\")"
   ]
  },
  {
   "cell_type": "code",
   "execution_count": 1722,
   "metadata": {},
   "outputs": [
    {
     "name": "stdout",
     "output_type": "stream",
     "text": [
      "total distance : 204(km)\n"
     ]
    }
   ],
   "source": [
    "# 총 주행거리(km)\n",
    "distance = int(data[76+(row-1)*68:144+(row-1)*68][4:11]) - int(data[76+(0)*68:144+(0)*68][4:11])\n",
    "print(f\"total distance : {distance}(km)\")"
   ]
  },
  {
   "cell_type": "code",
   "execution_count": 1723,
   "metadata": {},
   "outputs": [],
   "source": [
    "# 차원 축소 DE : driver_DE_DR_12.npy\n",
    "driving_event_DR = np.load(\"driver_DE_DR_12.npy\")"
   ]
  },
  {
   "cell_type": "code",
   "execution_count": 1724,
   "metadata": {},
   "outputs": [],
   "source": [
    "DE_DR_df = {\n",
    "    'driving event data(30)' : [driving_event_DR[i] for i in range(len(driving_event_DR))],\n",
    "    'idx' : [j for j in range(len(driving_event_DR))]\n",
    "}\n",
    "\n",
    "new_df = pd.DataFrame(DE_DR_df)"
   ]
  },
  {
   "cell_type": "code",
   "execution_count": 1725,
   "metadata": {},
   "outputs": [],
   "source": [
    "# Kmeans predict\n",
    "new_data_scale = scaler.fit_transform(driving_event_DR)\n",
    "\n",
    "new_df['cluster'] = kmeans.predict(new_data_scale)"
   ]
  },
  {
   "cell_type": "code",
   "execution_count": 1726,
   "metadata": {},
   "outputs": [
    {
     "data": {
      "text/plain": [
       "{0, 1, 2, 4, 5, 6, 7}"
      ]
     },
     "execution_count": 1726,
     "metadata": {},
     "output_type": "execute_result"
    }
   ],
   "source": [
    "# 해당하는 cluster 종류\n",
    "set(new_df['cluster'].values)"
   ]
  },
  {
   "cell_type": "code",
   "execution_count": 1727,
   "metadata": {},
   "outputs": [],
   "source": [
    "cluster_dic = {}\n",
    "    \n",
    "for i in range(K_value):\n",
    "    if i not in new_df['cluster'].values:\n",
    "        cluster_dic[f\"cluster_{i}\"] = []\n",
    "    else:\n",
    "        cluster_dic[f\"cluster_{i}\"] = list(new_df.groupby('cluster').get_group(i)['idx'])"
   ]
  },
  {
   "cell_type": "code",
   "execution_count": 1728,
   "metadata": {},
   "outputs": [
    {
     "data": {
      "text/plain": [
       "[2, 30, 1897, 0, 4, 354, 78, 277]"
      ]
     },
     "execution_count": 1728,
     "metadata": {},
     "output_type": "execute_result"
    }
   ],
   "source": [
    "# cluster 별 데이터 개수\n",
    "cluster_data = list(cluster_dic.values())\n",
    "cluster_num = [len(e) for e in cluster_data]\n",
    "cluster_num"
   ]
  },
  {
   "cell_type": "code",
   "execution_count": 1729,
   "metadata": {},
   "outputs": [
    {
     "data": {
      "text/plain": [
       "[12, 8, 2, 12, 12, 4, 2, 4]"
      ]
     },
     "execution_count": 1729,
     "metadata": {},
     "output_type": "execute_result"
    }
   ],
   "source": [
    "# cluster 별 위험도 점수\n",
    "cluster_scores = clusters_eval['dangerousness'].values.flatten().tolist()\n",
    "cluster_scores"
   ]
  },
  {
   "cell_type": "code",
   "execution_count": 1730,
   "metadata": {},
   "outputs": [],
   "source": [
    "# 운전자 스코어링_1 : 점수 부여 방식\n",
    "score_1 = 0\n",
    "for i in range(K_value):\n",
    "    score_1 += cluster_scores[i] * cluster_num[i]"
   ]
  },
  {
   "cell_type": "code",
   "execution_count": 1731,
   "metadata": {},
   "outputs": [
    {
     "data": {
      "text/plain": [
       "[8.15, 10.18, 3.41, 13.14, 8.87, 3.48, 2.59, 3.14]"
      ]
     },
     "execution_count": 1731,
     "metadata": {},
     "output_type": "execute_result"
    }
   ],
   "source": [
    "# cluster 별 엔트로피 점수\n",
    "cluster_scores = clusters_eval_entropy['score(entropy)'].values.flatten().tolist()\n",
    "cluster_scores"
   ]
  },
  {
   "cell_type": "code",
   "execution_count": 1732,
   "metadata": {},
   "outputs": [],
   "source": [
    "# 운전자 스코어링_2 : 엔트로피 가중치 방식\n",
    "score_2 = 0\n",
    "for i in range(K_value):\n",
    "    score_2 += cluster_scores[i] * cluster_num[i]"
   ]
  },
  {
   "cell_type": "code",
   "execution_count": 1733,
   "metadata": {},
   "outputs": [],
   "source": [
    "# 관련성 높은 클러스터\n",
    "related_cluster = sorted(cluster_dic, key=lambda key:len(cluster_dic[key]), reverse=True)"
   ]
  },
  {
   "cell_type": "code",
   "execution_count": 1734,
   "metadata": {},
   "outputs": [
    {
     "name": "stdout",
     "output_type": "stream",
     "text": [
      "DRIVER BEHAVIOR : \n",
      "\n",
      "              cluster_2\n",
      "velocity_eval       Low\n",
      "acc_safety       safety\n",
      "steer_safety     danger\n",
      "\n",
      "\n",
      "              cluster_5\n",
      "velocity_eval       Mid\n",
      "acc_safety       safety\n",
      "steer_safety     danger\n",
      "\n",
      "\n",
      "              cluster_7\n",
      "velocity_eval       Low\n",
      "acc_safety       danger\n",
      "steer_safety     danger\n",
      "\n",
      "\n"
     ]
    }
   ],
   "source": [
    "# 운전자 평가\n",
    "# 기존 평가지표 df에서 cluster 해당 내용 매칭\n",
    "print(\"DRIVER BEHAVIOR : \\n\")\n",
    "for cluster in related_cluster[:3]: # 3위까지\n",
    "    print(pd.DataFrame(clusters_eval.loc[cluster][['velocity_eval', 'acc_safety', 'steer_safety']]))\n",
    "    print(\"\\n\")"
   ]
  },
  {
   "cell_type": "code",
   "execution_count": 1735,
   "metadata": {},
   "outputs": [],
   "source": [
    "# test) cluster 별 위험도 점수 2\n",
    "cluster_scores2 = test_eval['dangerousness'].values.flatten().tolist()\n",
    "\n",
    "score_3 = 0\n",
    "for i in range(K_value):\n",
    "    score_3 += cluster_scores2[i] * cluster_num[i]"
   ]
  },
  {
   "cell_type": "code",
   "execution_count": 1736,
   "metadata": {},
   "outputs": [],
   "source": [
    "driver_12 = {\n",
    "    'score_1' : int(score_1),\n",
    "    'score/km_1' : int(score_1/distance),\n",
    "    'score_2' : int(score_2),\n",
    "    'score/km_2' : int(score_2/distance),\n",
    "    'test_score' : int(score_3),\n",
    "    'test_score/km' : int(score_3/distance),\n",
    "    'related_cluster' : related_cluster\n",
    "}"
   ]
  },
  {
   "cell_type": "code",
   "execution_count": null,
   "metadata": {},
   "outputs": [],
   "source": []
  },
  {
   "cell_type": "code",
   "execution_count": null,
   "metadata": {},
   "outputs": [],
   "source": []
  },
  {
   "cell_type": "code",
   "execution_count": null,
   "metadata": {},
   "outputs": [],
   "source": []
  },
  {
   "cell_type": "code",
   "execution_count": null,
   "metadata": {},
   "outputs": [],
   "source": []
  },
  {
   "cell_type": "markdown",
   "metadata": {},
   "source": [
    "# 운전자 평가 결과 비교"
   ]
  },
  {
   "cell_type": "code",
   "execution_count": 1737,
   "metadata": {},
   "outputs": [],
   "source": [
    "driver_ls = [driver_1, driver_2, driver_3, driver_4, driver_5, driver_6, driver_7, driver_8, \\\n",
    "             driver_9, driver_10, driver_11, driver_12, driver_13, driver_14, driver_15]"
   ]
  },
  {
   "cell_type": "code",
   "execution_count": 1738,
   "metadata": {},
   "outputs": [
    {
     "name": "stdout",
     "output_type": "stream",
     "text": [
      "[DRIVER 1]\n",
      "SCORE 1 : 6740      |      SCORE 1 PER KM : 28\n",
      "SCORE 2 : 8297      |      SCORE 2 PER KM : 35\n",
      "TEST SCORE : 4640   |   TEST SCORE PER KM : 19\n",
      "\n",
      "[DRIVER 2]\n",
      "SCORE 1 : 6408      |      SCORE 1 PER KM : 27\n",
      "SCORE 2 : 8123      |      SCORE 2 PER KM : 34\n",
      "TEST SCORE : 4409   |   TEST SCORE PER KM : 18\n",
      "\n",
      "[DRIVER 3]\n",
      "SCORE 1 : 6548      |      SCORE 1 PER KM : 25\n",
      "SCORE 2 : 7766      |      SCORE 2 PER KM : 30\n",
      "TEST SCORE : 4401   |   TEST SCORE PER KM : 17\n",
      "\n",
      "[DRIVER 4]\n",
      "SCORE 1 : 7342      |      SCORE 1 PER KM : 33\n",
      "SCORE 2 : 9138      |      SCORE 2 PER KM : 41\n",
      "TEST SCORE : 5499   |   TEST SCORE PER KM : 24\n",
      "\n",
      "[DRIVER 5]\n",
      "SCORE 1 : 24482      |      SCORE 1 PER KM : 89\n",
      "SCORE 2 : 19077      |      SCORE 2 PER KM : 69\n",
      "TEST SCORE : 13315   |   TEST SCORE PER KM : 48\n",
      "\n",
      "[DRIVER 6]\n",
      "SCORE 1 : 7742      |      SCORE 1 PER KM : 34\n",
      "SCORE 2 : 8332      |      SCORE 2 PER KM : 36\n",
      "TEST SCORE : 8680   |   TEST SCORE PER KM : 38\n",
      "\n",
      "[DRIVER 7]\n",
      "SCORE 1 : 15550      |      SCORE 1 PER KM : 67\n",
      "SCORE 2 : 12769      |      SCORE 2 PER KM : 55\n",
      "TEST SCORE : 9801   |   TEST SCORE PER KM : 42\n",
      "\n",
      "[DRIVER 8]\n",
      "SCORE 1 : 7076      |      SCORE 1 PER KM : 27\n",
      "SCORE 2 : 8066      |      SCORE 2 PER KM : 31\n",
      "TEST SCORE : 4805   |   TEST SCORE PER KM : 18\n",
      "\n",
      "[DRIVER 9]\n",
      "SCORE 1 : 6464      |      SCORE 1 PER KM : 25\n",
      "SCORE 2 : 7470      |      SCORE 2 PER KM : 29\n",
      "TEST SCORE : 4109   |   TEST SCORE PER KM : 16\n",
      "\n",
      "[DRIVER 10]\n",
      "SCORE 1 : 7718      |      SCORE 1 PER KM : 31\n",
      "SCORE 2 : 8267      |      SCORE 2 PER KM : 34\n",
      "TEST SCORE : 5239   |   TEST SCORE PER KM : 21\n",
      "\n",
      "[DRIVER 11]\n",
      "SCORE 1 : 9656      |      SCORE 1 PER KM : 41\n",
      "SCORE 2 : 8991      |      SCORE 2 PER KM : 38\n",
      "TEST SCORE : 12376   |   TEST SCORE PER KM : 52\n",
      "\n",
      "[DRIVER 12]\n",
      "SCORE 1 : 6786      |      SCORE 1 PER KM : 33\n",
      "SCORE 2 : 9129      |      SCORE 2 PER KM : 44\n",
      "TEST SCORE : 7522   |   TEST SCORE PER KM : 36\n",
      "\n",
      "[DRIVER 13]\n",
      "SCORE 1 : 8640      |      SCORE 1 PER KM : 32\n",
      "SCORE 2 : 9248      |      SCORE 2 PER KM : 35\n",
      "TEST SCORE : 10279   |   TEST SCORE PER KM : 39\n",
      "\n",
      "[DRIVER 14]\n",
      "SCORE 1 : 6718      |      SCORE 1 PER KM : 30\n",
      "SCORE 2 : 7674      |      SCORE 2 PER KM : 35\n",
      "TEST SCORE : 4928   |   TEST SCORE PER KM : 22\n",
      "\n",
      "[DRIVER 15]\n",
      "SCORE 1 : 9446      |      SCORE 1 PER KM : 17\n",
      "SCORE 2 : 9268      |      SCORE 2 PER KM : 17\n",
      "TEST SCORE : 15256   |   TEST SCORE PER KM : 28\n",
      "\n"
     ]
    }
   ],
   "source": [
    "for i in range(len(driver_ls)):\n",
    "    print(f\"\\\n",
    "[DRIVER {i+1}]\\n\\\n",
    "SCORE 1 : {driver_ls[i]['score_1']}      |      \\\n",
    "SCORE 1 PER KM : {driver_ls[i]['score/km_1']}\\n\\\n",
    "SCORE 2 : {driver_ls[i]['score_2']}      |      \\\n",
    "SCORE 2 PER KM : {driver_ls[i]['score/km_2']}\\n\\\n",
    "TEST SCORE : {driver_ls[i]['test_score']}   |   \\\n",
    "TEST SCORE PER KM : {driver_ls[i]['test_score/km']}\\n\")"
   ]
  },
  {
   "cell_type": "code",
   "execution_count": null,
   "metadata": {},
   "outputs": [],
   "source": []
  }
 ],
 "metadata": {
  "kernelspec": {
   "display_name": "Python 3 (ipykernel)",
   "language": "python",
   "name": "python3"
  },
  "language_info": {
   "codemirror_mode": {
    "name": "ipython",
    "version": 3
   },
   "file_extension": ".py",
   "mimetype": "text/x-python",
   "name": "python",
   "nbconvert_exporter": "python",
   "pygments_lexer": "ipython3",
   "version": "3.9.7"
  },
  "metadata": {
   "interpreter": {
    "hash": "916dbcbb3f70747c44a77c7bcd40155683ae19c65e1c03b4aa3499c5328201f1"
   }
  },
  "vscode": {
   "interpreter": {
    "hash": "aee8b7b246df8f9039afb4144a1f6fd8d2ca17a180786b69acc140d282b71a49"
   }
  }
 },
 "nbformat": 4,
 "nbformat_minor": 2
}
